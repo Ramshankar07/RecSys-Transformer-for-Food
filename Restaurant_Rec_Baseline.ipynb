{
  "metadata": {
    "kernelspec": {
      "language": "python",
      "display_name": "Python 3",
      "name": "python3"
    },
    "language_info": {
      "name": "python",
      "version": "3.7.12",
      "mimetype": "text/x-python",
      "codemirror_mode": {
        "name": "ipython",
        "version": 3
      },
      "pygments_lexer": "ipython3",
      "nbconvert_exporter": "python",
      "file_extension": ".py"
    },
    "colab": {
      "provenance": []
    },
    "accelerator": "GPU",
    "gpuClass": "standard"
  },
  "nbformat_minor": 0,
  "nbformat": 4,
  "cells": [
    {
      "cell_type": "markdown",
      "source": [
        "## This Python 3 environment comes with many helpful analytics libraries installed\n",
        "# It is defined by the kaggle/python Docker image: https://github.com/kaggle/docker-python\n",
        "# For example, here's several helpful packages to load\n",
        "\n",
        "import numpy as np # linear algebra\n",
        "import pandas as pd # data processing, CSV file I/O (e.g. pd.read_csv)\n",
        "\n",
        "# Input data files are available in the read-only \"../input/\" directory\n",
        "# For example, running this (by clicking run or pressing Shift+Enter) will list all files under the input directory\n",
        "\n",
        "import os\n",
        "for dirname, _, filenames in os.walk('/kaggle/input'):\n",
        "    for filename in filenames:\n",
        "        print(os.path.join(dirname, filename))\n",
        "\n",
        "# You can write up to 20GB to the current directory (/kaggle/working/) that gets preserved as output when you create a version using \"Save & Run All\" \n",
        "# You can also write temporary files to /kaggle/temp/, but they won't be saved outside of the current session"
      ],
      "metadata": {
        "_uuid": "8f2839f25d086af736a60e9eeb907d3b93b6e0e5",
        "_cell_guid": "b1076dfc-b9ad-4769-8c92-a6c4dae69d19",
        "execution": {
          "iopub.status.busy": "2022-12-10T05:14:34.820425Z",
          "iopub.execute_input": "2022-12-10T05:14:34.820825Z",
          "iopub.status.idle": "2022-12-10T05:14:34.854095Z",
          "shell.execute_reply.started": "2022-12-10T05:14:34.820736Z",
          "shell.execute_reply": "2022-12-10T05:14:34.852938Z"
        },
        "id": "lwohlIYZku1c"
      }
    },
    {
      "cell_type": "code",
      "source": [
        "!pip install tensorflow-ranking"
      ],
      "metadata": {
        "execution": {
          "iopub.status.busy": "2022-12-11T23:34:27.312651Z",
          "iopub.execute_input": "2022-12-11T23:34:27.313154Z",
          "iopub.status.idle": "2022-12-11T23:35:39.330492Z",
          "shell.execute_reply.started": "2022-12-11T23:34:27.313111Z",
          "shell.execute_reply": "2022-12-11T23:35:39.323261Z"
        },
        "trusted": true,
        "colab": {
          "base_uri": "https://localhost:8080/"
        },
        "id": "-MrK1ygTku14",
        "outputId": "0ba8f05d-096a-4a30-cc3d-f9d8a8f10f9f"
      },
      "execution_count": null,
      "outputs": [
        {
          "output_type": "stream",
          "name": "stdout",
          "text": [
            "Looking in indexes: https://pypi.org/simple, https://us-python.pkg.dev/colab-wheels/public/simple/\n",
            "Requirement already satisfied: tensorflow-ranking in /usr/local/lib/python3.8/dist-packages (0.5.1)\n",
            "Requirement already satisfied: numpy>=1.13.3 in /usr/local/lib/python3.8/dist-packages (from tensorflow-ranking) (1.21.6)\n",
            "Requirement already satisfied: six>=1.10.0 in /usr/local/lib/python3.8/dist-packages (from tensorflow-ranking) (1.15.0)\n",
            "Requirement already satisfied: absl-py>=0.1.6 in /usr/local/lib/python3.8/dist-packages (from tensorflow-ranking) (1.3.0)\n",
            "Requirement already satisfied: tensorflow-serving-api<3.0.0,>=2.0.0 in /usr/local/lib/python3.8/dist-packages (from tensorflow-ranking) (2.11.0)\n",
            "Requirement already satisfied: grpcio<2.0,>=1.24.3 in /usr/local/lib/python3.8/dist-packages (from tensorflow-serving-api<3.0.0,>=2.0.0->tensorflow-ranking) (1.51.1)\n",
            "Requirement already satisfied: protobuf<3.20,>=3.9.2 in /usr/local/lib/python3.8/dist-packages (from tensorflow-serving-api<3.0.0,>=2.0.0->tensorflow-ranking) (3.19.6)\n",
            "Requirement already satisfied: tensorflow<3,>=2.11.0 in /usr/local/lib/python3.8/dist-packages (from tensorflow-serving-api<3.0.0,>=2.0.0->tensorflow-ranking) (2.11.0)\n",
            "Requirement already satisfied: flatbuffers>=2.0 in /usr/local/lib/python3.8/dist-packages (from tensorflow<3,>=2.11.0->tensorflow-serving-api<3.0.0,>=2.0.0->tensorflow-ranking) (22.12.6)\n",
            "Requirement already satisfied: libclang>=13.0.0 in /usr/local/lib/python3.8/dist-packages (from tensorflow<3,>=2.11.0->tensorflow-serving-api<3.0.0,>=2.0.0->tensorflow-ranking) (14.0.6)\n",
            "Requirement already satisfied: setuptools in /usr/local/lib/python3.8/dist-packages (from tensorflow<3,>=2.11.0->tensorflow-serving-api<3.0.0,>=2.0.0->tensorflow-ranking) (57.4.0)\n",
            "Requirement already satisfied: gast<=0.4.0,>=0.2.1 in /usr/local/lib/python3.8/dist-packages (from tensorflow<3,>=2.11.0->tensorflow-serving-api<3.0.0,>=2.0.0->tensorflow-ranking) (0.4.0)\n",
            "Requirement already satisfied: h5py>=2.9.0 in /usr/local/lib/python3.8/dist-packages (from tensorflow<3,>=2.11.0->tensorflow-serving-api<3.0.0,>=2.0.0->tensorflow-ranking) (3.1.0)\n",
            "Requirement already satisfied: keras<2.12,>=2.11.0 in /usr/local/lib/python3.8/dist-packages (from tensorflow<3,>=2.11.0->tensorflow-serving-api<3.0.0,>=2.0.0->tensorflow-ranking) (2.11.0)\n",
            "Requirement already satisfied: typing-extensions>=3.6.6 in /usr/local/lib/python3.8/dist-packages (from tensorflow<3,>=2.11.0->tensorflow-serving-api<3.0.0,>=2.0.0->tensorflow-ranking) (4.4.0)\n",
            "Requirement already satisfied: opt-einsum>=2.3.2 in /usr/local/lib/python3.8/dist-packages (from tensorflow<3,>=2.11.0->tensorflow-serving-api<3.0.0,>=2.0.0->tensorflow-ranking) (3.3.0)\n",
            "Requirement already satisfied: tensorflow-estimator<2.12,>=2.11.0 in /usr/local/lib/python3.8/dist-packages (from tensorflow<3,>=2.11.0->tensorflow-serving-api<3.0.0,>=2.0.0->tensorflow-ranking) (2.11.0)\n",
            "Requirement already satisfied: tensorflow-io-gcs-filesystem>=0.23.1 in /usr/local/lib/python3.8/dist-packages (from tensorflow<3,>=2.11.0->tensorflow-serving-api<3.0.0,>=2.0.0->tensorflow-ranking) (0.28.0)\n",
            "Requirement already satisfied: wrapt>=1.11.0 in /usr/local/lib/python3.8/dist-packages (from tensorflow<3,>=2.11.0->tensorflow-serving-api<3.0.0,>=2.0.0->tensorflow-ranking) (1.14.1)\n",
            "Requirement already satisfied: google-pasta>=0.1.1 in /usr/local/lib/python3.8/dist-packages (from tensorflow<3,>=2.11.0->tensorflow-serving-api<3.0.0,>=2.0.0->tensorflow-ranking) (0.2.0)\n",
            "Requirement already satisfied: termcolor>=1.1.0 in /usr/local/lib/python3.8/dist-packages (from tensorflow<3,>=2.11.0->tensorflow-serving-api<3.0.0,>=2.0.0->tensorflow-ranking) (2.1.1)\n",
            "Requirement already satisfied: tensorboard<2.12,>=2.11 in /usr/local/lib/python3.8/dist-packages (from tensorflow<3,>=2.11.0->tensorflow-serving-api<3.0.0,>=2.0.0->tensorflow-ranking) (2.11.0)\n",
            "Requirement already satisfied: astunparse>=1.6.0 in /usr/local/lib/python3.8/dist-packages (from tensorflow<3,>=2.11.0->tensorflow-serving-api<3.0.0,>=2.0.0->tensorflow-ranking) (1.6.3)\n",
            "Requirement already satisfied: packaging in /usr/local/lib/python3.8/dist-packages (from tensorflow<3,>=2.11.0->tensorflow-serving-api<3.0.0,>=2.0.0->tensorflow-ranking) (21.3)\n",
            "Requirement already satisfied: wheel<1.0,>=0.23.0 in /usr/local/lib/python3.8/dist-packages (from astunparse>=1.6.0->tensorflow<3,>=2.11.0->tensorflow-serving-api<3.0.0,>=2.0.0->tensorflow-ranking) (0.38.4)\n",
            "Requirement already satisfied: tensorboard-data-server<0.7.0,>=0.6.0 in /usr/local/lib/python3.8/dist-packages (from tensorboard<2.12,>=2.11->tensorflow<3,>=2.11.0->tensorflow-serving-api<3.0.0,>=2.0.0->tensorflow-ranking) (0.6.1)\n",
            "Requirement already satisfied: google-auth-oauthlib<0.5,>=0.4.1 in /usr/local/lib/python3.8/dist-packages (from tensorboard<2.12,>=2.11->tensorflow<3,>=2.11.0->tensorflow-serving-api<3.0.0,>=2.0.0->tensorflow-ranking) (0.4.6)\n",
            "Requirement already satisfied: werkzeug>=1.0.1 in /usr/local/lib/python3.8/dist-packages (from tensorboard<2.12,>=2.11->tensorflow<3,>=2.11.0->tensorflow-serving-api<3.0.0,>=2.0.0->tensorflow-ranking) (1.0.1)\n",
            "Requirement already satisfied: google-auth<3,>=1.6.3 in /usr/local/lib/python3.8/dist-packages (from tensorboard<2.12,>=2.11->tensorflow<3,>=2.11.0->tensorflow-serving-api<3.0.0,>=2.0.0->tensorflow-ranking) (2.15.0)\n",
            "Requirement already satisfied: requests<3,>=2.21.0 in /usr/local/lib/python3.8/dist-packages (from tensorboard<2.12,>=2.11->tensorflow<3,>=2.11.0->tensorflow-serving-api<3.0.0,>=2.0.0->tensorflow-ranking) (2.23.0)\n",
            "Requirement already satisfied: tensorboard-plugin-wit>=1.6.0 in /usr/local/lib/python3.8/dist-packages (from tensorboard<2.12,>=2.11->tensorflow<3,>=2.11.0->tensorflow-serving-api<3.0.0,>=2.0.0->tensorflow-ranking) (1.8.1)\n",
            "Requirement already satisfied: markdown>=2.6.8 in /usr/local/lib/python3.8/dist-packages (from tensorboard<2.12,>=2.11->tensorflow<3,>=2.11.0->tensorflow-serving-api<3.0.0,>=2.0.0->tensorflow-ranking) (3.4.1)\n",
            "Requirement already satisfied: pyasn1-modules>=0.2.1 in /usr/local/lib/python3.8/dist-packages (from google-auth<3,>=1.6.3->tensorboard<2.12,>=2.11->tensorflow<3,>=2.11.0->tensorflow-serving-api<3.0.0,>=2.0.0->tensorflow-ranking) (0.2.8)\n",
            "Requirement already satisfied: rsa<5,>=3.1.4 in /usr/local/lib/python3.8/dist-packages (from google-auth<3,>=1.6.3->tensorboard<2.12,>=2.11->tensorflow<3,>=2.11.0->tensorflow-serving-api<3.0.0,>=2.0.0->tensorflow-ranking) (4.9)\n",
            "Requirement already satisfied: cachetools<6.0,>=2.0.0 in /usr/local/lib/python3.8/dist-packages (from google-auth<3,>=1.6.3->tensorboard<2.12,>=2.11->tensorflow<3,>=2.11.0->tensorflow-serving-api<3.0.0,>=2.0.0->tensorflow-ranking) (5.2.0)\n",
            "Requirement already satisfied: requests-oauthlib>=0.7.0 in /usr/local/lib/python3.8/dist-packages (from google-auth-oauthlib<0.5,>=0.4.1->tensorboard<2.12,>=2.11->tensorflow<3,>=2.11.0->tensorflow-serving-api<3.0.0,>=2.0.0->tensorflow-ranking) (1.3.1)\n",
            "Requirement already satisfied: importlib-metadata>=4.4 in /usr/local/lib/python3.8/dist-packages (from markdown>=2.6.8->tensorboard<2.12,>=2.11->tensorflow<3,>=2.11.0->tensorflow-serving-api<3.0.0,>=2.0.0->tensorflow-ranking) (4.13.0)\n",
            "Requirement already satisfied: zipp>=0.5 in /usr/local/lib/python3.8/dist-packages (from importlib-metadata>=4.4->markdown>=2.6.8->tensorboard<2.12,>=2.11->tensorflow<3,>=2.11.0->tensorflow-serving-api<3.0.0,>=2.0.0->tensorflow-ranking) (3.11.0)\n",
            "Requirement already satisfied: pyasn1<0.5.0,>=0.4.6 in /usr/local/lib/python3.8/dist-packages (from pyasn1-modules>=0.2.1->google-auth<3,>=1.6.3->tensorboard<2.12,>=2.11->tensorflow<3,>=2.11.0->tensorflow-serving-api<3.0.0,>=2.0.0->tensorflow-ranking) (0.4.8)\n",
            "Requirement already satisfied: certifi>=2017.4.17 in /usr/local/lib/python3.8/dist-packages (from requests<3,>=2.21.0->tensorboard<2.12,>=2.11->tensorflow<3,>=2.11.0->tensorflow-serving-api<3.0.0,>=2.0.0->tensorflow-ranking) (2022.9.24)\n",
            "Requirement already satisfied: idna<3,>=2.5 in /usr/local/lib/python3.8/dist-packages (from requests<3,>=2.21.0->tensorboard<2.12,>=2.11->tensorflow<3,>=2.11.0->tensorflow-serving-api<3.0.0,>=2.0.0->tensorflow-ranking) (2.10)\n",
            "Requirement already satisfied: urllib3!=1.25.0,!=1.25.1,<1.26,>=1.21.1 in /usr/local/lib/python3.8/dist-packages (from requests<3,>=2.21.0->tensorboard<2.12,>=2.11->tensorflow<3,>=2.11.0->tensorflow-serving-api<3.0.0,>=2.0.0->tensorflow-ranking) (1.24.3)\n",
            "Requirement already satisfied: chardet<4,>=3.0.2 in /usr/local/lib/python3.8/dist-packages (from requests<3,>=2.21.0->tensorboard<2.12,>=2.11->tensorflow<3,>=2.11.0->tensorflow-serving-api<3.0.0,>=2.0.0->tensorflow-ranking) (3.0.4)\n",
            "Requirement already satisfied: oauthlib>=3.0.0 in /usr/local/lib/python3.8/dist-packages (from requests-oauthlib>=0.7.0->google-auth-oauthlib<0.5,>=0.4.1->tensorboard<2.12,>=2.11->tensorflow<3,>=2.11.0->tensorflow-serving-api<3.0.0,>=2.0.0->tensorflow-ranking) (3.2.2)\n",
            "Requirement already satisfied: pyparsing!=3.0.5,>=2.0.2 in /usr/local/lib/python3.8/dist-packages (from packaging->tensorflow<3,>=2.11.0->tensorflow-serving-api<3.0.0,>=2.0.0->tensorflow-ranking) (3.0.9)\n"
          ]
        }
      ]
    },
    {
      "cell_type": "code",
      "source": [
        "import pandas as pd\n",
        "from sklearn.model_selection import train_test_split\n",
        "import keras\n",
        "from IPython.display import SVG\n",
        "from keras.optimizers import adam_v2\n",
        "from keras.utils.vis_utils import model_to_dot\n",
        "import matplotlib.pyplot as plt\n",
        "from sklearn.metrics import mean_absolute_error\n",
        "from sklearn.metrics import ndcg_score\n",
        "from sklearn.metrics import accuracy_score\n",
        "#import tensorflow_ranking as tfr\n",
        "from keras.metrics import top_k_categorical_accuracy,MeanAbsoluteError\n",
        "import numpy as np"
      ],
      "metadata": {
        "execution": {
          "iopub.status.busy": "2022-12-11T23:37:12.725654Z",
          "iopub.execute_input": "2022-12-11T23:37:12.726338Z",
          "iopub.status.idle": "2022-12-11T23:37:12.735504Z",
          "shell.execute_reply.started": "2022-12-11T23:37:12.726291Z",
          "shell.execute_reply": "2022-12-11T23:37:12.734184Z"
        },
        "trusted": true,
        "id": "n4XkZRK-kvHV"
      },
      "execution_count": null,
      "outputs": []
    },
    {
      "cell_type": "code",
      "source": [
        "import tensorflow_ranking as tfr"
      ],
      "metadata": {
        "execution": {
          "iopub.status.busy": "2022-12-11T23:37:21.467033Z",
          "iopub.execute_input": "2022-12-11T23:37:21.468299Z",
          "iopub.status.idle": "2022-12-11T23:37:21.530747Z",
          "shell.execute_reply.started": "2022-12-11T23:37:21.468257Z",
          "shell.execute_reply": "2022-12-11T23:37:21.529231Z"
        },
        "trusted": true,
        "id": "LlTFQyi7kvHX"
      },
      "execution_count": null,
      "outputs": []
    },
    {
      "cell_type": "code",
      "source": [
        "# Read data\n",
        "interactions = pd.read_csv(\"/content/drive/MyDrive/CS646Project/rating_final.csv\")"
      ],
      "metadata": {
        "execution": {
          "iopub.status.busy": "2022-12-11T23:35:39.547849Z",
          "iopub.status.idle": "2022-12-11T23:35:39.548752Z",
          "shell.execute_reply.started": "2022-12-11T23:35:39.548448Z",
          "shell.execute_reply": "2022-12-11T23:35:39.548471Z"
        },
        "trusted": true,
        "id": "SIXxz6SVkvHX"
      },
      "execution_count": null,
      "outputs": []
    },
    {
      "cell_type": "code",
      "source": [
        "from google.colab import drive\n",
        "drive.mount('/content/drive')"
      ],
      "metadata": {
        "colab": {
          "base_uri": "https://localhost:8080/"
        },
        "id": "i92OiANwlbVO",
        "outputId": "81242b92-4d35-41b3-8502-0bb4f904bb85"
      },
      "execution_count": null,
      "outputs": [
        {
          "output_type": "stream",
          "name": "stdout",
          "text": [
            "Drive already mounted at /content/drive; to attempt to forcibly remount, call drive.mount(\"/content/drive\", force_remount=True).\n"
          ]
        }
      ]
    },
    {
      "cell_type": "code",
      "source": [
        "# Filter required columns\n",
        "interactions = interactions[['userID','placeID','rating']]"
      ],
      "metadata": {
        "execution": {
          "iopub.status.busy": "2022-12-11T23:35:39.550955Z",
          "iopub.status.idle": "2022-12-11T23:35:39.551771Z",
          "shell.execute_reply.started": "2022-12-11T23:35:39.551545Z",
          "shell.execute_reply": "2022-12-11T23:35:39.551567Z"
        },
        "trusted": true,
        "id": "ymYnFHm5kvHX"
      },
      "execution_count": null,
      "outputs": []
    },
    {
      "cell_type": "code",
      "source": [
        "# Get data dimensions\n",
        "len(interactions.userID.unique()), len(interactions.placeID.unique())"
      ],
      "metadata": {
        "execution": {
          "iopub.status.busy": "2022-12-11T23:35:39.553474Z",
          "iopub.status.idle": "2022-12-11T23:35:39.554320Z",
          "shell.execute_reply.started": "2022-12-11T23:35:39.554027Z",
          "shell.execute_reply": "2022-12-11T23:35:39.554060Z"
        },
        "trusted": true,
        "colab": {
          "base_uri": "https://localhost:8080/"
        },
        "id": "Urg4TxyYkvHY",
        "outputId": "d88aa231-e36a-4807-cccc-29f1a18cf340"
      },
      "execution_count": null,
      "outputs": [
        {
          "output_type": "execute_result",
          "data": {
            "text/plain": [
              "(138, 130)"
            ]
          },
          "metadata": {},
          "execution_count": 7
        }
      ]
    },
    {
      "cell_type": "code",
      "source": [
        "interactions.userID = interactions.userID.astype('category').cat.codes.values\n",
        "interactions.placeID = interactions.placeID.astype('category').cat.codes.values"
      ],
      "metadata": {
        "execution": {
          "iopub.status.busy": "2022-12-11T23:35:39.555886Z",
          "iopub.status.idle": "2022-12-11T23:35:39.556720Z",
          "shell.execute_reply.started": "2022-12-11T23:35:39.556446Z",
          "shell.execute_reply": "2022-12-11T23:35:39.556473Z"
        },
        "trusted": true,
        "colab": {
          "base_uri": "https://localhost:8080/"
        },
        "id": "X__SC4nEkvHa",
        "outputId": "3dc1e5d9-c6bc-4188-c951-b2478e358c98"
      },
      "execution_count": null,
      "outputs": [
        {
          "output_type": "stream",
          "name": "stderr",
          "text": [
            "/usr/local/lib/python3.8/dist-packages/pandas/core/generic.py:5516: SettingWithCopyWarning: \n",
            "A value is trying to be set on a copy of a slice from a DataFrame.\n",
            "Try using .loc[row_indexer,col_indexer] = value instead\n",
            "\n",
            "See the caveats in the documentation: https://pandas.pydata.org/pandas-docs/stable/user_guide/indexing.html#returning-a-view-versus-a-copy\n",
            "  self[name] = value\n"
          ]
        }
      ]
    },
    {
      "cell_type": "code",
      "source": [
        "interactions.head()"
      ],
      "metadata": {
        "execution": {
          "iopub.status.busy": "2022-12-11T23:35:42.925516Z",
          "iopub.execute_input": "2022-12-11T23:35:42.926040Z",
          "iopub.status.idle": "2022-12-11T23:35:42.954278Z",
          "shell.execute_reply.started": "2022-12-11T23:35:42.925999Z",
          "shell.execute_reply": "2022-12-11T23:35:42.952818Z"
        },
        "trusted": true,
        "colab": {
          "base_uri": "https://localhost:8080/",
          "height": 206
        },
        "id": "eVfT20dikvHb",
        "outputId": "28fcc5b3-535f-422c-a4d4-da05299748c3"
      },
      "execution_count": null,
      "outputs": [
        {
          "output_type": "execute_result",
          "data": {
            "text/plain": [
              "   userID  placeID  rating\n",
              "0      76      123       2\n",
              "1      76       84       2\n",
              "2      76       31       2\n",
              "3      76      105       1\n",
              "4      67      126       1"
            ],
            "text/html": [
              "\n",
              "  <div id=\"df-d5d250c5-2a53-4f50-94ea-e98fa1a6f4c3\">\n",
              "    <div class=\"colab-df-container\">\n",
              "      <div>\n",
              "<style scoped>\n",
              "    .dataframe tbody tr th:only-of-type {\n",
              "        vertical-align: middle;\n",
              "    }\n",
              "\n",
              "    .dataframe tbody tr th {\n",
              "        vertical-align: top;\n",
              "    }\n",
              "\n",
              "    .dataframe thead th {\n",
              "        text-align: right;\n",
              "    }\n",
              "</style>\n",
              "<table border=\"1\" class=\"dataframe\">\n",
              "  <thead>\n",
              "    <tr style=\"text-align: right;\">\n",
              "      <th></th>\n",
              "      <th>userID</th>\n",
              "      <th>placeID</th>\n",
              "      <th>rating</th>\n",
              "    </tr>\n",
              "  </thead>\n",
              "  <tbody>\n",
              "    <tr>\n",
              "      <th>0</th>\n",
              "      <td>76</td>\n",
              "      <td>123</td>\n",
              "      <td>2</td>\n",
              "    </tr>\n",
              "    <tr>\n",
              "      <th>1</th>\n",
              "      <td>76</td>\n",
              "      <td>84</td>\n",
              "      <td>2</td>\n",
              "    </tr>\n",
              "    <tr>\n",
              "      <th>2</th>\n",
              "      <td>76</td>\n",
              "      <td>31</td>\n",
              "      <td>2</td>\n",
              "    </tr>\n",
              "    <tr>\n",
              "      <th>3</th>\n",
              "      <td>76</td>\n",
              "      <td>105</td>\n",
              "      <td>1</td>\n",
              "    </tr>\n",
              "    <tr>\n",
              "      <th>4</th>\n",
              "      <td>67</td>\n",
              "      <td>126</td>\n",
              "      <td>1</td>\n",
              "    </tr>\n",
              "  </tbody>\n",
              "</table>\n",
              "</div>\n",
              "      <button class=\"colab-df-convert\" onclick=\"convertToInteractive('df-d5d250c5-2a53-4f50-94ea-e98fa1a6f4c3')\"\n",
              "              title=\"Convert this dataframe to an interactive table.\"\n",
              "              style=\"display:none;\">\n",
              "        \n",
              "  <svg xmlns=\"http://www.w3.org/2000/svg\" height=\"24px\"viewBox=\"0 0 24 24\"\n",
              "       width=\"24px\">\n",
              "    <path d=\"M0 0h24v24H0V0z\" fill=\"none\"/>\n",
              "    <path d=\"M18.56 5.44l.94 2.06.94-2.06 2.06-.94-2.06-.94-.94-2.06-.94 2.06-2.06.94zm-11 1L8.5 8.5l.94-2.06 2.06-.94-2.06-.94L8.5 2.5l-.94 2.06-2.06.94zm10 10l.94 2.06.94-2.06 2.06-.94-2.06-.94-.94-2.06-.94 2.06-2.06.94z\"/><path d=\"M17.41 7.96l-1.37-1.37c-.4-.4-.92-.59-1.43-.59-.52 0-1.04.2-1.43.59L10.3 9.45l-7.72 7.72c-.78.78-.78 2.05 0 2.83L4 21.41c.39.39.9.59 1.41.59.51 0 1.02-.2 1.41-.59l7.78-7.78 2.81-2.81c.8-.78.8-2.07 0-2.86zM5.41 20L4 18.59l7.72-7.72 1.47 1.35L5.41 20z\"/>\n",
              "  </svg>\n",
              "      </button>\n",
              "      \n",
              "  <style>\n",
              "    .colab-df-container {\n",
              "      display:flex;\n",
              "      flex-wrap:wrap;\n",
              "      gap: 12px;\n",
              "    }\n",
              "\n",
              "    .colab-df-convert {\n",
              "      background-color: #E8F0FE;\n",
              "      border: none;\n",
              "      border-radius: 50%;\n",
              "      cursor: pointer;\n",
              "      display: none;\n",
              "      fill: #1967D2;\n",
              "      height: 32px;\n",
              "      padding: 0 0 0 0;\n",
              "      width: 32px;\n",
              "    }\n",
              "\n",
              "    .colab-df-convert:hover {\n",
              "      background-color: #E2EBFA;\n",
              "      box-shadow: 0px 1px 2px rgba(60, 64, 67, 0.3), 0px 1px 3px 1px rgba(60, 64, 67, 0.15);\n",
              "      fill: #174EA6;\n",
              "    }\n",
              "\n",
              "    [theme=dark] .colab-df-convert {\n",
              "      background-color: #3B4455;\n",
              "      fill: #D2E3FC;\n",
              "    }\n",
              "\n",
              "    [theme=dark] .colab-df-convert:hover {\n",
              "      background-color: #434B5C;\n",
              "      box-shadow: 0px 1px 3px 1px rgba(0, 0, 0, 0.15);\n",
              "      filter: drop-shadow(0px 1px 2px rgba(0, 0, 0, 0.3));\n",
              "      fill: #FFFFFF;\n",
              "    }\n",
              "  </style>\n",
              "\n",
              "      <script>\n",
              "        const buttonEl =\n",
              "          document.querySelector('#df-d5d250c5-2a53-4f50-94ea-e98fa1a6f4c3 button.colab-df-convert');\n",
              "        buttonEl.style.display =\n",
              "          google.colab.kernel.accessAllowed ? 'block' : 'none';\n",
              "\n",
              "        async function convertToInteractive(key) {\n",
              "          const element = document.querySelector('#df-d5d250c5-2a53-4f50-94ea-e98fa1a6f4c3');\n",
              "          const dataTable =\n",
              "            await google.colab.kernel.invokeFunction('convertToInteractive',\n",
              "                                                     [key], {});\n",
              "          if (!dataTable) return;\n",
              "\n",
              "          const docLinkHtml = 'Like what you see? Visit the ' +\n",
              "            '<a target=\"_blank\" href=https://colab.research.google.com/notebooks/data_table.ipynb>data table notebook</a>'\n",
              "            + ' to learn more about interactive tables.';\n",
              "          element.innerHTML = '';\n",
              "          dataTable['output_type'] = 'display_data';\n",
              "          await google.colab.output.renderOutput(dataTable, element);\n",
              "          const docLink = document.createElement('div');\n",
              "          docLink.innerHTML = docLinkHtml;\n",
              "          element.appendChild(docLink);\n",
              "        }\n",
              "      </script>\n",
              "    </div>\n",
              "  </div>\n",
              "  "
            ]
          },
          "metadata": {},
          "execution_count": 9
        }
      ]
    },
    {
      "cell_type": "code",
      "source": [
        "user_id_dict = {}\n",
        "k=0\n",
        "for i in interactions['userID']:\n",
        "  if i not in user_id_dict:\n",
        "    user_id_dict[i] = k\n",
        "    k+=1\n",
        "\n",
        "place_id_dict = {}\n",
        "k=0\n",
        "for i in interactions['placeID']:\n",
        "  if i not in place_id_dict:\n",
        "    place_id_dict[i] = k\n",
        "    k+=1"
      ],
      "metadata": {
        "execution": {
          "iopub.status.busy": "2022-12-10T05:23:01.174868Z",
          "iopub.execute_input": "2022-12-10T05:23:01.175267Z",
          "iopub.status.idle": "2022-12-10T05:23:01.182476Z",
          "shell.execute_reply.started": "2022-12-10T05:23:01.175234Z",
          "shell.execute_reply": "2022-12-10T05:23:01.181102Z"
        },
        "trusted": true,
        "id": "UOvKjE5ykvHb"
      },
      "execution_count": null,
      "outputs": []
    },
    {
      "cell_type": "code",
      "source": [
        "# Map current user_id and recipe_id to continuous values, for easier matrix factorization\n",
        "interactions['user_id_new']= interactions['userID'].map(user_id_dict)\n",
        "interactions['place_id_new']= interactions['placeID'].map(place_id_dict)"
      ],
      "metadata": {
        "execution": {
          "iopub.status.busy": "2022-12-10T05:23:14.618977Z",
          "iopub.execute_input": "2022-12-10T05:23:14.619401Z",
          "iopub.status.idle": "2022-12-10T05:23:14.628282Z",
          "shell.execute_reply.started": "2022-12-10T05:23:14.619366Z",
          "shell.execute_reply": "2022-12-10T05:23:14.627318Z"
        },
        "trusted": true,
        "colab": {
          "base_uri": "https://localhost:8080/"
        },
        "id": "Wjy3GdUBkvHc",
        "outputId": "15b12ac3-8fae-451b-cec0-74153a6d02f3"
      },
      "execution_count": null,
      "outputs": [
        {
          "output_type": "stream",
          "name": "stderr",
          "text": [
            "<ipython-input-11-4bef667ad83c>:1: SettingWithCopyWarning: \n",
            "A value is trying to be set on a copy of a slice from a DataFrame.\n",
            "Try using .loc[row_indexer,col_indexer] = value instead\n",
            "\n",
            "See the caveats in the documentation: https://pandas.pydata.org/pandas-docs/stable/user_guide/indexing.html#returning-a-view-versus-a-copy\n",
            "  interactions['user_id_new']= interactions['userID'].map(user_id_dict)\n"
          ]
        }
      ]
    },
    {
      "cell_type": "code",
      "source": [
        "# Filter the newly created id columns\n",
        "df_new = interactions[['user_id_new','place_id_new','rating']]"
      ],
      "metadata": {
        "execution": {
          "iopub.status.busy": "2022-12-10T05:23:30.583538Z",
          "iopub.execute_input": "2022-12-10T05:23:30.583985Z",
          "iopub.status.idle": "2022-12-10T05:23:30.592375Z",
          "shell.execute_reply.started": "2022-12-10T05:23:30.583947Z",
          "shell.execute_reply": "2022-12-10T05:23:30.591173Z"
        },
        "trusted": true,
        "id": "gpkEM1E2kvHc"
      },
      "execution_count": null,
      "outputs": []
    },
    {
      "cell_type": "code",
      "source": [
        "df = df_new.rename(columns={'user_id_new':'user_id','place_id_new':'place_id'})"
      ],
      "metadata": {
        "execution": {
          "iopub.status.busy": "2022-12-10T05:23:47.083190Z",
          "iopub.execute_input": "2022-12-10T05:23:47.083653Z",
          "iopub.status.idle": "2022-12-10T05:23:47.089885Z",
          "shell.execute_reply.started": "2022-12-10T05:23:47.083619Z",
          "shell.execute_reply": "2022-12-10T05:23:47.088762Z"
        },
        "trusted": true,
        "id": "2TlVAobSkvHd"
      },
      "execution_count": null,
      "outputs": []
    },
    {
      "cell_type": "code",
      "source": [
        "# Setup train and test data\n",
        "X = df.iloc[:,:2]\n",
        "Y = df.iloc[:,2]"
      ],
      "metadata": {
        "id": "iXDKJNvqyUTD"
      },
      "execution_count": null,
      "outputs": []
    },
    {
      "cell_type": "code",
      "source": [
        "# Split data into training and test data\n",
        "x_train, x_test, y_train, y_test = train_test_split(X, Y, test_size = 0.2, random_state = 66)"
      ],
      "metadata": {
        "execution": {
          "iopub.status.busy": "2022-12-10T05:24:06.347249Z",
          "iopub.execute_input": "2022-12-10T05:24:06.347678Z",
          "iopub.status.idle": "2022-12-10T05:24:06.354004Z",
          "shell.execute_reply.started": "2022-12-10T05:24:06.347641Z",
          "shell.execute_reply": "2022-12-10T05:24:06.352904Z"
        },
        "trusted": true,
        "id": "qszVYF30kvHd"
      },
      "execution_count": null,
      "outputs": []
    },
    {
      "cell_type": "code",
      "source": [
        "n_users, n_places = len(df.user_id.unique()), len(df.place_id.unique())"
      ],
      "metadata": {
        "execution": {
          "iopub.status.busy": "2022-12-10T05:25:45.015232Z",
          "iopub.execute_input": "2022-12-10T05:25:45.015653Z",
          "iopub.status.idle": "2022-12-10T05:25:45.022136Z",
          "shell.execute_reply.started": "2022-12-10T05:25:45.015619Z",
          "shell.execute_reply": "2022-12-10T05:25:45.020768Z"
        },
        "trusted": true,
        "id": "NyolCuiHkvHd"
      },
      "execution_count": null,
      "outputs": []
    },
    {
      "cell_type": "code",
      "source": [
        "# No. of latent factors to retrieve\n",
        "\n",
        "n_latent_factors = 20"
      ],
      "metadata": {
        "execution": {
          "iopub.status.busy": "2022-12-10T05:25:47.327104Z",
          "iopub.execute_input": "2022-12-10T05:25:47.327503Z",
          "iopub.status.idle": "2022-12-10T05:25:47.332223Z",
          "shell.execute_reply.started": "2022-12-10T05:25:47.327473Z",
          "shell.execute_reply": "2022-12-10T05:25:47.331110Z"
        },
        "trusted": true,
        "id": "VvVQQvkCkvHd"
      },
      "execution_count": null,
      "outputs": []
    },
    {
      "cell_type": "code",
      "source": [
        "place_input = keras.layers.Input(shape=[1],name='Place')\n",
        "#print(\"rec_input : \",rec_input)\n",
        "#print(\"rec_input shape : \", rec_input.shape)\n",
        "place_embedding = keras.layers.Embedding(n_places + 1, n_latent_factors, name='Places-Embedding')(place_input)\n",
        "#print(\"rec_embedding : \",rec_embedding)\n",
        "#print(\"rec_embedding shape : \",rec_embedding.shape)\n",
        "place_vec = keras.layers.Flatten(name='FlattenRecipes')(place_embedding)\n",
        "#print(\"rec_vec : \",rec_vec)\n",
        "#print(\"rec_vec shape : \",rec_vec.shape)\n",
        "\n",
        "user_input = keras.layers.Input(shape=[1],name='User')\n",
        "print(\"user_input shape : \",user_input.shape)\n",
        "user_embedding = keras.layers.Embedding(n_users + 1, n_latent_factors,name='User-Embedding')(user_input)\n",
        "print(\"user_embedding shape : \", user_embedding.shape)\n",
        "user_vec = keras.layers.Flatten(name='FlattenUsers')(user_embedding)\n",
        "print(\"user_vec shape : \",user_vec.shape)\n",
        "# prod = keras.layers.concatenate([user_vec, rec_vec], name='Concantenate')\n",
        "# model = keras.Model([user_input, rec_input], prod)\n",
        "# model.compile('adam', 'mean_squared_error')"
      ],
      "metadata": {
        "execution": {
          "iopub.status.busy": "2022-12-10T05:25:48.455094Z",
          "iopub.execute_input": "2022-12-10T05:25:48.456045Z",
          "iopub.status.idle": "2022-12-10T05:25:48.552305Z",
          "shell.execute_reply.started": "2022-12-10T05:25:48.456004Z",
          "shell.execute_reply": "2022-12-10T05:25:48.551526Z"
        },
        "trusted": true,
        "colab": {
          "base_uri": "https://localhost:8080/"
        },
        "id": "zEEiYXrukvHd",
        "outputId": "c2d7e65c-fcab-4ed1-b328-faed030e15de"
      },
      "execution_count": null,
      "outputs": [
        {
          "output_type": "stream",
          "name": "stdout",
          "text": [
            "user_input shape :  (None, 1)\n",
            "user_embedding shape :  (None, 1, 20)\n",
            "user_vec shape :  (None, 20)\n"
          ]
        }
      ]
    },
    {
      "cell_type": "code",
      "source": [
        "dotted = keras.layers.Dot(name=\"DotProduct\",axes=1)([user_vec, place_vec])\n",
        "print(dotted.shape)\n",
        "model = keras.Model([user_input, place_input], dotted)\n",
        "#model.compile('adam', 'mean_squared_error')\n",
        "\n",
        "# Setup evaluation metrics\n",
        "eval_metrics = [\n",
        "    tfr.keras.metrics.get(key=\"ndcg\", name=\"metric/ndcg\", ragged=False),\n",
        "    tfr.keras.metrics.get(key=\"mrr\", name=\"metric/mrr\", ragged=False)\n",
        "]\n",
        "optimizer = adam_v2.Adam(learning_rate = 0.0001)\n",
        "\n",
        "model.compile(loss='mean_squared_error', optimizer = optimizer,metrics=[keras.metrics.MeanAbsoluteError(),'top_k_categorical_accuracy',eval_metrics])"
      ],
      "metadata": {
        "execution": {
          "iopub.status.busy": "2022-12-10T05:26:22.085069Z",
          "iopub.execute_input": "2022-12-10T05:26:22.085498Z",
          "iopub.status.idle": "2022-12-10T05:26:22.121901Z",
          "shell.execute_reply.started": "2022-12-10T05:26:22.085467Z",
          "shell.execute_reply": "2022-12-10T05:26:22.120364Z"
        },
        "trusted": true,
        "colab": {
          "base_uri": "https://localhost:8080/"
        },
        "id": "DcLG9D80kvHe",
        "outputId": "6c7572bc-44a7-4268-8a42-e921dd0d9a19"
      },
      "execution_count": null,
      "outputs": [
        {
          "output_type": "stream",
          "name": "stdout",
          "text": [
            "(None, 1)\n"
          ]
        }
      ]
    },
    {
      "cell_type": "code",
      "source": [
        "# Visualize the baseline architecture\n",
        "SVG(model_to_dot(model,  show_shapes=True, show_layer_names=True, rankdir='HB', dpi=65).create(prog='dot', format='svg'))"
      ],
      "metadata": {
        "execution": {
          "iopub.status.busy": "2022-12-10T05:26:35.347520Z",
          "iopub.execute_input": "2022-12-10T05:26:35.347919Z",
          "iopub.status.idle": "2022-12-10T05:26:36.696215Z",
          "shell.execute_reply.started": "2022-12-10T05:26:35.347888Z",
          "shell.execute_reply": "2022-12-10T05:26:36.695026Z"
        },
        "trusted": true,
        "colab": {
          "base_uri": "https://localhost:8080/",
          "height": 386
        },
        "id": "-9_uzvMQkvHe",
        "outputId": "e238462a-8fa8-4b58-edec-a9eefa0be4c5"
      },
      "execution_count": null,
      "outputs": [
        {
          "output_type": "execute_result",
          "data": {
            "text/plain": [
              "<IPython.core.display.SVG object>"
            ],
            "image/svg+xml": "<svg xmlns=\"http://www.w3.org/2000/svg\" xmlns:xlink=\"http://www.w3.org/1999/xlink\" width=\"516pt\" height=\"274pt\" viewBox=\"0.00 0.00 571.50 304.00\">\n<g id=\"graph0\" class=\"graph\" transform=\"scale(.9028 .9028) rotate(0) translate(4 300)\">\n<title>G</title>\n<polygon fill=\"#ffffff\" stroke=\"transparent\" points=\"-4,4 -4,-300 567.5,-300 567.5,4 -4,4\"/>\n<!-- 139847650287776 -->\n<g id=\"node1\" class=\"node\">\n<title>139847650287776</title>\n<polygon fill=\"none\" stroke=\"#000000\" points=\"24.5,-249.5 24.5,-295.5 243.5,-295.5 243.5,-249.5 24.5,-249.5\"/>\n<text text-anchor=\"middle\" x=\"64.5\" y=\"-280.3\" font-family=\"Times,serif\" font-size=\"14.00\" fill=\"#000000\">User</text>\n<polyline fill=\"none\" stroke=\"#000000\" points=\"24.5,-272.5 104.5,-272.5 \"/>\n<text text-anchor=\"middle\" x=\"64.5\" y=\"-257.3\" font-family=\"Times,serif\" font-size=\"14.00\" fill=\"#000000\">InputLayer</text>\n<polyline fill=\"none\" stroke=\"#000000\" points=\"104.5,-249.5 104.5,-295.5 \"/>\n<text text-anchor=\"middle\" x=\"133.5\" y=\"-280.3\" font-family=\"Times,serif\" font-size=\"14.00\" fill=\"#000000\">input:</text>\n<polyline fill=\"none\" stroke=\"#000000\" points=\"104.5,-272.5 162.5,-272.5 \"/>\n<text text-anchor=\"middle\" x=\"133.5\" y=\"-257.3\" font-family=\"Times,serif\" font-size=\"14.00\" fill=\"#000000\">output:</text>\n<polyline fill=\"none\" stroke=\"#000000\" points=\"162.5,-249.5 162.5,-295.5 \"/>\n<text text-anchor=\"middle\" x=\"203\" y=\"-280.3\" font-family=\"Times,serif\" font-size=\"14.00\" fill=\"#000000\">[(None, 1)]</text>\n<polyline fill=\"none\" stroke=\"#000000\" points=\"162.5,-272.5 243.5,-272.5 \"/>\n<text text-anchor=\"middle\" x=\"203\" y=\"-257.3\" font-family=\"Times,serif\" font-size=\"14.00\" fill=\"#000000\">[(None, 1)]</text>\n</g>\n<!-- 139847650463504 -->\n<g id=\"node3\" class=\"node\">\n<title>139847650463504</title>\n<polygon fill=\"none\" stroke=\"#000000\" points=\"0,-166.5 0,-212.5 268,-212.5 268,-166.5 0,-166.5\"/>\n<text text-anchor=\"middle\" x=\"57.5\" y=\"-197.3\" font-family=\"Times,serif\" font-size=\"14.00\" fill=\"#000000\">User-Embedding</text>\n<polyline fill=\"none\" stroke=\"#000000\" points=\"0,-189.5 115,-189.5 \"/>\n<text text-anchor=\"middle\" x=\"57.5\" y=\"-174.3\" font-family=\"Times,serif\" font-size=\"14.00\" fill=\"#000000\">Embedding</text>\n<polyline fill=\"none\" stroke=\"#000000\" points=\"115,-166.5 115,-212.5 \"/>\n<text text-anchor=\"middle\" x=\"144\" y=\"-197.3\" font-family=\"Times,serif\" font-size=\"14.00\" fill=\"#000000\">input:</text>\n<polyline fill=\"none\" stroke=\"#000000\" points=\"115,-189.5 173,-189.5 \"/>\n<text text-anchor=\"middle\" x=\"144\" y=\"-174.3\" font-family=\"Times,serif\" font-size=\"14.00\" fill=\"#000000\">output:</text>\n<polyline fill=\"none\" stroke=\"#000000\" points=\"173,-166.5 173,-212.5 \"/>\n<text text-anchor=\"middle\" x=\"220.5\" y=\"-197.3\" font-family=\"Times,serif\" font-size=\"14.00\" fill=\"#000000\">(None, 1)</text>\n<polyline fill=\"none\" stroke=\"#000000\" points=\"173,-189.5 268,-189.5 \"/>\n<text text-anchor=\"middle\" x=\"220.5\" y=\"-174.3\" font-family=\"Times,serif\" font-size=\"14.00\" fill=\"#000000\">(None, 1, 20)</text>\n</g>\n<!-- 139847650287776&#45;&gt;139847650463504 -->\n<g id=\"edge1\" class=\"edge\">\n<title>139847650287776-&gt;139847650463504</title>\n<path fill=\"none\" stroke=\"#000000\" d=\"M134,-249.3799C134,-241.1745 134,-231.7679 134,-222.8786\"/>\n<polygon fill=\"#000000\" stroke=\"#000000\" points=\"137.5001,-222.784 134,-212.784 130.5001,-222.784 137.5001,-222.784\"/>\n</g>\n<!-- 139847659664864 -->\n<g id=\"node2\" class=\"node\">\n<title>139847659664864</title>\n<polygon fill=\"none\" stroke=\"#000000\" points=\"315.5,-249.5 315.5,-295.5 534.5,-295.5 534.5,-249.5 315.5,-249.5\"/>\n<text text-anchor=\"middle\" x=\"355.5\" y=\"-280.3\" font-family=\"Times,serif\" font-size=\"14.00\" fill=\"#000000\">Place</text>\n<polyline fill=\"none\" stroke=\"#000000\" points=\"315.5,-272.5 395.5,-272.5 \"/>\n<text text-anchor=\"middle\" x=\"355.5\" y=\"-257.3\" font-family=\"Times,serif\" font-size=\"14.00\" fill=\"#000000\">InputLayer</text>\n<polyline fill=\"none\" stroke=\"#000000\" points=\"395.5,-249.5 395.5,-295.5 \"/>\n<text text-anchor=\"middle\" x=\"424.5\" y=\"-280.3\" font-family=\"Times,serif\" font-size=\"14.00\" fill=\"#000000\">input:</text>\n<polyline fill=\"none\" stroke=\"#000000\" points=\"395.5,-272.5 453.5,-272.5 \"/>\n<text text-anchor=\"middle\" x=\"424.5\" y=\"-257.3\" font-family=\"Times,serif\" font-size=\"14.00\" fill=\"#000000\">output:</text>\n<polyline fill=\"none\" stroke=\"#000000\" points=\"453.5,-249.5 453.5,-295.5 \"/>\n<text text-anchor=\"middle\" x=\"494\" y=\"-280.3\" font-family=\"Times,serif\" font-size=\"14.00\" fill=\"#000000\">[(None, 1)]</text>\n<polyline fill=\"none\" stroke=\"#000000\" points=\"453.5,-272.5 534.5,-272.5 \"/>\n<text text-anchor=\"middle\" x=\"494\" y=\"-257.3\" font-family=\"Times,serif\" font-size=\"14.00\" fill=\"#000000\">[(None, 1)]</text>\n</g>\n<!-- 139847659664816 -->\n<g id=\"node4\" class=\"node\">\n<title>139847659664816</title>\n<polygon fill=\"none\" stroke=\"#000000\" points=\"286.5,-166.5 286.5,-212.5 563.5,-212.5 563.5,-166.5 286.5,-166.5\"/>\n<text text-anchor=\"middle\" x=\"348.5\" y=\"-197.3\" font-family=\"Times,serif\" font-size=\"14.00\" fill=\"#000000\">Places-Embedding</text>\n<polyline fill=\"none\" stroke=\"#000000\" points=\"286.5,-189.5 410.5,-189.5 \"/>\n<text text-anchor=\"middle\" x=\"348.5\" y=\"-174.3\" font-family=\"Times,serif\" font-size=\"14.00\" fill=\"#000000\">Embedding</text>\n<polyline fill=\"none\" stroke=\"#000000\" points=\"410.5,-166.5 410.5,-212.5 \"/>\n<text text-anchor=\"middle\" x=\"439.5\" y=\"-197.3\" font-family=\"Times,serif\" font-size=\"14.00\" fill=\"#000000\">input:</text>\n<polyline fill=\"none\" stroke=\"#000000\" points=\"410.5,-189.5 468.5,-189.5 \"/>\n<text text-anchor=\"middle\" x=\"439.5\" y=\"-174.3\" font-family=\"Times,serif\" font-size=\"14.00\" fill=\"#000000\">output:</text>\n<polyline fill=\"none\" stroke=\"#000000\" points=\"468.5,-166.5 468.5,-212.5 \"/>\n<text text-anchor=\"middle\" x=\"516\" y=\"-197.3\" font-family=\"Times,serif\" font-size=\"14.00\" fill=\"#000000\">(None, 1)</text>\n<polyline fill=\"none\" stroke=\"#000000\" points=\"468.5,-189.5 563.5,-189.5 \"/>\n<text text-anchor=\"middle\" x=\"516\" y=\"-174.3\" font-family=\"Times,serif\" font-size=\"14.00\" fill=\"#000000\">(None, 1, 20)</text>\n</g>\n<!-- 139847659664864&#45;&gt;139847659664816 -->\n<g id=\"edge2\" class=\"edge\">\n<title>139847659664864-&gt;139847659664816</title>\n<path fill=\"none\" stroke=\"#000000\" d=\"M425,-249.3799C425,-241.1745 425,-231.7679 425,-222.8786\"/>\n<polygon fill=\"#000000\" stroke=\"#000000\" points=\"428.5001,-222.784 425,-212.784 421.5001,-222.784 428.5001,-222.784\"/>\n</g>\n<!-- 139847650463696 -->\n<g id=\"node5\" class=\"node\">\n<title>139847650463696</title>\n<polygon fill=\"none\" stroke=\"#000000\" points=\"27,-83.5 27,-129.5 267,-129.5 267,-83.5 27,-83.5\"/>\n<text text-anchor=\"middle\" x=\"70.5\" y=\"-114.3\" font-family=\"Times,serif\" font-size=\"14.00\" fill=\"#000000\">FlattenUsers</text>\n<polyline fill=\"none\" stroke=\"#000000\" points=\"27,-106.5 114,-106.5 \"/>\n<text text-anchor=\"middle\" x=\"70.5\" y=\"-91.3\" font-family=\"Times,serif\" font-size=\"14.00\" fill=\"#000000\">Flatten</text>\n<polyline fill=\"none\" stroke=\"#000000\" points=\"114,-83.5 114,-129.5 \"/>\n<text text-anchor=\"middle\" x=\"143\" y=\"-114.3\" font-family=\"Times,serif\" font-size=\"14.00\" fill=\"#000000\">input:</text>\n<polyline fill=\"none\" stroke=\"#000000\" points=\"114,-106.5 172,-106.5 \"/>\n<text text-anchor=\"middle\" x=\"143\" y=\"-91.3\" font-family=\"Times,serif\" font-size=\"14.00\" fill=\"#000000\">output:</text>\n<polyline fill=\"none\" stroke=\"#000000\" points=\"172,-83.5 172,-129.5 \"/>\n<text text-anchor=\"middle\" x=\"219.5\" y=\"-114.3\" font-family=\"Times,serif\" font-size=\"14.00\" fill=\"#000000\">(None, 1, 20)</text>\n<polyline fill=\"none\" stroke=\"#000000\" points=\"172,-106.5 267,-106.5 \"/>\n<text text-anchor=\"middle\" x=\"219.5\" y=\"-91.3\" font-family=\"Times,serif\" font-size=\"14.00\" fill=\"#000000\">(None, 20)</text>\n</g>\n<!-- 139847650463504&#45;&gt;139847650463696 -->\n<g id=\"edge3\" class=\"edge\">\n<title>139847650463504-&gt;139847650463696</title>\n<path fill=\"none\" stroke=\"#000000\" d=\"M137.6212,-166.3799C138.9064,-158.1745 140.3797,-148.7679 141.772,-139.8786\"/>\n<polygon fill=\"#000000\" stroke=\"#000000\" points=\"145.2635,-140.2052 143.3531,-129.784 138.3478,-139.1219 145.2635,-140.2052\"/>\n</g>\n<!-- 139847659666784 -->\n<g id=\"node6\" class=\"node\">\n<title>139847659666784</title>\n<polygon fill=\"none\" stroke=\"#000000\" points=\"291.5,-83.5 291.5,-129.5 544.5,-129.5 544.5,-83.5 291.5,-83.5\"/>\n<text text-anchor=\"middle\" x=\"341.5\" y=\"-114.3\" font-family=\"Times,serif\" font-size=\"14.00\" fill=\"#000000\">FlattenRecipes</text>\n<polyline fill=\"none\" stroke=\"#000000\" points=\"291.5,-106.5 391.5,-106.5 \"/>\n<text text-anchor=\"middle\" x=\"341.5\" y=\"-91.3\" font-family=\"Times,serif\" font-size=\"14.00\" fill=\"#000000\">Flatten</text>\n<polyline fill=\"none\" stroke=\"#000000\" points=\"391.5,-83.5 391.5,-129.5 \"/>\n<text text-anchor=\"middle\" x=\"420.5\" y=\"-114.3\" font-family=\"Times,serif\" font-size=\"14.00\" fill=\"#000000\">input:</text>\n<polyline fill=\"none\" stroke=\"#000000\" points=\"391.5,-106.5 449.5,-106.5 \"/>\n<text text-anchor=\"middle\" x=\"420.5\" y=\"-91.3\" font-family=\"Times,serif\" font-size=\"14.00\" fill=\"#000000\">output:</text>\n<polyline fill=\"none\" stroke=\"#000000\" points=\"449.5,-83.5 449.5,-129.5 \"/>\n<text text-anchor=\"middle\" x=\"497\" y=\"-114.3\" font-family=\"Times,serif\" font-size=\"14.00\" fill=\"#000000\">(None, 1, 20)</text>\n<polyline fill=\"none\" stroke=\"#000000\" points=\"449.5,-106.5 544.5,-106.5 \"/>\n<text text-anchor=\"middle\" x=\"497\" y=\"-91.3\" font-family=\"Times,serif\" font-size=\"14.00\" fill=\"#000000\">(None, 20)</text>\n</g>\n<!-- 139847659664816&#45;&gt;139847659666784 -->\n<g id=\"edge4\" class=\"edge\">\n<title>139847659664816-&gt;139847659666784</title>\n<path fill=\"none\" stroke=\"#000000\" d=\"M423.0501,-166.3799C422.3581,-158.1745 421.5648,-148.7679 420.8151,-139.8786\"/>\n<polygon fill=\"#000000\" stroke=\"#000000\" points=\"424.2918,-139.4545 419.9637,-129.784 417.3166,-140.0428 424.2918,-139.4545\"/>\n</g>\n<!-- 139847659638496 -->\n<g id=\"node7\" class=\"node\">\n<title>139847659638496</title>\n<polygon fill=\"none\" stroke=\"#000000\" points=\"129,-.5 129,-46.5 429,-46.5 429,-.5 129,-.5\"/>\n<text text-anchor=\"middle\" x=\"170.5\" y=\"-31.3\" font-family=\"Times,serif\" font-size=\"14.00\" fill=\"#000000\">DotProduct</text>\n<polyline fill=\"none\" stroke=\"#000000\" points=\"129,-23.5 212,-23.5 \"/>\n<text text-anchor=\"middle\" x=\"170.5\" y=\"-8.3\" font-family=\"Times,serif\" font-size=\"14.00\" fill=\"#000000\">Dot</text>\n<polyline fill=\"none\" stroke=\"#000000\" points=\"212,-.5 212,-46.5 \"/>\n<text text-anchor=\"middle\" x=\"241\" y=\"-31.3\" font-family=\"Times,serif\" font-size=\"14.00\" fill=\"#000000\">input:</text>\n<polyline fill=\"none\" stroke=\"#000000\" points=\"212,-23.5 270,-23.5 \"/>\n<text text-anchor=\"middle\" x=\"241\" y=\"-8.3\" font-family=\"Times,serif\" font-size=\"14.00\" fill=\"#000000\">output:</text>\n<polyline fill=\"none\" stroke=\"#000000\" points=\"270,-.5 270,-46.5 \"/>\n<text text-anchor=\"middle\" x=\"349.5\" y=\"-31.3\" font-family=\"Times,serif\" font-size=\"14.00\" fill=\"#000000\">[(None, 20), (None, 20)]</text>\n<polyline fill=\"none\" stroke=\"#000000\" points=\"270,-23.5 429,-23.5 \"/>\n<text text-anchor=\"middle\" x=\"349.5\" y=\"-8.3\" font-family=\"Times,serif\" font-size=\"14.00\" fill=\"#000000\">(None, 1)</text>\n</g>\n<!-- 139847650463696&#45;&gt;139847659638496 -->\n<g id=\"edge5\" class=\"edge\">\n<title>139847650463696-&gt;139847659638496</title>\n<path fill=\"none\" stroke=\"#000000\" d=\"M183.7694,-83.3799C199.0883,-73.7475 217.04,-62.4597 233.2028,-52.2967\"/>\n<polygon fill=\"#000000\" stroke=\"#000000\" points=\"235.3675,-55.07 241.97,-46.784 231.6414,-49.1441 235.3675,-55.07\"/>\n</g>\n<!-- 139847659666784&#45;&gt;139847659638496 -->\n<g id=\"edge6\" class=\"edge\">\n<title>139847659666784-&gt;139847659638496</title>\n<path fill=\"none\" stroke=\"#000000\" d=\"M379.2808,-83.3799C363.0001,-73.6583 343.8954,-62.2505 326.7535,-52.0147\"/>\n<polygon fill=\"#000000\" stroke=\"#000000\" points=\"328.3739,-48.9058 317.9937,-46.784 324.7851,-54.9159 328.3739,-48.9058\"/>\n</g>\n</g>\n</svg>"
          },
          "metadata": {},
          "execution_count": 20
        }
      ]
    },
    {
      "cell_type": "code",
      "source": [
        "model.summary()"
      ],
      "metadata": {
        "execution": {
          "iopub.status.busy": "2022-12-10T05:26:49.041933Z",
          "iopub.execute_input": "2022-12-10T05:26:49.042354Z",
          "iopub.status.idle": "2022-12-10T05:26:49.051460Z",
          "shell.execute_reply.started": "2022-12-10T05:26:49.042314Z",
          "shell.execute_reply": "2022-12-10T05:26:49.049870Z"
        },
        "trusted": true,
        "colab": {
          "base_uri": "https://localhost:8080/"
        },
        "id": "tkFvCqf8kvHe",
        "outputId": "2ec55905-f104-4d05-bb91-b4bd20b36428"
      },
      "execution_count": null,
      "outputs": [
        {
          "output_type": "stream",
          "name": "stdout",
          "text": [
            "Model: \"model\"\n",
            "__________________________________________________________________________________________________\n",
            " Layer (type)                   Output Shape         Param #     Connected to                     \n",
            "==================================================================================================\n",
            " User (InputLayer)              [(None, 1)]          0           []                               \n",
            "                                                                                                  \n",
            " Place (InputLayer)             [(None, 1)]          0           []                               \n",
            "                                                                                                  \n",
            " User-Embedding (Embedding)     (None, 1, 20)        2780        ['User[0][0]']                   \n",
            "                                                                                                  \n",
            " Places-Embedding (Embedding)   (None, 1, 20)        2620        ['Place[0][0]']                  \n",
            "                                                                                                  \n",
            " FlattenUsers (Flatten)         (None, 20)           0           ['User-Embedding[0][0]']         \n",
            "                                                                                                  \n",
            " FlattenRecipes (Flatten)       (None, 20)           0           ['Places-Embedding[0][0]']       \n",
            "                                                                                                  \n",
            " DotProduct (Dot)               (None, 1)            0           ['FlattenUsers[0][0]',           \n",
            "                                                                  'FlattenRecipes[0][0]']         \n",
            "                                                                                                  \n",
            "==================================================================================================\n",
            "Total params: 5,400\n",
            "Trainable params: 5,400\n",
            "Non-trainable params: 0\n",
            "__________________________________________________________________________________________________\n"
          ]
        }
      ]
    },
    {
      "cell_type": "code",
      "source": [
        "x_test.head()"
      ],
      "metadata": {
        "colab": {
          "base_uri": "https://localhost:8080/",
          "height": 206
        },
        "id": "35v5kjloyfMY",
        "outputId": "0cdce22e-4b3e-46b7-a090-951677ccafee"
      },
      "execution_count": null,
      "outputs": [
        {
          "output_type": "execute_result",
          "data": {
            "text/plain": [
              "     user_id  place_id\n",
              "397       57        88\n",
              "726       92         0\n",
              "986      119        34\n",
              "918      114        37\n",
              "117       24        52"
            ],
            "text/html": [
              "\n",
              "  <div id=\"df-ac44e693-3bb1-44c6-96fb-347bab47d95c\">\n",
              "    <div class=\"colab-df-container\">\n",
              "      <div>\n",
              "<style scoped>\n",
              "    .dataframe tbody tr th:only-of-type {\n",
              "        vertical-align: middle;\n",
              "    }\n",
              "\n",
              "    .dataframe tbody tr th {\n",
              "        vertical-align: top;\n",
              "    }\n",
              "\n",
              "    .dataframe thead th {\n",
              "        text-align: right;\n",
              "    }\n",
              "</style>\n",
              "<table border=\"1\" class=\"dataframe\">\n",
              "  <thead>\n",
              "    <tr style=\"text-align: right;\">\n",
              "      <th></th>\n",
              "      <th>user_id</th>\n",
              "      <th>place_id</th>\n",
              "    </tr>\n",
              "  </thead>\n",
              "  <tbody>\n",
              "    <tr>\n",
              "      <th>397</th>\n",
              "      <td>57</td>\n",
              "      <td>88</td>\n",
              "    </tr>\n",
              "    <tr>\n",
              "      <th>726</th>\n",
              "      <td>92</td>\n",
              "      <td>0</td>\n",
              "    </tr>\n",
              "    <tr>\n",
              "      <th>986</th>\n",
              "      <td>119</td>\n",
              "      <td>34</td>\n",
              "    </tr>\n",
              "    <tr>\n",
              "      <th>918</th>\n",
              "      <td>114</td>\n",
              "      <td>37</td>\n",
              "    </tr>\n",
              "    <tr>\n",
              "      <th>117</th>\n",
              "      <td>24</td>\n",
              "      <td>52</td>\n",
              "    </tr>\n",
              "  </tbody>\n",
              "</table>\n",
              "</div>\n",
              "      <button class=\"colab-df-convert\" onclick=\"convertToInteractive('df-ac44e693-3bb1-44c6-96fb-347bab47d95c')\"\n",
              "              title=\"Convert this dataframe to an interactive table.\"\n",
              "              style=\"display:none;\">\n",
              "        \n",
              "  <svg xmlns=\"http://www.w3.org/2000/svg\" height=\"24px\"viewBox=\"0 0 24 24\"\n",
              "       width=\"24px\">\n",
              "    <path d=\"M0 0h24v24H0V0z\" fill=\"none\"/>\n",
              "    <path d=\"M18.56 5.44l.94 2.06.94-2.06 2.06-.94-2.06-.94-.94-2.06-.94 2.06-2.06.94zm-11 1L8.5 8.5l.94-2.06 2.06-.94-2.06-.94L8.5 2.5l-.94 2.06-2.06.94zm10 10l.94 2.06.94-2.06 2.06-.94-2.06-.94-.94-2.06-.94 2.06-2.06.94z\"/><path d=\"M17.41 7.96l-1.37-1.37c-.4-.4-.92-.59-1.43-.59-.52 0-1.04.2-1.43.59L10.3 9.45l-7.72 7.72c-.78.78-.78 2.05 0 2.83L4 21.41c.39.39.9.59 1.41.59.51 0 1.02-.2 1.41-.59l7.78-7.78 2.81-2.81c.8-.78.8-2.07 0-2.86zM5.41 20L4 18.59l7.72-7.72 1.47 1.35L5.41 20z\"/>\n",
              "  </svg>\n",
              "      </button>\n",
              "      \n",
              "  <style>\n",
              "    .colab-df-container {\n",
              "      display:flex;\n",
              "      flex-wrap:wrap;\n",
              "      gap: 12px;\n",
              "    }\n",
              "\n",
              "    .colab-df-convert {\n",
              "      background-color: #E8F0FE;\n",
              "      border: none;\n",
              "      border-radius: 50%;\n",
              "      cursor: pointer;\n",
              "      display: none;\n",
              "      fill: #1967D2;\n",
              "      height: 32px;\n",
              "      padding: 0 0 0 0;\n",
              "      width: 32px;\n",
              "    }\n",
              "\n",
              "    .colab-df-convert:hover {\n",
              "      background-color: #E2EBFA;\n",
              "      box-shadow: 0px 1px 2px rgba(60, 64, 67, 0.3), 0px 1px 3px 1px rgba(60, 64, 67, 0.15);\n",
              "      fill: #174EA6;\n",
              "    }\n",
              "\n",
              "    [theme=dark] .colab-df-convert {\n",
              "      background-color: #3B4455;\n",
              "      fill: #D2E3FC;\n",
              "    }\n",
              "\n",
              "    [theme=dark] .colab-df-convert:hover {\n",
              "      background-color: #434B5C;\n",
              "      box-shadow: 0px 1px 3px 1px rgba(0, 0, 0, 0.15);\n",
              "      filter: drop-shadow(0px 1px 2px rgba(0, 0, 0, 0.3));\n",
              "      fill: #FFFFFF;\n",
              "    }\n",
              "  </style>\n",
              "\n",
              "      <script>\n",
              "        const buttonEl =\n",
              "          document.querySelector('#df-ac44e693-3bb1-44c6-96fb-347bab47d95c button.colab-df-convert');\n",
              "        buttonEl.style.display =\n",
              "          google.colab.kernel.accessAllowed ? 'block' : 'none';\n",
              "\n",
              "        async function convertToInteractive(key) {\n",
              "          const element = document.querySelector('#df-ac44e693-3bb1-44c6-96fb-347bab47d95c');\n",
              "          const dataTable =\n",
              "            await google.colab.kernel.invokeFunction('convertToInteractive',\n",
              "                                                     [key], {});\n",
              "          if (!dataTable) return;\n",
              "\n",
              "          const docLinkHtml = 'Like what you see? Visit the ' +\n",
              "            '<a target=\"_blank\" href=https://colab.research.google.com/notebooks/data_table.ipynb>data table notebook</a>'\n",
              "            + ' to learn more about interactive tables.';\n",
              "          element.innerHTML = '';\n",
              "          dataTable['output_type'] = 'display_data';\n",
              "          await google.colab.output.renderOutput(dataTable, element);\n",
              "          const docLink = document.createElement('div');\n",
              "          docLink.innerHTML = docLinkHtml;\n",
              "          element.appendChild(docLink);\n",
              "        }\n",
              "      </script>\n",
              "    </div>\n",
              "  </div>\n",
              "  "
            ]
          },
          "metadata": {},
          "execution_count": 22
        }
      ]
    },
    {
      "cell_type": "code",
      "source": [
        "# Train the model\n",
        "history = model.fit(x=[x_train.user_id, x_train.place_id], y=y_train, epochs=10, verbose=2, validation_data=([x_test['user_id'], x_test['place_id']], y_test))"
      ],
      "metadata": {
        "execution": {
          "iopub.status.busy": "2022-12-10T05:36:43.682799Z",
          "iopub.execute_input": "2022-12-10T05:36:43.683232Z",
          "iopub.status.idle": "2022-12-10T05:36:44.107403Z",
          "shell.execute_reply.started": "2022-12-10T05:36:43.683198Z",
          "shell.execute_reply": "2022-12-10T05:36:44.106291Z"
        },
        "trusted": true,
        "colab": {
          "base_uri": "https://localhost:8080/"
        },
        "id": "ZvAO4FzRkvHe",
        "outputId": "1a814424-7eb9-4e11-ffcd-45e7b0d1b07e"
      },
      "execution_count": null,
      "outputs": [
        {
          "output_type": "stream",
          "name": "stdout",
          "text": [
            "Epoch 1/10\n",
            "29/29 - 6s - loss: 2.0627 - mean_absolute_error: 1.2128 - top_k_categorical_accuracy: 1.0000 - metric/ndcg: 0.7866 - metric/mrr: 0.7866 - val_loss: 1.9273 - val_mean_absolute_error: 1.1499 - val_top_k_categorical_accuracy: 1.0000 - val_metric/ndcg: 0.7597 - val_metric/mrr: 0.7597 - 6s/epoch - 223ms/step\n",
            "Epoch 2/10\n",
            "29/29 - 0s - loss: 1.9919 - mean_absolute_error: 1.1914 - top_k_categorical_accuracy: 1.0000 - metric/ndcg: 0.7866 - metric/mrr: 0.7866 - val_loss: 1.8593 - val_mean_absolute_error: 1.1306 - val_top_k_categorical_accuracy: 1.0000 - val_metric/ndcg: 0.7597 - val_metric/mrr: 0.7597 - 373ms/epoch - 13ms/step\n",
            "Epoch 3/10\n",
            "29/29 - 0s - loss: 1.7322 - mean_absolute_error: 1.1097 - top_k_categorical_accuracy: 1.0000 - metric/ndcg: 0.7866 - metric/mrr: 0.7866 - val_loss: 1.5835 - val_mean_absolute_error: 1.0473 - val_top_k_categorical_accuracy: 1.0000 - val_metric/ndcg: 0.7597 - val_metric/mrr: 0.7597 - 294ms/epoch - 10ms/step\n",
            "Epoch 4/10\n",
            "29/29 - 0s - loss: 1.1796 - mean_absolute_error: 0.9028 - top_k_categorical_accuracy: 1.0000 - metric/ndcg: 0.7866 - metric/mrr: 0.7866 - val_loss: 1.1283 - val_mean_absolute_error: 0.8745 - val_top_k_categorical_accuracy: 1.0000 - val_metric/ndcg: 0.7597 - val_metric/mrr: 0.7597 - 273ms/epoch - 9ms/step\n",
            "Epoch 5/10\n",
            "29/29 - 0s - loss: 0.6211 - mean_absolute_error: 0.6274 - top_k_categorical_accuracy: 1.0000 - metric/ndcg: 0.7866 - metric/mrr: 0.7866 - val_loss: 0.7931 - val_mean_absolute_error: 0.7233 - val_top_k_categorical_accuracy: 1.0000 - val_metric/ndcg: 0.7597 - val_metric/mrr: 0.7597 - 256ms/epoch - 9ms/step\n",
            "Epoch 6/10\n",
            "29/29 - 0s - loss: 0.3245 - mean_absolute_error: 0.4391 - top_k_categorical_accuracy: 1.0000 - metric/ndcg: 0.7866 - metric/mrr: 0.7866 - val_loss: 0.6641 - val_mean_absolute_error: 0.6493 - val_top_k_categorical_accuracy: 1.0000 - val_metric/ndcg: 0.7597 - val_metric/mrr: 0.7597 - 387ms/epoch - 13ms/step\n",
            "Epoch 7/10\n",
            "29/29 - 0s - loss: 0.2022 - mean_absolute_error: 0.3448 - top_k_categorical_accuracy: 1.0000 - metric/ndcg: 0.7866 - metric/mrr: 0.7866 - val_loss: 0.6259 - val_mean_absolute_error: 0.6218 - val_top_k_categorical_accuracy: 1.0000 - val_metric/ndcg: 0.7597 - val_metric/mrr: 0.7597 - 340ms/epoch - 12ms/step\n",
            "Epoch 8/10\n",
            "29/29 - 0s - loss: 0.1435 - mean_absolute_error: 0.2884 - top_k_categorical_accuracy: 1.0000 - metric/ndcg: 0.7866 - metric/mrr: 0.7866 - val_loss: 0.6151 - val_mean_absolute_error: 0.6137 - val_top_k_categorical_accuracy: 1.0000 - val_metric/ndcg: 0.7597 - val_metric/mrr: 0.7597 - 305ms/epoch - 11ms/step\n",
            "Epoch 9/10\n",
            "29/29 - 0s - loss: 0.1120 - mean_absolute_error: 0.2525 - top_k_categorical_accuracy: 1.0000 - metric/ndcg: 0.7866 - metric/mrr: 0.7866 - val_loss: 0.6209 - val_mean_absolute_error: 0.6164 - val_top_k_categorical_accuracy: 1.0000 - val_metric/ndcg: 0.7597 - val_metric/mrr: 0.7597 - 415ms/epoch - 14ms/step\n",
            "Epoch 10/10\n",
            "29/29 - 0s - loss: 0.0905 - mean_absolute_error: 0.2223 - top_k_categorical_accuracy: 1.0000 - metric/ndcg: 0.7866 - metric/mrr: 0.7866 - val_loss: 0.6376 - val_mean_absolute_error: 0.6247 - val_top_k_categorical_accuracy: 1.0000 - val_metric/ndcg: 0.7597 - val_metric/mrr: 0.7597 - 284ms/epoch - 10ms/step\n"
          ]
        }
      ]
    },
    {
      "cell_type": "code",
      "source": [
        "# Plot the values\n",
        "training_loss = history.history['loss']\n",
        "test_loss = history.history['val_loss']\n",
        "\n",
        "# Create count of the number of epochs\n",
        "epoch_count = range(1, len(training_loss) + 1)\n",
        "\n",
        "# Visualize loss history\n",
        "plt.figure(figsize = (8,4))\n",
        "plt.plot(epoch_count, training_loss, 'r--')\n",
        "plt.plot(epoch_count, test_loss, 'b-')\n",
        "plt.legend(['Training Loss', 'Test Loss'])\n",
        "plt.xlabel('Epoch')\n",
        "plt.ylabel('Loss')\n",
        "plt.show()"
      ],
      "metadata": {
        "execution": {
          "iopub.status.busy": "2022-12-10T05:36:48.165399Z",
          "iopub.execute_input": "2022-12-10T05:36:48.165826Z",
          "iopub.status.idle": "2022-12-10T05:36:48.492120Z",
          "shell.execute_reply.started": "2022-12-10T05:36:48.165791Z",
          "shell.execute_reply": "2022-12-10T05:36:48.490881Z"
        },
        "trusted": true,
        "colab": {
          "base_uri": "https://localhost:8080/",
          "height": 279
        },
        "id": "rrLolTu2kvHe",
        "outputId": "4b0b4f4d-d1b5-4ec9-914e-fa32c52fa382"
      },
      "execution_count": null,
      "outputs": [
        {
          "output_type": "display_data",
          "data": {
            "text/plain": [
              "<Figure size 576x288 with 1 Axes>"
            ],
            "image/png": "[encoded data removed]"
          },
          "metadata": {
            "needs_background": "light"
          }
        }
      ]
    },
    {
      "cell_type": "code",
      "source": [],
      "metadata": {
        "id": "JG_U7I9GkvHg"
      },
      "execution_count": null,
      "outputs": []
    }
  ]
}