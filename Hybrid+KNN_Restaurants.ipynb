{
  "cells": [
    {
      "cell_type": "code",
      "execution_count": null,
      "metadata": {
        "id": "L2Eco9-K5hTj"
      },
      "outputs": [],
      "source": [
        "# from google.colab import drive\n",
        "# drive.mount('/content/drive')"
      ]
    },
    {
      "cell_type": "code",
      "execution_count": null,
      "metadata": {
        "id": "YIMNIPaV5LKz"
      },
      "outputs": [],
      "source": [
        "import numpy as np # linear algebra\n",
        "import pandas as pd\n",
        "from keras.layers import Embedding, Input, dot, concatenate\n",
        "from keras.models import Model\n",
        "from IPython.display import SVG\n",
        "from keras.utils.vis_utils import model_to_dot\n",
        "from sklearn.model_selection import train_test_split\n",
        "from keras.layers import Dense, Dropout, Flatten\n",
        "from keras.optimizers import adam_v2\n",
        "import matplotlib.pyplot as plt\n",
        "from keras.layers import Conv2D, MaxPooling2D, BatchNormalization\n",
        "from functools import reduce\n",
        "from sklearn.metrics import ndcg_score"
      ]
    },
    {
      "cell_type": "markdown",
      "source": [
        "Loading the dataset"
      ],
      "metadata": {
        "id": "wUTpwtwpjUkH"
      }
    },
    {
      "cell_type": "code",
      "execution_count": null,
      "metadata": {
        "colab": {
          "base_uri": "https://localhost:8080/",
          "height": 206
        },
        "id": "iFiR6gAl5LKz",
        "outputId": "db2858d2-2006-4a43-edce-c99db495385e"
      },
      "outputs": [
        {
          "output_type": "execute_result",
          "data": {
            "text/plain": [
              "  userID  placeID  rating  food_rating  service_rating\n",
              "0  U1077   135085       2            2               2\n",
              "1  U1077   135038       2            2               1\n",
              "2  U1077   132825       2            2               2\n",
              "3  U1077   135060       1            2               2\n",
              "4  U1068   135104       1            1               2"
            ],
            "text/html": [
              "\n",
              "  <div id=\"df-a9a1ecf6-f469-4527-b72a-201ec62697c9\">\n",
              "    <div class=\"colab-df-container\">\n",
              "      <div>\n",
              "<style scoped>\n",
              "    .dataframe tbody tr th:only-of-type {\n",
              "        vertical-align: middle;\n",
              "    }\n",
              "\n",
              "    .dataframe tbody tr th {\n",
              "        vertical-align: top;\n",
              "    }\n",
              "\n",
              "    .dataframe thead th {\n",
              "        text-align: right;\n",
              "    }\n",
              "</style>\n",
              "<table border=\"1\" class=\"dataframe\">\n",
              "  <thead>\n",
              "    <tr style=\"text-align: right;\">\n",
              "      <th></th>\n",
              "      <th>userID</th>\n",
              "      <th>placeID</th>\n",
              "      <th>rating</th>\n",
              "      <th>food_rating</th>\n",
              "      <th>service_rating</th>\n",
              "    </tr>\n",
              "  </thead>\n",
              "  <tbody>\n",
              "    <tr>\n",
              "      <th>0</th>\n",
              "      <td>U1077</td>\n",
              "      <td>135085</td>\n",
              "      <td>2</td>\n",
              "      <td>2</td>\n",
              "      <td>2</td>\n",
              "    </tr>\n",
              "    <tr>\n",
              "      <th>1</th>\n",
              "      <td>U1077</td>\n",
              "      <td>135038</td>\n",
              "      <td>2</td>\n",
              "      <td>2</td>\n",
              "      <td>1</td>\n",
              "    </tr>\n",
              "    <tr>\n",
              "      <th>2</th>\n",
              "      <td>U1077</td>\n",
              "      <td>132825</td>\n",
              "      <td>2</td>\n",
              "      <td>2</td>\n",
              "      <td>2</td>\n",
              "    </tr>\n",
              "    <tr>\n",
              "      <th>3</th>\n",
              "      <td>U1077</td>\n",
              "      <td>135060</td>\n",
              "      <td>1</td>\n",
              "      <td>2</td>\n",
              "      <td>2</td>\n",
              "    </tr>\n",
              "    <tr>\n",
              "      <th>4</th>\n",
              "      <td>U1068</td>\n",
              "      <td>135104</td>\n",
              "      <td>1</td>\n",
              "      <td>1</td>\n",
              "      <td>2</td>\n",
              "    </tr>\n",
              "  </tbody>\n",
              "</table>\n",
              "</div>\n",
              "      <button class=\"colab-df-convert\" onclick=\"convertToInteractive('df-a9a1ecf6-f469-4527-b72a-201ec62697c9')\"\n",
              "              title=\"Convert this dataframe to an interactive table.\"\n",
              "              style=\"display:none;\">\n",
              "        \n",
              "  <svg xmlns=\"http://www.w3.org/2000/svg\" height=\"24px\"viewBox=\"0 0 24 24\"\n",
              "       width=\"24px\">\n",
              "    <path d=\"M0 0h24v24H0V0z\" fill=\"none\"/>\n",
              "    <path d=\"M18.56 5.44l.94 2.06.94-2.06 2.06-.94-2.06-.94-.94-2.06-.94 2.06-2.06.94zm-11 1L8.5 8.5l.94-2.06 2.06-.94-2.06-.94L8.5 2.5l-.94 2.06-2.06.94zm10 10l.94 2.06.94-2.06 2.06-.94-2.06-.94-.94-2.06-.94 2.06-2.06.94z\"/><path d=\"M17.41 7.96l-1.37-1.37c-.4-.4-.92-.59-1.43-.59-.52 0-1.04.2-1.43.59L10.3 9.45l-7.72 7.72c-.78.78-.78 2.05 0 2.83L4 21.41c.39.39.9.59 1.41.59.51 0 1.02-.2 1.41-.59l7.78-7.78 2.81-2.81c.8-.78.8-2.07 0-2.86zM5.41 20L4 18.59l7.72-7.72 1.47 1.35L5.41 20z\"/>\n",
              "  </svg>\n",
              "      </button>\n",
              "      \n",
              "  <style>\n",
              "    .colab-df-container {\n",
              "      display:flex;\n",
              "      flex-wrap:wrap;\n",
              "      gap: 12px;\n",
              "    }\n",
              "\n",
              "    .colab-df-convert {\n",
              "      background-color: #E8F0FE;\n",
              "      border: none;\n",
              "      border-radius: 50%;\n",
              "      cursor: pointer;\n",
              "      display: none;\n",
              "      fill: #1967D2;\n",
              "      height: 32px;\n",
              "      padding: 0 0 0 0;\n",
              "      width: 32px;\n",
              "    }\n",
              "\n",
              "    .colab-df-convert:hover {\n",
              "      background-color: #E2EBFA;\n",
              "      box-shadow: 0px 1px 2px rgba(60, 64, 67, 0.3), 0px 1px 3px 1px rgba(60, 64, 67, 0.15);\n",
              "      fill: #174EA6;\n",
              "    }\n",
              "\n",
              "    [theme=dark] .colab-df-convert {\n",
              "      background-color: #3B4455;\n",
              "      fill: #D2E3FC;\n",
              "    }\n",
              "\n",
              "    [theme=dark] .colab-df-convert:hover {\n",
              "      background-color: #434B5C;\n",
              "      box-shadow: 0px 1px 3px 1px rgba(0, 0, 0, 0.15);\n",
              "      filter: drop-shadow(0px 1px 2px rgba(0, 0, 0, 0.3));\n",
              "      fill: #FFFFFF;\n",
              "    }\n",
              "  </style>\n",
              "\n",
              "      <script>\n",
              "        const buttonEl =\n",
              "          document.querySelector('#df-a9a1ecf6-f469-4527-b72a-201ec62697c9 button.colab-df-convert');\n",
              "        buttonEl.style.display =\n",
              "          google.colab.kernel.accessAllowed ? 'block' : 'none';\n",
              "\n",
              "        async function convertToInteractive(key) {\n",
              "          const element = document.querySelector('#df-a9a1ecf6-f469-4527-b72a-201ec62697c9');\n",
              "          const dataTable =\n",
              "            await google.colab.kernel.invokeFunction('convertToInteractive',\n",
              "                                                     [key], {});\n",
              "          if (!dataTable) return;\n",
              "\n",
              "          const docLinkHtml = 'Like what you see? Visit the ' +\n",
              "            '<a target=\"_blank\" href=https://colab.research.google.com/notebooks/data_table.ipynb>data table notebook</a>'\n",
              "            + ' to learn more about interactive tables.';\n",
              "          element.innerHTML = '';\n",
              "          dataTable['output_type'] = 'display_data';\n",
              "          await google.colab.output.renderOutput(dataTable, element);\n",
              "          const docLink = document.createElement('div');\n",
              "          docLink.innerHTML = docLinkHtml;\n",
              "          element.appendChild(docLink);\n",
              "        }\n",
              "      </script>\n",
              "    </div>\n",
              "  </div>\n",
              "  "
            ]
          },
          "metadata": {},
          "execution_count": 3
        }
      ],
      "source": [
        "df = pd.read_csv(\"rating_final.csv\")\n",
        "df.head()"
      ]
    },
    {
      "cell_type": "code",
      "source": [
        "dfcuisine = pd.read_csv('chefmozcuisine.csv')\n",
        "dfaccepts = pd.read_csv('chefmozaccepts.csv')\n",
        "dfpark = pd.read_csv('chefmozparking.csv')"
      ],
      "metadata": {
        "id": "ajNA1epabDLp"
      },
      "execution_count": null,
      "outputs": []
    },
    {
      "cell_type": "markdown",
      "source": [
        "Cleaning and Preprocessing of dataset"
      ],
      "metadata": {
        "id": "UWfhUzNnjgVi"
      }
    },
    {
      "cell_type": "code",
      "source": [
        "df_grouped1 = dfcuisine.groupby('placeID')['Rcuisine'].apply(list).reset_index(name='cuisine')\n",
        "df_grouped2 = dfaccepts.groupby('placeID')['Rpayment'].apply(list).reset_index(name='payment')\n",
        "df_grouped3 = dfpark.groupby('placeID')['parking_lot'].apply(list).reset_index(name='parking')"
      ],
      "metadata": {
        "id": "pTU7QQRxdp9v"
      },
      "execution_count": null,
      "outputs": []
    },
    {
      "cell_type": "code",
      "source": [
        "df_grouped = reduce(lambda x,y: pd.merge(x,y, on='placeID'), [df_grouped1, df_grouped2, df_grouped3])"
      ],
      "metadata": {
        "id": "dvMOYm7LbbOV"
      },
      "execution_count": null,
      "outputs": []
    },
    {
      "cell_type": "code",
      "source": [
        "df_grouped['cstr'] = df_grouped.cuisine.apply(lambda x: ' '.join([str(i) for i in x]))\n",
        "df_grouped['pstr'] = df_grouped.payment.apply(lambda x: ' '.join([str(i) for i in x]))\n",
        "df_grouped['plstr'] = df_grouped.parking.apply(lambda x: ' '.join([str(i) for i in x]))"
      ],
      "metadata": {
        "id": "2UulTIzXgkAv"
      },
      "execution_count": null,
      "outputs": []
    },
    {
      "cell_type": "code",
      "source": [
        "df_grouped"
      ],
      "metadata": {
        "colab": {
          "base_uri": "https://localhost:8080/",
          "height": 624
        },
        "id": "d14E9D_kfxOa",
        "outputId": "6db5301c-1c00-413e-9d1b-dde65f4fb15e"
      },
      "execution_count": null,
      "outputs": [
        {
          "output_type": "execute_result",
          "data": {
            "text/plain": [
              "     placeID                          cuisine  \\\n",
              "0     132012          [French, Dutch-Belgian]   \n",
              "1     132023          [French, Dutch-Belgian]   \n",
              "2     132024  [Seafood, Continental-European]   \n",
              "3     132026                  [Dutch-Belgian]   \n",
              "4     132030          [French, Dutch-Belgian]   \n",
              "..       ...                              ...   \n",
              "458   135105                      [Fast_Food]   \n",
              "459   135106                        [Mexican]   \n",
              "460   135107                 [Latin_American]   \n",
              "461   135109                        [Italian]   \n",
              "462   135110                        [Spanish]   \n",
              "\n",
              "                                               payment           parking  \\\n",
              "0    [Visa, American_Express, bank_debit_cards, Din...  [public, street]   \n",
              "1    [American_Express, Japan_Credit_Bureau, bank_d...     [fee, public]   \n",
              "2    [Visa, American_Express, bank_debit_cards, Din...          [street]   \n",
              "3    [Visa, American_Express, bank_debit_cards, Din...             [fee]   \n",
              "4    [Visa, American_Express, gift_certificates, ba...          [street]   \n",
              "..                                                 ...               ...   \n",
              "458                                             [cash]            [none]   \n",
              "459                  [cash, VISA, MasterCard-Eurocard]            [none]   \n",
              "460  [cash, VISA, MasterCard-Eurocard, American_Exp...            [none]   \n",
              "461                                             [cash]            [none]   \n",
              "462  [cash, VISA, MasterCard-Eurocard, American_Exp...            [none]   \n",
              "\n",
              "                             cstr  \\\n",
              "0            French Dutch-Belgian   \n",
              "1            French Dutch-Belgian   \n",
              "2    Seafood Continental-European   \n",
              "3                   Dutch-Belgian   \n",
              "4            French Dutch-Belgian   \n",
              "..                            ...   \n",
              "458                     Fast_Food   \n",
              "459                       Mexican   \n",
              "460                Latin_American   \n",
              "461                       Italian   \n",
              "462                       Spanish   \n",
              "\n",
              "                                                  pstr          plstr  \n",
              "0    Visa American_Express bank_debit_cards Diners_...  public street  \n",
              "1    American_Express Japan_Credit_Bureau bank_debi...     fee public  \n",
              "2    Visa American_Express bank_debit_cards Diners_...         street  \n",
              "3    Visa American_Express bank_debit_cards Diners_...            fee  \n",
              "4    Visa American_Express gift_certificates bank_d...         street  \n",
              "..                                                 ...            ...  \n",
              "458                                               cash           none  \n",
              "459                      cash VISA MasterCard-Eurocard           none  \n",
              "460  cash VISA MasterCard-Eurocard American_Express...           none  \n",
              "461                                               cash           none  \n",
              "462  cash VISA MasterCard-Eurocard American_Express...           none  \n",
              "\n",
              "[463 rows x 7 columns]"
            ],
            "text/html": [
              "\n",
              "  <div id=\"df-a04cad46-d808-4228-bae7-7a3a03362d13\">\n",
              "    <div class=\"colab-df-container\">\n",
              "      <div>\n",
              "<style scoped>\n",
              "    .dataframe tbody tr th:only-of-type {\n",
              "        vertical-align: middle;\n",
              "    }\n",
              "\n",
              "    .dataframe tbody tr th {\n",
              "        vertical-align: top;\n",
              "    }\n",
              "\n",
              "    .dataframe thead th {\n",
              "        text-align: right;\n",
              "    }\n",
              "</style>\n",
              "<table border=\"1\" class=\"dataframe\">\n",
              "  <thead>\n",
              "    <tr style=\"text-align: right;\">\n",
              "      <th></th>\n",
              "      <th>placeID</th>\n",
              "      <th>cuisine</th>\n",
              "      <th>payment</th>\n",
              "      <th>parking</th>\n",
              "      <th>cstr</th>\n",
              "      <th>pstr</th>\n",
              "      <th>plstr</th>\n",
              "    </tr>\n",
              "  </thead>\n",
              "  <tbody>\n",
              "    <tr>\n",
              "      <th>0</th>\n",
              "      <td>132012</td>\n",
              "      <td>[French, Dutch-Belgian]</td>\n",
              "      <td>[Visa, American_Express, bank_debit_cards, Din...</td>\n",
              "      <td>[public, street]</td>\n",
              "      <td>French Dutch-Belgian</td>\n",
              "      <td>Visa American_Express bank_debit_cards Diners_...</td>\n",
              "      <td>public street</td>\n",
              "    </tr>\n",
              "    <tr>\n",
              "      <th>1</th>\n",
              "      <td>132023</td>\n",
              "      <td>[French, Dutch-Belgian]</td>\n",
              "      <td>[American_Express, Japan_Credit_Bureau, bank_d...</td>\n",
              "      <td>[fee, public]</td>\n",
              "      <td>French Dutch-Belgian</td>\n",
              "      <td>American_Express Japan_Credit_Bureau bank_debi...</td>\n",
              "      <td>fee public</td>\n",
              "    </tr>\n",
              "    <tr>\n",
              "      <th>2</th>\n",
              "      <td>132024</td>\n",
              "      <td>[Seafood, Continental-European]</td>\n",
              "      <td>[Visa, American_Express, bank_debit_cards, Din...</td>\n",
              "      <td>[street]</td>\n",
              "      <td>Seafood Continental-European</td>\n",
              "      <td>Visa American_Express bank_debit_cards Diners_...</td>\n",
              "      <td>street</td>\n",
              "    </tr>\n",
              "    <tr>\n",
              "      <th>3</th>\n",
              "      <td>132026</td>\n",
              "      <td>[Dutch-Belgian]</td>\n",
              "      <td>[Visa, American_Express, bank_debit_cards, Din...</td>\n",
              "      <td>[fee]</td>\n",
              "      <td>Dutch-Belgian</td>\n",
              "      <td>Visa American_Express bank_debit_cards Diners_...</td>\n",
              "      <td>fee</td>\n",
              "    </tr>\n",
              "    <tr>\n",
              "      <th>4</th>\n",
              "      <td>132030</td>\n",
              "      <td>[French, Dutch-Belgian]</td>\n",
              "      <td>[Visa, American_Express, gift_certificates, ba...</td>\n",
              "      <td>[street]</td>\n",
              "      <td>French Dutch-Belgian</td>\n",
              "      <td>Visa American_Express gift_certificates bank_d...</td>\n",
              "      <td>street</td>\n",
              "    </tr>\n",
              "    <tr>\n",
              "      <th>...</th>\n",
              "      <td>...</td>\n",
              "      <td>...</td>\n",
              "      <td>...</td>\n",
              "      <td>...</td>\n",
              "      <td>...</td>\n",
              "      <td>...</td>\n",
              "      <td>...</td>\n",
              "    </tr>\n",
              "    <tr>\n",
              "      <th>458</th>\n",
              "      <td>135105</td>\n",
              "      <td>[Fast_Food]</td>\n",
              "      <td>[cash]</td>\n",
              "      <td>[none]</td>\n",
              "      <td>Fast_Food</td>\n",
              "      <td>cash</td>\n",
              "      <td>none</td>\n",
              "    </tr>\n",
              "    <tr>\n",
              "      <th>459</th>\n",
              "      <td>135106</td>\n",
              "      <td>[Mexican]</td>\n",
              "      <td>[cash, VISA, MasterCard-Eurocard]</td>\n",
              "      <td>[none]</td>\n",
              "      <td>Mexican</td>\n",
              "      <td>cash VISA MasterCard-Eurocard</td>\n",
              "      <td>none</td>\n",
              "    </tr>\n",
              "    <tr>\n",
              "      <th>460</th>\n",
              "      <td>135107</td>\n",
              "      <td>[Latin_American]</td>\n",
              "      <td>[cash, VISA, MasterCard-Eurocard, American_Exp...</td>\n",
              "      <td>[none]</td>\n",
              "      <td>Latin_American</td>\n",
              "      <td>cash VISA MasterCard-Eurocard American_Express...</td>\n",
              "      <td>none</td>\n",
              "    </tr>\n",
              "    <tr>\n",
              "      <th>461</th>\n",
              "      <td>135109</td>\n",
              "      <td>[Italian]</td>\n",
              "      <td>[cash]</td>\n",
              "      <td>[none]</td>\n",
              "      <td>Italian</td>\n",
              "      <td>cash</td>\n",
              "      <td>none</td>\n",
              "    </tr>\n",
              "    <tr>\n",
              "      <th>462</th>\n",
              "      <td>135110</td>\n",
              "      <td>[Spanish]</td>\n",
              "      <td>[cash, VISA, MasterCard-Eurocard, American_Exp...</td>\n",
              "      <td>[none]</td>\n",
              "      <td>Spanish</td>\n",
              "      <td>cash VISA MasterCard-Eurocard American_Express...</td>\n",
              "      <td>none</td>\n",
              "    </tr>\n",
              "  </tbody>\n",
              "</table>\n",
              "<p>463 rows × 7 columns</p>\n",
              "</div>\n",
              "      <button class=\"colab-df-convert\" onclick=\"convertToInteractive('df-a04cad46-d808-4228-bae7-7a3a03362d13')\"\n",
              "              title=\"Convert this dataframe to an interactive table.\"\n",
              "              style=\"display:none;\">\n",
              "        \n",
              "  <svg xmlns=\"http://www.w3.org/2000/svg\" height=\"24px\"viewBox=\"0 0 24 24\"\n",
              "       width=\"24px\">\n",
              "    <path d=\"M0 0h24v24H0V0z\" fill=\"none\"/>\n",
              "    <path d=\"M18.56 5.44l.94 2.06.94-2.06 2.06-.94-2.06-.94-.94-2.06-.94 2.06-2.06.94zm-11 1L8.5 8.5l.94-2.06 2.06-.94-2.06-.94L8.5 2.5l-.94 2.06-2.06.94zm10 10l.94 2.06.94-2.06 2.06-.94-2.06-.94-.94-2.06-.94 2.06-2.06.94z\"/><path d=\"M17.41 7.96l-1.37-1.37c-.4-.4-.92-.59-1.43-.59-.52 0-1.04.2-1.43.59L10.3 9.45l-7.72 7.72c-.78.78-.78 2.05 0 2.83L4 21.41c.39.39.9.59 1.41.59.51 0 1.02-.2 1.41-.59l7.78-7.78 2.81-2.81c.8-.78.8-2.07 0-2.86zM5.41 20L4 18.59l7.72-7.72 1.47 1.35L5.41 20z\"/>\n",
              "  </svg>\n",
              "      </button>\n",
              "      \n",
              "  <style>\n",
              "    .colab-df-container {\n",
              "      display:flex;\n",
              "      flex-wrap:wrap;\n",
              "      gap: 12px;\n",
              "    }\n",
              "\n",
              "    .colab-df-convert {\n",
              "      background-color: #E8F0FE;\n",
              "      border: none;\n",
              "      border-radius: 50%;\n",
              "      cursor: pointer;\n",
              "      display: none;\n",
              "      fill: #1967D2;\n",
              "      height: 32px;\n",
              "      padding: 0 0 0 0;\n",
              "      width: 32px;\n",
              "    }\n",
              "\n",
              "    .colab-df-convert:hover {\n",
              "      background-color: #E2EBFA;\n",
              "      box-shadow: 0px 1px 2px rgba(60, 64, 67, 0.3), 0px 1px 3px 1px rgba(60, 64, 67, 0.15);\n",
              "      fill: #174EA6;\n",
              "    }\n",
              "\n",
              "    [theme=dark] .colab-df-convert {\n",
              "      background-color: #3B4455;\n",
              "      fill: #D2E3FC;\n",
              "    }\n",
              "\n",
              "    [theme=dark] .colab-df-convert:hover {\n",
              "      background-color: #434B5C;\n",
              "      box-shadow: 0px 1px 3px 1px rgba(0, 0, 0, 0.15);\n",
              "      filter: drop-shadow(0px 1px 2px rgba(0, 0, 0, 0.3));\n",
              "      fill: #FFFFFF;\n",
              "    }\n",
              "  </style>\n",
              "\n",
              "      <script>\n",
              "        const buttonEl =\n",
              "          document.querySelector('#df-a04cad46-d808-4228-bae7-7a3a03362d13 button.colab-df-convert');\n",
              "        buttonEl.style.display =\n",
              "          google.colab.kernel.accessAllowed ? 'block' : 'none';\n",
              "\n",
              "        async function convertToInteractive(key) {\n",
              "          const element = document.querySelector('#df-a04cad46-d808-4228-bae7-7a3a03362d13');\n",
              "          const dataTable =\n",
              "            await google.colab.kernel.invokeFunction('convertToInteractive',\n",
              "                                                     [key], {});\n",
              "          if (!dataTable) return;\n",
              "\n",
              "          const docLinkHtml = 'Like what you see? Visit the ' +\n",
              "            '<a target=\"_blank\" href=https://colab.research.google.com/notebooks/data_table.ipynb>data table notebook</a>'\n",
              "            + ' to learn more about interactive tables.';\n",
              "          element.innerHTML = '';\n",
              "          dataTable['output_type'] = 'display_data';\n",
              "          await google.colab.output.renderOutput(dataTable, element);\n",
              "          const docLink = document.createElement('div');\n",
              "          docLink.innerHTML = docLinkHtml;\n",
              "          element.appendChild(docLink);\n",
              "        }\n",
              "      </script>\n",
              "    </div>\n",
              "  </div>\n",
              "  "
            ]
          },
          "metadata": {},
          "execution_count": 8
        }
      ]
    },
    {
      "cell_type": "code",
      "source": [
        "df_grouped['combined'] = df_grouped['cstr']+ ' ' + df_grouped['pstr'] + ' ' + df_grouped['plstr']"
      ],
      "metadata": {
        "id": "fq1n1UhUf78X"
      },
      "execution_count": null,
      "outputs": []
    },
    {
      "cell_type": "code",
      "source": [
        "df_grouped"
      ],
      "metadata": {
        "colab": {
          "base_uri": "https://localhost:8080/",
          "height": 780
        },
        "id": "Vv-Q8oysg4CT",
        "outputId": "e5884036-b5c9-4117-f723-e19e0733c56e"
      },
      "execution_count": null,
      "outputs": [
        {
          "output_type": "execute_result",
          "data": {
            "text/plain": [
              "     placeID                          cuisine  \\\n",
              "0     132012          [French, Dutch-Belgian]   \n",
              "1     132023          [French, Dutch-Belgian]   \n",
              "2     132024  [Seafood, Continental-European]   \n",
              "3     132026                  [Dutch-Belgian]   \n",
              "4     132030          [French, Dutch-Belgian]   \n",
              "..       ...                              ...   \n",
              "458   135105                      [Fast_Food]   \n",
              "459   135106                        [Mexican]   \n",
              "460   135107                 [Latin_American]   \n",
              "461   135109                        [Italian]   \n",
              "462   135110                        [Spanish]   \n",
              "\n",
              "                                               payment           parking  \\\n",
              "0    [Visa, American_Express, bank_debit_cards, Din...  [public, street]   \n",
              "1    [American_Express, Japan_Credit_Bureau, bank_d...     [fee, public]   \n",
              "2    [Visa, American_Express, bank_debit_cards, Din...          [street]   \n",
              "3    [Visa, American_Express, bank_debit_cards, Din...             [fee]   \n",
              "4    [Visa, American_Express, gift_certificates, ba...          [street]   \n",
              "..                                                 ...               ...   \n",
              "458                                             [cash]            [none]   \n",
              "459                  [cash, VISA, MasterCard-Eurocard]            [none]   \n",
              "460  [cash, VISA, MasterCard-Eurocard, American_Exp...            [none]   \n",
              "461                                             [cash]            [none]   \n",
              "462  [cash, VISA, MasterCard-Eurocard, American_Exp...            [none]   \n",
              "\n",
              "                             cstr  \\\n",
              "0            French Dutch-Belgian   \n",
              "1            French Dutch-Belgian   \n",
              "2    Seafood Continental-European   \n",
              "3                   Dutch-Belgian   \n",
              "4            French Dutch-Belgian   \n",
              "..                            ...   \n",
              "458                     Fast_Food   \n",
              "459                       Mexican   \n",
              "460                Latin_American   \n",
              "461                       Italian   \n",
              "462                       Spanish   \n",
              "\n",
              "                                                  pstr          plstr  \\\n",
              "0    Visa American_Express bank_debit_cards Diners_...  public street   \n",
              "1    American_Express Japan_Credit_Bureau bank_debi...     fee public   \n",
              "2    Visa American_Express bank_debit_cards Diners_...         street   \n",
              "3    Visa American_Express bank_debit_cards Diners_...            fee   \n",
              "4    Visa American_Express gift_certificates bank_d...         street   \n",
              "..                                                 ...            ...   \n",
              "458                                               cash           none   \n",
              "459                      cash VISA MasterCard-Eurocard           none   \n",
              "460  cash VISA MasterCard-Eurocard American_Express...           none   \n",
              "461                                               cash           none   \n",
              "462  cash VISA MasterCard-Eurocard American_Express...           none   \n",
              "\n",
              "                                              combined  \n",
              "0    French Dutch-Belgian Visa American_Express ban...  \n",
              "1    French Dutch-Belgian American_Express Japan_Cr...  \n",
              "2    Seafood Continental-European Visa American_Exp...  \n",
              "3    Dutch-Belgian Visa American_Express bank_debit...  \n",
              "4    French Dutch-Belgian Visa American_Express gif...  \n",
              "..                                                 ...  \n",
              "458                                Fast_Food cash none  \n",
              "459         Mexican cash VISA MasterCard-Eurocard none  \n",
              "460  Latin_American cash VISA MasterCard-Eurocard A...  \n",
              "461                                  Italian cash none  \n",
              "462  Spanish cash VISA MasterCard-Eurocard American...  \n",
              "\n",
              "[463 rows x 8 columns]"
            ],
            "text/html": [
              "\n",
              "  <div id=\"df-1aacc982-73a8-48f0-a839-3d0d65f655db\">\n",
              "    <div class=\"colab-df-container\">\n",
              "      <div>\n",
              "<style scoped>\n",
              "    .dataframe tbody tr th:only-of-type {\n",
              "        vertical-align: middle;\n",
              "    }\n",
              "\n",
              "    .dataframe tbody tr th {\n",
              "        vertical-align: top;\n",
              "    }\n",
              "\n",
              "    .dataframe thead th {\n",
              "        text-align: right;\n",
              "    }\n",
              "</style>\n",
              "<table border=\"1\" class=\"dataframe\">\n",
              "  <thead>\n",
              "    <tr style=\"text-align: right;\">\n",
              "      <th></th>\n",
              "      <th>placeID</th>\n",
              "      <th>cuisine</th>\n",
              "      <th>payment</th>\n",
              "      <th>parking</th>\n",
              "      <th>cstr</th>\n",
              "      <th>pstr</th>\n",
              "      <th>plstr</th>\n",
              "      <th>combined</th>\n",
              "    </tr>\n",
              "  </thead>\n",
              "  <tbody>\n",
              "    <tr>\n",
              "      <th>0</th>\n",
              "      <td>132012</td>\n",
              "      <td>[French, Dutch-Belgian]</td>\n",
              "      <td>[Visa, American_Express, bank_debit_cards, Din...</td>\n",
              "      <td>[public, street]</td>\n",
              "      <td>French Dutch-Belgian</td>\n",
              "      <td>Visa American_Express bank_debit_cards Diners_...</td>\n",
              "      <td>public street</td>\n",
              "      <td>French Dutch-Belgian Visa American_Express ban...</td>\n",
              "    </tr>\n",
              "    <tr>\n",
              "      <th>1</th>\n",
              "      <td>132023</td>\n",
              "      <td>[French, Dutch-Belgian]</td>\n",
              "      <td>[American_Express, Japan_Credit_Bureau, bank_d...</td>\n",
              "      <td>[fee, public]</td>\n",
              "      <td>French Dutch-Belgian</td>\n",
              "      <td>American_Express Japan_Credit_Bureau bank_debi...</td>\n",
              "      <td>fee public</td>\n",
              "      <td>French Dutch-Belgian American_Express Japan_Cr...</td>\n",
              "    </tr>\n",
              "    <tr>\n",
              "      <th>2</th>\n",
              "      <td>132024</td>\n",
              "      <td>[Seafood, Continental-European]</td>\n",
              "      <td>[Visa, American_Express, bank_debit_cards, Din...</td>\n",
              "      <td>[street]</td>\n",
              "      <td>Seafood Continental-European</td>\n",
              "      <td>Visa American_Express bank_debit_cards Diners_...</td>\n",
              "      <td>street</td>\n",
              "      <td>Seafood Continental-European Visa American_Exp...</td>\n",
              "    </tr>\n",
              "    <tr>\n",
              "      <th>3</th>\n",
              "      <td>132026</td>\n",
              "      <td>[Dutch-Belgian]</td>\n",
              "      <td>[Visa, American_Express, bank_debit_cards, Din...</td>\n",
              "      <td>[fee]</td>\n",
              "      <td>Dutch-Belgian</td>\n",
              "      <td>Visa American_Express bank_debit_cards Diners_...</td>\n",
              "      <td>fee</td>\n",
              "      <td>Dutch-Belgian Visa American_Express bank_debit...</td>\n",
              "    </tr>\n",
              "    <tr>\n",
              "      <th>4</th>\n",
              "      <td>132030</td>\n",
              "      <td>[French, Dutch-Belgian]</td>\n",
              "      <td>[Visa, American_Express, gift_certificates, ba...</td>\n",
              "      <td>[street]</td>\n",
              "      <td>French Dutch-Belgian</td>\n",
              "      <td>Visa American_Express gift_certificates bank_d...</td>\n",
              "      <td>street</td>\n",
              "      <td>French Dutch-Belgian Visa American_Express gif...</td>\n",
              "    </tr>\n",
              "    <tr>\n",
              "      <th>...</th>\n",
              "      <td>...</td>\n",
              "      <td>...</td>\n",
              "      <td>...</td>\n",
              "      <td>...</td>\n",
              "      <td>...</td>\n",
              "      <td>...</td>\n",
              "      <td>...</td>\n",
              "      <td>...</td>\n",
              "    </tr>\n",
              "    <tr>\n",
              "      <th>458</th>\n",
              "      <td>135105</td>\n",
              "      <td>[Fast_Food]</td>\n",
              "      <td>[cash]</td>\n",
              "      <td>[none]</td>\n",
              "      <td>Fast_Food</td>\n",
              "      <td>cash</td>\n",
              "      <td>none</td>\n",
              "      <td>Fast_Food cash none</td>\n",
              "    </tr>\n",
              "    <tr>\n",
              "      <th>459</th>\n",
              "      <td>135106</td>\n",
              "      <td>[Mexican]</td>\n",
              "      <td>[cash, VISA, MasterCard-Eurocard]</td>\n",
              "      <td>[none]</td>\n",
              "      <td>Mexican</td>\n",
              "      <td>cash VISA MasterCard-Eurocard</td>\n",
              "      <td>none</td>\n",
              "      <td>Mexican cash VISA MasterCard-Eurocard none</td>\n",
              "    </tr>\n",
              "    <tr>\n",
              "      <th>460</th>\n",
              "      <td>135107</td>\n",
              "      <td>[Latin_American]</td>\n",
              "      <td>[cash, VISA, MasterCard-Eurocard, American_Exp...</td>\n",
              "      <td>[none]</td>\n",
              "      <td>Latin_American</td>\n",
              "      <td>cash VISA MasterCard-Eurocard American_Express...</td>\n",
              "      <td>none</td>\n",
              "      <td>Latin_American cash VISA MasterCard-Eurocard A...</td>\n",
              "    </tr>\n",
              "    <tr>\n",
              "      <th>461</th>\n",
              "      <td>135109</td>\n",
              "      <td>[Italian]</td>\n",
              "      <td>[cash]</td>\n",
              "      <td>[none]</td>\n",
              "      <td>Italian</td>\n",
              "      <td>cash</td>\n",
              "      <td>none</td>\n",
              "      <td>Italian cash none</td>\n",
              "    </tr>\n",
              "    <tr>\n",
              "      <th>462</th>\n",
              "      <td>135110</td>\n",
              "      <td>[Spanish]</td>\n",
              "      <td>[cash, VISA, MasterCard-Eurocard, American_Exp...</td>\n",
              "      <td>[none]</td>\n",
              "      <td>Spanish</td>\n",
              "      <td>cash VISA MasterCard-Eurocard American_Express...</td>\n",
              "      <td>none</td>\n",
              "      <td>Spanish cash VISA MasterCard-Eurocard American...</td>\n",
              "    </tr>\n",
              "  </tbody>\n",
              "</table>\n",
              "<p>463 rows × 8 columns</p>\n",
              "</div>\n",
              "      <button class=\"colab-df-convert\" onclick=\"convertToInteractive('df-1aacc982-73a8-48f0-a839-3d0d65f655db')\"\n",
              "              title=\"Convert this dataframe to an interactive table.\"\n",
              "              style=\"display:none;\">\n",
              "        \n",
              "  <svg xmlns=\"http://www.w3.org/2000/svg\" height=\"24px\"viewBox=\"0 0 24 24\"\n",
              "       width=\"24px\">\n",
              "    <path d=\"M0 0h24v24H0V0z\" fill=\"none\"/>\n",
              "    <path d=\"M18.56 5.44l.94 2.06.94-2.06 2.06-.94-2.06-.94-.94-2.06-.94 2.06-2.06.94zm-11 1L8.5 8.5l.94-2.06 2.06-.94-2.06-.94L8.5 2.5l-.94 2.06-2.06.94zm10 10l.94 2.06.94-2.06 2.06-.94-2.06-.94-.94-2.06-.94 2.06-2.06.94z\"/><path d=\"M17.41 7.96l-1.37-1.37c-.4-.4-.92-.59-1.43-.59-.52 0-1.04.2-1.43.59L10.3 9.45l-7.72 7.72c-.78.78-.78 2.05 0 2.83L4 21.41c.39.39.9.59 1.41.59.51 0 1.02-.2 1.41-.59l7.78-7.78 2.81-2.81c.8-.78.8-2.07 0-2.86zM5.41 20L4 18.59l7.72-7.72 1.47 1.35L5.41 20z\"/>\n",
              "  </svg>\n",
              "      </button>\n",
              "      \n",
              "  <style>\n",
              "    .colab-df-container {\n",
              "      display:flex;\n",
              "      flex-wrap:wrap;\n",
              "      gap: 12px;\n",
              "    }\n",
              "\n",
              "    .colab-df-convert {\n",
              "      background-color: #E8F0FE;\n",
              "      border: none;\n",
              "      border-radius: 50%;\n",
              "      cursor: pointer;\n",
              "      display: none;\n",
              "      fill: #1967D2;\n",
              "      height: 32px;\n",
              "      padding: 0 0 0 0;\n",
              "      width: 32px;\n",
              "    }\n",
              "\n",
              "    .colab-df-convert:hover {\n",
              "      background-color: #E2EBFA;\n",
              "      box-shadow: 0px 1px 2px rgba(60, 64, 67, 0.3), 0px 1px 3px 1px rgba(60, 64, 67, 0.15);\n",
              "      fill: #174EA6;\n",
              "    }\n",
              "\n",
              "    [theme=dark] .colab-df-convert {\n",
              "      background-color: #3B4455;\n",
              "      fill: #D2E3FC;\n",
              "    }\n",
              "\n",
              "    [theme=dark] .colab-df-convert:hover {\n",
              "      background-color: #434B5C;\n",
              "      box-shadow: 0px 1px 3px 1px rgba(0, 0, 0, 0.15);\n",
              "      filter: drop-shadow(0px 1px 2px rgba(0, 0, 0, 0.3));\n",
              "      fill: #FFFFFF;\n",
              "    }\n",
              "  </style>\n",
              "\n",
              "      <script>\n",
              "        const buttonEl =\n",
              "          document.querySelector('#df-1aacc982-73a8-48f0-a839-3d0d65f655db button.colab-df-convert');\n",
              "        buttonEl.style.display =\n",
              "          google.colab.kernel.accessAllowed ? 'block' : 'none';\n",
              "\n",
              "        async function convertToInteractive(key) {\n",
              "          const element = document.querySelector('#df-1aacc982-73a8-48f0-a839-3d0d65f655db');\n",
              "          const dataTable =\n",
              "            await google.colab.kernel.invokeFunction('convertToInteractive',\n",
              "                                                     [key], {});\n",
              "          if (!dataTable) return;\n",
              "\n",
              "          const docLinkHtml = 'Like what you see? Visit the ' +\n",
              "            '<a target=\"_blank\" href=https://colab.research.google.com/notebooks/data_table.ipynb>data table notebook</a>'\n",
              "            + ' to learn more about interactive tables.';\n",
              "          element.innerHTML = '';\n",
              "          dataTable['output_type'] = 'display_data';\n",
              "          await google.colab.output.renderOutput(dataTable, element);\n",
              "          const docLink = document.createElement('div');\n",
              "          docLink.innerHTML = docLinkHtml;\n",
              "          element.appendChild(docLink);\n",
              "        }\n",
              "      </script>\n",
              "    </div>\n",
              "  </div>\n",
              "  "
            ]
          },
          "metadata": {},
          "execution_count": 10
        }
      ]
    },
    {
      "cell_type": "markdown",
      "source": [
        "Creating the dataset for BERT embeddings"
      ],
      "metadata": {
        "id": "GVCr56o1DUKU"
      }
    },
    {
      "cell_type": "code",
      "source": [
        "df_joined = df_grouped.merge(df,on='placeID',how='right')"
      ],
      "metadata": {
        "id": "_Slfv2Izb-IS"
      },
      "execution_count": null,
      "outputs": []
    },
    {
      "cell_type": "code",
      "source": [
        "len(df_joined['placeID'].unique())"
      ],
      "metadata": {
        "colab": {
          "base_uri": "https://localhost:8080/"
        },
        "id": "MmcDxcTTeGW_",
        "outputId": "00f5a62e-e779-48db-84ae-ab1a4b115d7d"
      },
      "execution_count": null,
      "outputs": [
        {
          "output_type": "execute_result",
          "data": {
            "text/plain": [
              "130"
            ]
          },
          "metadata": {},
          "execution_count": 12
        }
      ]
    },
    {
      "cell_type": "code",
      "source": [
        "df_joined_filtered = df_joined[['placeID','combined']]"
      ],
      "metadata": {
        "id": "0mhqnyw6eJpg"
      },
      "execution_count": null,
      "outputs": []
    },
    {
      "cell_type": "code",
      "source": [
        "len(df_joined_filtered['placeID'].unique())"
      ],
      "metadata": {
        "colab": {
          "base_uri": "https://localhost:8080/"
        },
        "id": "iPTZwMAmhtA-",
        "outputId": "1e8eb249-984e-4b66-ec67-82064399b3a2"
      },
      "execution_count": null,
      "outputs": [
        {
          "output_type": "execute_result",
          "data": {
            "text/plain": [
              "130"
            ]
          },
          "metadata": {},
          "execution_count": 14
        }
      ]
    },
    {
      "cell_type": "code",
      "source": [
        "df1 = df_joined_filtered.drop_duplicates()"
      ],
      "metadata": {
        "id": "Frvt09VBcI1_"
      },
      "execution_count": null,
      "outputs": []
    },
    {
      "cell_type": "code",
      "source": [
        "df1.reset_index(inplace=True,drop=True)"
      ],
      "metadata": {
        "id": "B1iv65RicXyG"
      },
      "execution_count": null,
      "outputs": []
    },
    {
      "cell_type": "code",
      "source": [
        "df1.fillna('')"
      ],
      "metadata": {
        "colab": {
          "base_uri": "https://localhost:8080/",
          "height": 424
        },
        "id": "K9QPrFWkiGq0",
        "outputId": "a0b1d58f-7315-46d2-80e0-1aee68e9aba5"
      },
      "execution_count": null,
      "outputs": [
        {
          "output_type": "execute_result",
          "data": {
            "text/plain": [
              "     placeID                                           combined\n",
              "0     135085                              Fast_Food cash public\n",
              "1     135038                                                   \n",
              "2     132825                                  Mexican cash none\n",
              "3     135060                                  Seafood cash none\n",
              "4     135104          Mexican cash VISA MasterCard-Eurocard yes\n",
              "..       ...                                                ...\n",
              "125   132951                                  American cash yes\n",
              "126   132937                                      Bar cash none\n",
              "127   132954  Breakfast-Brunch cash VISA MasterCard-Eurocard...\n",
              "128   132955  Bar_Pub_Brewery cash VISA MasterCard-Eurocard ...\n",
              "129   132958  American cash VISA MasterCard-Eurocard America...\n",
              "\n",
              "[130 rows x 2 columns]"
            ],
            "text/html": [
              "\n",
              "  <div id=\"df-ed2e236e-afeb-4c9e-a56b-47c65ebf9a1e\">\n",
              "    <div class=\"colab-df-container\">\n",
              "      <div>\n",
              "<style scoped>\n",
              "    .dataframe tbody tr th:only-of-type {\n",
              "        vertical-align: middle;\n",
              "    }\n",
              "\n",
              "    .dataframe tbody tr th {\n",
              "        vertical-align: top;\n",
              "    }\n",
              "\n",
              "    .dataframe thead th {\n",
              "        text-align: right;\n",
              "    }\n",
              "</style>\n",
              "<table border=\"1\" class=\"dataframe\">\n",
              "  <thead>\n",
              "    <tr style=\"text-align: right;\">\n",
              "      <th></th>\n",
              "      <th>placeID</th>\n",
              "      <th>combined</th>\n",
              "    </tr>\n",
              "  </thead>\n",
              "  <tbody>\n",
              "    <tr>\n",
              "      <th>0</th>\n",
              "      <td>135085</td>\n",
              "      <td>Fast_Food cash public</td>\n",
              "    </tr>\n",
              "    <tr>\n",
              "      <th>1</th>\n",
              "      <td>135038</td>\n",
              "      <td></td>\n",
              "    </tr>\n",
              "    <tr>\n",
              "      <th>2</th>\n",
              "      <td>132825</td>\n",
              "      <td>Mexican cash none</td>\n",
              "    </tr>\n",
              "    <tr>\n",
              "      <th>3</th>\n",
              "      <td>135060</td>\n",
              "      <td>Seafood cash none</td>\n",
              "    </tr>\n",
              "    <tr>\n",
              "      <th>4</th>\n",
              "      <td>135104</td>\n",
              "      <td>Mexican cash VISA MasterCard-Eurocard yes</td>\n",
              "    </tr>\n",
              "    <tr>\n",
              "      <th>...</th>\n",
              "      <td>...</td>\n",
              "      <td>...</td>\n",
              "    </tr>\n",
              "    <tr>\n",
              "      <th>125</th>\n",
              "      <td>132951</td>\n",
              "      <td>American cash yes</td>\n",
              "    </tr>\n",
              "    <tr>\n",
              "      <th>126</th>\n",
              "      <td>132937</td>\n",
              "      <td>Bar cash none</td>\n",
              "    </tr>\n",
              "    <tr>\n",
              "      <th>127</th>\n",
              "      <td>132954</td>\n",
              "      <td>Breakfast-Brunch cash VISA MasterCard-Eurocard...</td>\n",
              "    </tr>\n",
              "    <tr>\n",
              "      <th>128</th>\n",
              "      <td>132955</td>\n",
              "      <td>Bar_Pub_Brewery cash VISA MasterCard-Eurocard ...</td>\n",
              "    </tr>\n",
              "    <tr>\n",
              "      <th>129</th>\n",
              "      <td>132958</td>\n",
              "      <td>American cash VISA MasterCard-Eurocard America...</td>\n",
              "    </tr>\n",
              "  </tbody>\n",
              "</table>\n",
              "<p>130 rows × 2 columns</p>\n",
              "</div>\n",
              "      <button class=\"colab-df-convert\" onclick=\"convertToInteractive('df-ed2e236e-afeb-4c9e-a56b-47c65ebf9a1e')\"\n",
              "              title=\"Convert this dataframe to an interactive table.\"\n",
              "              style=\"display:none;\">\n",
              "        \n",
              "  <svg xmlns=\"http://www.w3.org/2000/svg\" height=\"24px\"viewBox=\"0 0 24 24\"\n",
              "       width=\"24px\">\n",
              "    <path d=\"M0 0h24v24H0V0z\" fill=\"none\"/>\n",
              "    <path d=\"M18.56 5.44l.94 2.06.94-2.06 2.06-.94-2.06-.94-.94-2.06-.94 2.06-2.06.94zm-11 1L8.5 8.5l.94-2.06 2.06-.94-2.06-.94L8.5 2.5l-.94 2.06-2.06.94zm10 10l.94 2.06.94-2.06 2.06-.94-2.06-.94-.94-2.06-.94 2.06-2.06.94z\"/><path d=\"M17.41 7.96l-1.37-1.37c-.4-.4-.92-.59-1.43-.59-.52 0-1.04.2-1.43.59L10.3 9.45l-7.72 7.72c-.78.78-.78 2.05 0 2.83L4 21.41c.39.39.9.59 1.41.59.51 0 1.02-.2 1.41-.59l7.78-7.78 2.81-2.81c.8-.78.8-2.07 0-2.86zM5.41 20L4 18.59l7.72-7.72 1.47 1.35L5.41 20z\"/>\n",
              "  </svg>\n",
              "      </button>\n",
              "      \n",
              "  <style>\n",
              "    .colab-df-container {\n",
              "      display:flex;\n",
              "      flex-wrap:wrap;\n",
              "      gap: 12px;\n",
              "    }\n",
              "\n",
              "    .colab-df-convert {\n",
              "      background-color: #E8F0FE;\n",
              "      border: none;\n",
              "      border-radius: 50%;\n",
              "      cursor: pointer;\n",
              "      display: none;\n",
              "      fill: #1967D2;\n",
              "      height: 32px;\n",
              "      padding: 0 0 0 0;\n",
              "      width: 32px;\n",
              "    }\n",
              "\n",
              "    .colab-df-convert:hover {\n",
              "      background-color: #E2EBFA;\n",
              "      box-shadow: 0px 1px 2px rgba(60, 64, 67, 0.3), 0px 1px 3px 1px rgba(60, 64, 67, 0.15);\n",
              "      fill: #174EA6;\n",
              "    }\n",
              "\n",
              "    [theme=dark] .colab-df-convert {\n",
              "      background-color: #3B4455;\n",
              "      fill: #D2E3FC;\n",
              "    }\n",
              "\n",
              "    [theme=dark] .colab-df-convert:hover {\n",
              "      background-color: #434B5C;\n",
              "      box-shadow: 0px 1px 3px 1px rgba(0, 0, 0, 0.15);\n",
              "      filter: drop-shadow(0px 1px 2px rgba(0, 0, 0, 0.3));\n",
              "      fill: #FFFFFF;\n",
              "    }\n",
              "  </style>\n",
              "\n",
              "      <script>\n",
              "        const buttonEl =\n",
              "          document.querySelector('#df-ed2e236e-afeb-4c9e-a56b-47c65ebf9a1e button.colab-df-convert');\n",
              "        buttonEl.style.display =\n",
              "          google.colab.kernel.accessAllowed ? 'block' : 'none';\n",
              "\n",
              "        async function convertToInteractive(key) {\n",
              "          const element = document.querySelector('#df-ed2e236e-afeb-4c9e-a56b-47c65ebf9a1e');\n",
              "          const dataTable =\n",
              "            await google.colab.kernel.invokeFunction('convertToInteractive',\n",
              "                                                     [key], {});\n",
              "          if (!dataTable) return;\n",
              "\n",
              "          const docLinkHtml = 'Like what you see? Visit the ' +\n",
              "            '<a target=\"_blank\" href=https://colab.research.google.com/notebooks/data_table.ipynb>data table notebook</a>'\n",
              "            + ' to learn more about interactive tables.';\n",
              "          element.innerHTML = '';\n",
              "          dataTable['output_type'] = 'display_data';\n",
              "          await google.colab.output.renderOutput(dataTable, element);\n",
              "          const docLink = document.createElement('div');\n",
              "          docLink.innerHTML = docLinkHtml;\n",
              "          element.appendChild(docLink);\n",
              "        }\n",
              "      </script>\n",
              "    </div>\n",
              "  </div>\n",
              "  "
            ]
          },
          "metadata": {},
          "execution_count": 17
        }
      ]
    },
    {
      "cell_type": "markdown",
      "source": [
        "Matrix Factorization Preparation"
      ],
      "metadata": {
        "id": "YCXhX1QIj7d0"
      }
    },
    {
      "cell_type": "code",
      "execution_count": null,
      "metadata": {
        "id": "PibHYjCk5LK0"
      },
      "outputs": [],
      "source": [
        "user_id_dict = {}\n",
        "k=0\n",
        "for i in df['userID']:\n",
        "  if i not in user_id_dict:\n",
        "    user_id_dict[i] = k\n",
        "    k+=1\n",
        "\n",
        "recipe_id_dict = {}\n",
        "k=0\n",
        "for i in df['placeID']:\n",
        "  if i not in recipe_id_dict:\n",
        "    recipe_id_dict[i] = k\n",
        "    k+=1"
      ]
    },
    {
      "cell_type": "code",
      "execution_count": null,
      "metadata": {
        "colab": {
          "base_uri": "https://localhost:8080/",
          "height": 424
        },
        "id": "yi33NKij5LK0",
        "outputId": "aa350b0b-f57c-46c9-bee6-98460159690d"
      },
      "outputs": [
        {
          "output_type": "execute_result",
          "data": {
            "text/plain": [
              "     userID  placeID  rating  food_rating  service_rating  user_id_ordered\n",
              "0     U1077   135085       2            2               2                0\n",
              "1     U1077   135038       2            2               1                0\n",
              "2     U1077   132825       2            2               2                0\n",
              "3     U1077   135060       1            2               2                0\n",
              "4     U1068   135104       1            1               2                1\n",
              "...     ...      ...     ...          ...             ...              ...\n",
              "1156  U1043   132630       1            1               1              136\n",
              "1157  U1011   132715       1            1               0              137\n",
              "1158  U1068   132733       1            1               0                1\n",
              "1159  U1068   132594       1            1               1                1\n",
              "1160  U1068   132660       0            0               0                1\n",
              "\n",
              "[1161 rows x 6 columns]"
            ],
            "text/html": [
              "\n",
              "  <div id=\"df-6820d4d8-f87e-4376-baeb-9a19aa6ad646\">\n",
              "    <div class=\"colab-df-container\">\n",
              "      <div>\n",
              "<style scoped>\n",
              "    .dataframe tbody tr th:only-of-type {\n",
              "        vertical-align: middle;\n",
              "    }\n",
              "\n",
              "    .dataframe tbody tr th {\n",
              "        vertical-align: top;\n",
              "    }\n",
              "\n",
              "    .dataframe thead th {\n",
              "        text-align: right;\n",
              "    }\n",
              "</style>\n",
              "<table border=\"1\" class=\"dataframe\">\n",
              "  <thead>\n",
              "    <tr style=\"text-align: right;\">\n",
              "      <th></th>\n",
              "      <th>userID</th>\n",
              "      <th>placeID</th>\n",
              "      <th>rating</th>\n",
              "      <th>food_rating</th>\n",
              "      <th>service_rating</th>\n",
              "      <th>user_id_ordered</th>\n",
              "    </tr>\n",
              "  </thead>\n",
              "  <tbody>\n",
              "    <tr>\n",
              "      <th>0</th>\n",
              "      <td>U1077</td>\n",
              "      <td>135085</td>\n",
              "      <td>2</td>\n",
              "      <td>2</td>\n",
              "      <td>2</td>\n",
              "      <td>0</td>\n",
              "    </tr>\n",
              "    <tr>\n",
              "      <th>1</th>\n",
              "      <td>U1077</td>\n",
              "      <td>135038</td>\n",
              "      <td>2</td>\n",
              "      <td>2</td>\n",
              "      <td>1</td>\n",
              "      <td>0</td>\n",
              "    </tr>\n",
              "    <tr>\n",
              "      <th>2</th>\n",
              "      <td>U1077</td>\n",
              "      <td>132825</td>\n",
              "      <td>2</td>\n",
              "      <td>2</td>\n",
              "      <td>2</td>\n",
              "      <td>0</td>\n",
              "    </tr>\n",
              "    <tr>\n",
              "      <th>3</th>\n",
              "      <td>U1077</td>\n",
              "      <td>135060</td>\n",
              "      <td>1</td>\n",
              "      <td>2</td>\n",
              "      <td>2</td>\n",
              "      <td>0</td>\n",
              "    </tr>\n",
              "    <tr>\n",
              "      <th>4</th>\n",
              "      <td>U1068</td>\n",
              "      <td>135104</td>\n",
              "      <td>1</td>\n",
              "      <td>1</td>\n",
              "      <td>2</td>\n",
              "      <td>1</td>\n",
              "    </tr>\n",
              "    <tr>\n",
              "      <th>...</th>\n",
              "      <td>...</td>\n",
              "      <td>...</td>\n",
              "      <td>...</td>\n",
              "      <td>...</td>\n",
              "      <td>...</td>\n",
              "      <td>...</td>\n",
              "    </tr>\n",
              "    <tr>\n",
              "      <th>1156</th>\n",
              "      <td>U1043</td>\n",
              "      <td>132630</td>\n",
              "      <td>1</td>\n",
              "      <td>1</td>\n",
              "      <td>1</td>\n",
              "      <td>136</td>\n",
              "    </tr>\n",
              "    <tr>\n",
              "      <th>1157</th>\n",
              "      <td>U1011</td>\n",
              "      <td>132715</td>\n",
              "      <td>1</td>\n",
              "      <td>1</td>\n",
              "      <td>0</td>\n",
              "      <td>137</td>\n",
              "    </tr>\n",
              "    <tr>\n",
              "      <th>1158</th>\n",
              "      <td>U1068</td>\n",
              "      <td>132733</td>\n",
              "      <td>1</td>\n",
              "      <td>1</td>\n",
              "      <td>0</td>\n",
              "      <td>1</td>\n",
              "    </tr>\n",
              "    <tr>\n",
              "      <th>1159</th>\n",
              "      <td>U1068</td>\n",
              "      <td>132594</td>\n",
              "      <td>1</td>\n",
              "      <td>1</td>\n",
              "      <td>1</td>\n",
              "      <td>1</td>\n",
              "    </tr>\n",
              "    <tr>\n",
              "      <th>1160</th>\n",
              "      <td>U1068</td>\n",
              "      <td>132660</td>\n",
              "      <td>0</td>\n",
              "      <td>0</td>\n",
              "      <td>0</td>\n",
              "      <td>1</td>\n",
              "    </tr>\n",
              "  </tbody>\n",
              "</table>\n",
              "<p>1161 rows × 6 columns</p>\n",
              "</div>\n",
              "      <button class=\"colab-df-convert\" onclick=\"convertToInteractive('df-6820d4d8-f87e-4376-baeb-9a19aa6ad646')\"\n",
              "              title=\"Convert this dataframe to an interactive table.\"\n",
              "              style=\"display:none;\">\n",
              "        \n",
              "  <svg xmlns=\"http://www.w3.org/2000/svg\" height=\"24px\"viewBox=\"0 0 24 24\"\n",
              "       width=\"24px\">\n",
              "    <path d=\"M0 0h24v24H0V0z\" fill=\"none\"/>\n",
              "    <path d=\"M18.56 5.44l.94 2.06.94-2.06 2.06-.94-2.06-.94-.94-2.06-.94 2.06-2.06.94zm-11 1L8.5 8.5l.94-2.06 2.06-.94-2.06-.94L8.5 2.5l-.94 2.06-2.06.94zm10 10l.94 2.06.94-2.06 2.06-.94-2.06-.94-.94-2.06-.94 2.06-2.06.94z\"/><path d=\"M17.41 7.96l-1.37-1.37c-.4-.4-.92-.59-1.43-.59-.52 0-1.04.2-1.43.59L10.3 9.45l-7.72 7.72c-.78.78-.78 2.05 0 2.83L4 21.41c.39.39.9.59 1.41.59.51 0 1.02-.2 1.41-.59l7.78-7.78 2.81-2.81c.8-.78.8-2.07 0-2.86zM5.41 20L4 18.59l7.72-7.72 1.47 1.35L5.41 20z\"/>\n",
              "  </svg>\n",
              "      </button>\n",
              "      \n",
              "  <style>\n",
              "    .colab-df-container {\n",
              "      display:flex;\n",
              "      flex-wrap:wrap;\n",
              "      gap: 12px;\n",
              "    }\n",
              "\n",
              "    .colab-df-convert {\n",
              "      background-color: #E8F0FE;\n",
              "      border: none;\n",
              "      border-radius: 50%;\n",
              "      cursor: pointer;\n",
              "      display: none;\n",
              "      fill: #1967D2;\n",
              "      height: 32px;\n",
              "      padding: 0 0 0 0;\n",
              "      width: 32px;\n",
              "    }\n",
              "\n",
              "    .colab-df-convert:hover {\n",
              "      background-color: #E2EBFA;\n",
              "      box-shadow: 0px 1px 2px rgba(60, 64, 67, 0.3), 0px 1px 3px 1px rgba(60, 64, 67, 0.15);\n",
              "      fill: #174EA6;\n",
              "    }\n",
              "\n",
              "    [theme=dark] .colab-df-convert {\n",
              "      background-color: #3B4455;\n",
              "      fill: #D2E3FC;\n",
              "    }\n",
              "\n",
              "    [theme=dark] .colab-df-convert:hover {\n",
              "      background-color: #434B5C;\n",
              "      box-shadow: 0px 1px 3px 1px rgba(0, 0, 0, 0.15);\n",
              "      filter: drop-shadow(0px 1px 2px rgba(0, 0, 0, 0.3));\n",
              "      fill: #FFFFFF;\n",
              "    }\n",
              "  </style>\n",
              "\n",
              "      <script>\n",
              "        const buttonEl =\n",
              "          document.querySelector('#df-6820d4d8-f87e-4376-baeb-9a19aa6ad646 button.colab-df-convert');\n",
              "        buttonEl.style.display =\n",
              "          google.colab.kernel.accessAllowed ? 'block' : 'none';\n",
              "\n",
              "        async function convertToInteractive(key) {\n",
              "          const element = document.querySelector('#df-6820d4d8-f87e-4376-baeb-9a19aa6ad646');\n",
              "          const dataTable =\n",
              "            await google.colab.kernel.invokeFunction('convertToInteractive',\n",
              "                                                     [key], {});\n",
              "          if (!dataTable) return;\n",
              "\n",
              "          const docLinkHtml = 'Like what you see? Visit the ' +\n",
              "            '<a target=\"_blank\" href=https://colab.research.google.com/notebooks/data_table.ipynb>data table notebook</a>'\n",
              "            + ' to learn more about interactive tables.';\n",
              "          element.innerHTML = '';\n",
              "          dataTable['output_type'] = 'display_data';\n",
              "          await google.colab.output.renderOutput(dataTable, element);\n",
              "          const docLink = document.createElement('div');\n",
              "          docLink.innerHTML = docLinkHtml;\n",
              "          element.appendChild(docLink);\n",
              "        }\n",
              "      </script>\n",
              "    </div>\n",
              "  </div>\n",
              "  "
            ]
          },
          "metadata": {},
          "execution_count": 19
        }
      ],
      "source": [
        "df['user_id_ordered']= df['userID'].map(user_id_dict)\n",
        "df"
      ]
    },
    {
      "cell_type": "code",
      "execution_count": null,
      "metadata": {
        "colab": {
          "base_uri": "https://localhost:8080/",
          "height": 424
        },
        "id": "ukW1YOxO5LK1",
        "outputId": "3c43ec82-565c-4a3d-8528-66c1f69ad267"
      },
      "outputs": [
        {
          "output_type": "execute_result",
          "data": {
            "text/plain": [
              "     userID  placeID  rating  food_rating  service_rating  user_id_ordered  \\\n",
              "0     U1077   135085       2            2               2                0   \n",
              "1     U1077   135038       2            2               1                0   \n",
              "2     U1077   132825       2            2               2                0   \n",
              "3     U1077   135060       1            2               2                0   \n",
              "4     U1068   135104       1            1               2                1   \n",
              "...     ...      ...     ...          ...             ...              ...   \n",
              "1156  U1043   132630       1            1               1              136   \n",
              "1157  U1011   132715       1            1               0              137   \n",
              "1158  U1068   132733       1            1               0                1   \n",
              "1159  U1068   132594       1            1               1                1   \n",
              "1160  U1068   132660       0            0               0                1   \n",
              "\n",
              "      place_id_ordered  \n",
              "0                    0  \n",
              "1                    1  \n",
              "2                    2  \n",
              "3                    3  \n",
              "4                    4  \n",
              "...                ...  \n",
              "1156                 8  \n",
              "1157                21  \n",
              "1158                10  \n",
              "1159                23  \n",
              "1160                14  \n",
              "\n",
              "[1161 rows x 7 columns]"
            ],
            "text/html": [
              "\n",
              "  <div id=\"df-51ecc0ab-10b5-465c-8213-d67bf078cb10\">\n",
              "    <div class=\"colab-df-container\">\n",
              "      <div>\n",
              "<style scoped>\n",
              "    .dataframe tbody tr th:only-of-type {\n",
              "        vertical-align: middle;\n",
              "    }\n",
              "\n",
              "    .dataframe tbody tr th {\n",
              "        vertical-align: top;\n",
              "    }\n",
              "\n",
              "    .dataframe thead th {\n",
              "        text-align: right;\n",
              "    }\n",
              "</style>\n",
              "<table border=\"1\" class=\"dataframe\">\n",
              "  <thead>\n",
              "    <tr style=\"text-align: right;\">\n",
              "      <th></th>\n",
              "      <th>userID</th>\n",
              "      <th>placeID</th>\n",
              "      <th>rating</th>\n",
              "      <th>food_rating</th>\n",
              "      <th>service_rating</th>\n",
              "      <th>user_id_ordered</th>\n",
              "      <th>place_id_ordered</th>\n",
              "    </tr>\n",
              "  </thead>\n",
              "  <tbody>\n",
              "    <tr>\n",
              "      <th>0</th>\n",
              "      <td>U1077</td>\n",
              "      <td>135085</td>\n",
              "      <td>2</td>\n",
              "      <td>2</td>\n",
              "      <td>2</td>\n",
              "      <td>0</td>\n",
              "      <td>0</td>\n",
              "    </tr>\n",
              "    <tr>\n",
              "      <th>1</th>\n",
              "      <td>U1077</td>\n",
              "      <td>135038</td>\n",
              "      <td>2</td>\n",
              "      <td>2</td>\n",
              "      <td>1</td>\n",
              "      <td>0</td>\n",
              "      <td>1</td>\n",
              "    </tr>\n",
              "    <tr>\n",
              "      <th>2</th>\n",
              "      <td>U1077</td>\n",
              "      <td>132825</td>\n",
              "      <td>2</td>\n",
              "      <td>2</td>\n",
              "      <td>2</td>\n",
              "      <td>0</td>\n",
              "      <td>2</td>\n",
              "    </tr>\n",
              "    <tr>\n",
              "      <th>3</th>\n",
              "      <td>U1077</td>\n",
              "      <td>135060</td>\n",
              "      <td>1</td>\n",
              "      <td>2</td>\n",
              "      <td>2</td>\n",
              "      <td>0</td>\n",
              "      <td>3</td>\n",
              "    </tr>\n",
              "    <tr>\n",
              "      <th>4</th>\n",
              "      <td>U1068</td>\n",
              "      <td>135104</td>\n",
              "      <td>1</td>\n",
              "      <td>1</td>\n",
              "      <td>2</td>\n",
              "      <td>1</td>\n",
              "      <td>4</td>\n",
              "    </tr>\n",
              "    <tr>\n",
              "      <th>...</th>\n",
              "      <td>...</td>\n",
              "      <td>...</td>\n",
              "      <td>...</td>\n",
              "      <td>...</td>\n",
              "      <td>...</td>\n",
              "      <td>...</td>\n",
              "      <td>...</td>\n",
              "    </tr>\n",
              "    <tr>\n",
              "      <th>1156</th>\n",
              "      <td>U1043</td>\n",
              "      <td>132630</td>\n",
              "      <td>1</td>\n",
              "      <td>1</td>\n",
              "      <td>1</td>\n",
              "      <td>136</td>\n",
              "      <td>8</td>\n",
              "    </tr>\n",
              "    <tr>\n",
              "      <th>1157</th>\n",
              "      <td>U1011</td>\n",
              "      <td>132715</td>\n",
              "      <td>1</td>\n",
              "      <td>1</td>\n",
              "      <td>0</td>\n",
              "      <td>137</td>\n",
              "      <td>21</td>\n",
              "    </tr>\n",
              "    <tr>\n",
              "      <th>1158</th>\n",
              "      <td>U1068</td>\n",
              "      <td>132733</td>\n",
              "      <td>1</td>\n",
              "      <td>1</td>\n",
              "      <td>0</td>\n",
              "      <td>1</td>\n",
              "      <td>10</td>\n",
              "    </tr>\n",
              "    <tr>\n",
              "      <th>1159</th>\n",
              "      <td>U1068</td>\n",
              "      <td>132594</td>\n",
              "      <td>1</td>\n",
              "      <td>1</td>\n",
              "      <td>1</td>\n",
              "      <td>1</td>\n",
              "      <td>23</td>\n",
              "    </tr>\n",
              "    <tr>\n",
              "      <th>1160</th>\n",
              "      <td>U1068</td>\n",
              "      <td>132660</td>\n",
              "      <td>0</td>\n",
              "      <td>0</td>\n",
              "      <td>0</td>\n",
              "      <td>1</td>\n",
              "      <td>14</td>\n",
              "    </tr>\n",
              "  </tbody>\n",
              "</table>\n",
              "<p>1161 rows × 7 columns</p>\n",
              "</div>\n",
              "      <button class=\"colab-df-convert\" onclick=\"convertToInteractive('df-51ecc0ab-10b5-465c-8213-d67bf078cb10')\"\n",
              "              title=\"Convert this dataframe to an interactive table.\"\n",
              "              style=\"display:none;\">\n",
              "        \n",
              "  <svg xmlns=\"http://www.w3.org/2000/svg\" height=\"24px\"viewBox=\"0 0 24 24\"\n",
              "       width=\"24px\">\n",
              "    <path d=\"M0 0h24v24H0V0z\" fill=\"none\"/>\n",
              "    <path d=\"M18.56 5.44l.94 2.06.94-2.06 2.06-.94-2.06-.94-.94-2.06-.94 2.06-2.06.94zm-11 1L8.5 8.5l.94-2.06 2.06-.94-2.06-.94L8.5 2.5l-.94 2.06-2.06.94zm10 10l.94 2.06.94-2.06 2.06-.94-2.06-.94-.94-2.06-.94 2.06-2.06.94z\"/><path d=\"M17.41 7.96l-1.37-1.37c-.4-.4-.92-.59-1.43-.59-.52 0-1.04.2-1.43.59L10.3 9.45l-7.72 7.72c-.78.78-.78 2.05 0 2.83L4 21.41c.39.39.9.59 1.41.59.51 0 1.02-.2 1.41-.59l7.78-7.78 2.81-2.81c.8-.78.8-2.07 0-2.86zM5.41 20L4 18.59l7.72-7.72 1.47 1.35L5.41 20z\"/>\n",
              "  </svg>\n",
              "      </button>\n",
              "      \n",
              "  <style>\n",
              "    .colab-df-container {\n",
              "      display:flex;\n",
              "      flex-wrap:wrap;\n",
              "      gap: 12px;\n",
              "    }\n",
              "\n",
              "    .colab-df-convert {\n",
              "      background-color: #E8F0FE;\n",
              "      border: none;\n",
              "      border-radius: 50%;\n",
              "      cursor: pointer;\n",
              "      display: none;\n",
              "      fill: #1967D2;\n",
              "      height: 32px;\n",
              "      padding: 0 0 0 0;\n",
              "      width: 32px;\n",
              "    }\n",
              "\n",
              "    .colab-df-convert:hover {\n",
              "      background-color: #E2EBFA;\n",
              "      box-shadow: 0px 1px 2px rgba(60, 64, 67, 0.3), 0px 1px 3px 1px rgba(60, 64, 67, 0.15);\n",
              "      fill: #174EA6;\n",
              "    }\n",
              "\n",
              "    [theme=dark] .colab-df-convert {\n",
              "      background-color: #3B4455;\n",
              "      fill: #D2E3FC;\n",
              "    }\n",
              "\n",
              "    [theme=dark] .colab-df-convert:hover {\n",
              "      background-color: #434B5C;\n",
              "      box-shadow: 0px 1px 3px 1px rgba(0, 0, 0, 0.15);\n",
              "      filter: drop-shadow(0px 1px 2px rgba(0, 0, 0, 0.3));\n",
              "      fill: #FFFFFF;\n",
              "    }\n",
              "  </style>\n",
              "\n",
              "      <script>\n",
              "        const buttonEl =\n",
              "          document.querySelector('#df-51ecc0ab-10b5-465c-8213-d67bf078cb10 button.colab-df-convert');\n",
              "        buttonEl.style.display =\n",
              "          google.colab.kernel.accessAllowed ? 'block' : 'none';\n",
              "\n",
              "        async function convertToInteractive(key) {\n",
              "          const element = document.querySelector('#df-51ecc0ab-10b5-465c-8213-d67bf078cb10');\n",
              "          const dataTable =\n",
              "            await google.colab.kernel.invokeFunction('convertToInteractive',\n",
              "                                                     [key], {});\n",
              "          if (!dataTable) return;\n",
              "\n",
              "          const docLinkHtml = 'Like what you see? Visit the ' +\n",
              "            '<a target=\"_blank\" href=https://colab.research.google.com/notebooks/data_table.ipynb>data table notebook</a>'\n",
              "            + ' to learn more about interactive tables.';\n",
              "          element.innerHTML = '';\n",
              "          dataTable['output_type'] = 'display_data';\n",
              "          await google.colab.output.renderOutput(dataTable, element);\n",
              "          const docLink = document.createElement('div');\n",
              "          docLink.innerHTML = docLinkHtml;\n",
              "          element.appendChild(docLink);\n",
              "        }\n",
              "      </script>\n",
              "    </div>\n",
              "  </div>\n",
              "  "
            ]
          },
          "metadata": {},
          "execution_count": 20
        }
      ],
      "source": [
        "df['place_id_ordered']= df['placeID'].map(recipe_id_dict)\n",
        "df"
      ]
    },
    {
      "cell_type": "code",
      "execution_count": null,
      "metadata": {
        "id": "-owj790a5LK1"
      },
      "outputs": [],
      "source": [
        "df_new = df[['user_id_ordered','place_id_ordered','rating']]"
      ]
    },
    {
      "cell_type": "code",
      "execution_count": null,
      "metadata": {
        "id": "ZXO8BVEk5LK2"
      },
      "outputs": [],
      "source": [
        "df_new = df_new.rename(columns={'user_id_ordered':'userId','place_id_ordered':'placeId'})"
      ]
    },
    {
      "cell_type": "code",
      "execution_count": null,
      "metadata": {
        "id": "741hGsF15LK2"
      },
      "outputs": [],
      "source": [
        "df_new = df_new.iloc[:100000, :]"
      ]
    },
    {
      "cell_type": "code",
      "execution_count": null,
      "metadata": {
        "colab": {
          "base_uri": "https://localhost:8080/",
          "height": 206
        },
        "id": "5P6LGONa5LK3",
        "outputId": "e4bd19c5-efe4-4323-b695-19e9a31d0e87"
      },
      "outputs": [
        {
          "output_type": "execute_result",
          "data": {
            "text/plain": [
              "   userId  placeId  rating\n",
              "0       0        0       2\n",
              "1       0        1       2\n",
              "2       0        2       2\n",
              "3       0        3       1\n",
              "4       1        4       1"
            ],
            "text/html": [
              "\n",
              "  <div id=\"df-006da5d6-5c83-4f6b-9a22-e649a87371c4\">\n",
              "    <div class=\"colab-df-container\">\n",
              "      <div>\n",
              "<style scoped>\n",
              "    .dataframe tbody tr th:only-of-type {\n",
              "        vertical-align: middle;\n",
              "    }\n",
              "\n",
              "    .dataframe tbody tr th {\n",
              "        vertical-align: top;\n",
              "    }\n",
              "\n",
              "    .dataframe thead th {\n",
              "        text-align: right;\n",
              "    }\n",
              "</style>\n",
              "<table border=\"1\" class=\"dataframe\">\n",
              "  <thead>\n",
              "    <tr style=\"text-align: right;\">\n",
              "      <th></th>\n",
              "      <th>userId</th>\n",
              "      <th>placeId</th>\n",
              "      <th>rating</th>\n",
              "    </tr>\n",
              "  </thead>\n",
              "  <tbody>\n",
              "    <tr>\n",
              "      <th>0</th>\n",
              "      <td>0</td>\n",
              "      <td>0</td>\n",
              "      <td>2</td>\n",
              "    </tr>\n",
              "    <tr>\n",
              "      <th>1</th>\n",
              "      <td>0</td>\n",
              "      <td>1</td>\n",
              "      <td>2</td>\n",
              "    </tr>\n",
              "    <tr>\n",
              "      <th>2</th>\n",
              "      <td>0</td>\n",
              "      <td>2</td>\n",
              "      <td>2</td>\n",
              "    </tr>\n",
              "    <tr>\n",
              "      <th>3</th>\n",
              "      <td>0</td>\n",
              "      <td>3</td>\n",
              "      <td>1</td>\n",
              "    </tr>\n",
              "    <tr>\n",
              "      <th>4</th>\n",
              "      <td>1</td>\n",
              "      <td>4</td>\n",
              "      <td>1</td>\n",
              "    </tr>\n",
              "  </tbody>\n",
              "</table>\n",
              "</div>\n",
              "      <button class=\"colab-df-convert\" onclick=\"convertToInteractive('df-006da5d6-5c83-4f6b-9a22-e649a87371c4')\"\n",
              "              title=\"Convert this dataframe to an interactive table.\"\n",
              "              style=\"display:none;\">\n",
              "        \n",
              "  <svg xmlns=\"http://www.w3.org/2000/svg\" height=\"24px\"viewBox=\"0 0 24 24\"\n",
              "       width=\"24px\">\n",
              "    <path d=\"M0 0h24v24H0V0z\" fill=\"none\"/>\n",
              "    <path d=\"M18.56 5.44l.94 2.06.94-2.06 2.06-.94-2.06-.94-.94-2.06-.94 2.06-2.06.94zm-11 1L8.5 8.5l.94-2.06 2.06-.94-2.06-.94L8.5 2.5l-.94 2.06-2.06.94zm10 10l.94 2.06.94-2.06 2.06-.94-2.06-.94-.94-2.06-.94 2.06-2.06.94z\"/><path d=\"M17.41 7.96l-1.37-1.37c-.4-.4-.92-.59-1.43-.59-.52 0-1.04.2-1.43.59L10.3 9.45l-7.72 7.72c-.78.78-.78 2.05 0 2.83L4 21.41c.39.39.9.59 1.41.59.51 0 1.02-.2 1.41-.59l7.78-7.78 2.81-2.81c.8-.78.8-2.07 0-2.86zM5.41 20L4 18.59l7.72-7.72 1.47 1.35L5.41 20z\"/>\n",
              "  </svg>\n",
              "      </button>\n",
              "      \n",
              "  <style>\n",
              "    .colab-df-container {\n",
              "      display:flex;\n",
              "      flex-wrap:wrap;\n",
              "      gap: 12px;\n",
              "    }\n",
              "\n",
              "    .colab-df-convert {\n",
              "      background-color: #E8F0FE;\n",
              "      border: none;\n",
              "      border-radius: 50%;\n",
              "      cursor: pointer;\n",
              "      display: none;\n",
              "      fill: #1967D2;\n",
              "      height: 32px;\n",
              "      padding: 0 0 0 0;\n",
              "      width: 32px;\n",
              "    }\n",
              "\n",
              "    .colab-df-convert:hover {\n",
              "      background-color: #E2EBFA;\n",
              "      box-shadow: 0px 1px 2px rgba(60, 64, 67, 0.3), 0px 1px 3px 1px rgba(60, 64, 67, 0.15);\n",
              "      fill: #174EA6;\n",
              "    }\n",
              "\n",
              "    [theme=dark] .colab-df-convert {\n",
              "      background-color: #3B4455;\n",
              "      fill: #D2E3FC;\n",
              "    }\n",
              "\n",
              "    [theme=dark] .colab-df-convert:hover {\n",
              "      background-color: #434B5C;\n",
              "      box-shadow: 0px 1px 3px 1px rgba(0, 0, 0, 0.15);\n",
              "      filter: drop-shadow(0px 1px 2px rgba(0, 0, 0, 0.3));\n",
              "      fill: #FFFFFF;\n",
              "    }\n",
              "  </style>\n",
              "\n",
              "      <script>\n",
              "        const buttonEl =\n",
              "          document.querySelector('#df-006da5d6-5c83-4f6b-9a22-e649a87371c4 button.colab-df-convert');\n",
              "        buttonEl.style.display =\n",
              "          google.colab.kernel.accessAllowed ? 'block' : 'none';\n",
              "\n",
              "        async function convertToInteractive(key) {\n",
              "          const element = document.querySelector('#df-006da5d6-5c83-4f6b-9a22-e649a87371c4');\n",
              "          const dataTable =\n",
              "            await google.colab.kernel.invokeFunction('convertToInteractive',\n",
              "                                                     [key], {});\n",
              "          if (!dataTable) return;\n",
              "\n",
              "          const docLinkHtml = 'Like what you see? Visit the ' +\n",
              "            '<a target=\"_blank\" href=https://colab.research.google.com/notebooks/data_table.ipynb>data table notebook</a>'\n",
              "            + ' to learn more about interactive tables.';\n",
              "          element.innerHTML = '';\n",
              "          dataTable['output_type'] = 'display_data';\n",
              "          await google.colab.output.renderOutput(dataTable, element);\n",
              "          const docLink = document.createElement('div');\n",
              "          docLink.innerHTML = docLinkHtml;\n",
              "          element.appendChild(docLink);\n",
              "        }\n",
              "      </script>\n",
              "    </div>\n",
              "  </div>\n",
              "  "
            ]
          },
          "metadata": {},
          "execution_count": 24
        }
      ],
      "source": [
        "df_new.head()"
      ]
    },
    {
      "cell_type": "code",
      "execution_count": null,
      "metadata": {
        "id": "DuM5HssS5LK3"
      },
      "outputs": [],
      "source": [
        "X = df_new.iloc[:,:2]\n",
        "Y = df_new.iloc[:,2]"
      ]
    },
    {
      "cell_type": "code",
      "execution_count": null,
      "metadata": {
        "id": "PrmgXQmr5LK3"
      },
      "outputs": [],
      "source": [
        "x_train, x_test, y_train, y_test = train_test_split(X, Y, test_size = 0.2, random_state = 66)"
      ]
    },
    {
      "cell_type": "markdown",
      "source": [
        "Loading pre-trained BERT sentence encoder (Used cuisine, parking lot and payment information for BERT embeddings, as sentence encoder takes sentences/paragraphs for encoding)"
      ],
      "metadata": {
        "id": "FMZJEd3Gj_p9"
      }
    },
    {
      "cell_type": "code",
      "execution_count": null,
      "metadata": {
        "colab": {
          "base_uri": "https://localhost:8080/"
        },
        "id": "4QCBgoSjG3Fd",
        "outputId": "9f862685-d1d8-459e-e1f1-d275c06fe146"
      },
      "outputs": [
        {
          "output_type": "stream",
          "name": "stdout",
          "text": [
            "Looking in indexes: https://pypi.org/simple, https://us-python.pkg.dev/colab-wheels/public/simple/\n",
            "Requirement already satisfied: sentence-transformers in /usr/local/lib/python3.8/dist-packages (2.2.2)\n",
            "Requirement already satisfied: torch>=1.6.0 in /usr/local/lib/python3.8/dist-packages (from sentence-transformers) (1.13.0+cu116)\n",
            "Requirement already satisfied: huggingface-hub>=0.4.0 in /usr/local/lib/python3.8/dist-packages (from sentence-transformers) (0.11.1)\n",
            "Requirement already satisfied: torchvision in /usr/local/lib/python3.8/dist-packages (from sentence-transformers) (0.14.0+cu116)\n",
            "Requirement already satisfied: scikit-learn in /usr/local/lib/python3.8/dist-packages (from sentence-transformers) (1.0.2)\n",
            "Requirement already satisfied: scipy in /usr/local/lib/python3.8/dist-packages (from sentence-transformers) (1.7.3)\n",
            "Requirement already satisfied: sentencepiece in /usr/local/lib/python3.8/dist-packages (from sentence-transformers) (0.1.97)\n",
            "Requirement already satisfied: transformers<5.0.0,>=4.6.0 in /usr/local/lib/python3.8/dist-packages (from sentence-transformers) (4.25.1)\n",
            "Requirement already satisfied: tqdm in /usr/local/lib/python3.8/dist-packages (from sentence-transformers) (4.64.1)\n",
            "Requirement already satisfied: numpy in /usr/local/lib/python3.8/dist-packages (from sentence-transformers) (1.21.6)\n",
            "Requirement already satisfied: nltk in /usr/local/lib/python3.8/dist-packages (from sentence-transformers) (3.7)\n",
            "Requirement already satisfied: filelock in /usr/local/lib/python3.8/dist-packages (from huggingface-hub>=0.4.0->sentence-transformers) (3.8.0)\n",
            "Requirement already satisfied: packaging>=20.9 in /usr/local/lib/python3.8/dist-packages (from huggingface-hub>=0.4.0->sentence-transformers) (21.3)\n",
            "Requirement already satisfied: pyyaml>=5.1 in /usr/local/lib/python3.8/dist-packages (from huggingface-hub>=0.4.0->sentence-transformers) (6.0)\n",
            "Requirement already satisfied: typing-extensions>=3.7.4.3 in /usr/local/lib/python3.8/dist-packages (from huggingface-hub>=0.4.0->sentence-transformers) (4.4.0)\n",
            "Requirement already satisfied: requests in /usr/local/lib/python3.8/dist-packages (from huggingface-hub>=0.4.0->sentence-transformers) (2.23.0)\n",
            "Requirement already satisfied: pyparsing!=3.0.5,>=2.0.2 in /usr/local/lib/python3.8/dist-packages (from packaging>=20.9->huggingface-hub>=0.4.0->sentence-transformers) (3.0.9)\n",
            "Requirement already satisfied: regex!=2019.12.17 in /usr/local/lib/python3.8/dist-packages (from transformers<5.0.0,>=4.6.0->sentence-transformers) (2022.6.2)\n",
            "Requirement already satisfied: tokenizers!=0.11.3,<0.14,>=0.11.1 in /usr/local/lib/python3.8/dist-packages (from transformers<5.0.0,>=4.6.0->sentence-transformers) (0.13.2)\n",
            "Requirement already satisfied: click in /usr/local/lib/python3.8/dist-packages (from nltk->sentence-transformers) (7.1.2)\n",
            "Requirement already satisfied: joblib in /usr/local/lib/python3.8/dist-packages (from nltk->sentence-transformers) (1.2.0)\n",
            "Requirement already satisfied: chardet<4,>=3.0.2 in /usr/local/lib/python3.8/dist-packages (from requests->huggingface-hub>=0.4.0->sentence-transformers) (3.0.4)\n",
            "Requirement already satisfied: idna<3,>=2.5 in /usr/local/lib/python3.8/dist-packages (from requests->huggingface-hub>=0.4.0->sentence-transformers) (2.10)\n",
            "Requirement already satisfied: certifi>=2017.4.17 in /usr/local/lib/python3.8/dist-packages (from requests->huggingface-hub>=0.4.0->sentence-transformers) (2022.9.24)\n",
            "Requirement already satisfied: urllib3!=1.25.0,!=1.25.1,<1.26,>=1.21.1 in /usr/local/lib/python3.8/dist-packages (from requests->huggingface-hub>=0.4.0->sentence-transformers) (1.24.3)\n",
            "Requirement already satisfied: threadpoolctl>=2.0.0 in /usr/local/lib/python3.8/dist-packages (from scikit-learn->sentence-transformers) (3.1.0)\n",
            "Requirement already satisfied: pillow!=8.3.*,>=5.3.0 in /usr/local/lib/python3.8/dist-packages (from torchvision->sentence-transformers) (7.1.2)\n"
          ]
        }
      ],
      "source": [
        "!pip install sentence-transformers"
      ]
    },
    {
      "cell_type": "code",
      "execution_count": null,
      "metadata": {
        "id": "QJhi-8V2RBhg"
      },
      "outputs": [],
      "source": [
        "from sentence_transformers import SentenceTransformer\n",
        "model = SentenceTransformer('distilbert-base-nli-stsb-mean-tokens')"
      ]
    },
    {
      "cell_type": "code",
      "execution_count": null,
      "metadata": {
        "id": "-wwRB9MWqYni"
      },
      "outputs": [],
      "source": [
        "df1 = df1.applymap(str)"
      ]
    },
    {
      "cell_type": "markdown",
      "source": [
        "Creating embeddings for the places"
      ],
      "metadata": {
        "id": "hyooCj0VkOPQ"
      }
    },
    {
      "cell_type": "code",
      "source": [
        "df1['Embeddings'] = df1['combined'].apply(lambda x: model.encode(x))"
      ],
      "metadata": {
        "id": "i-sS2u7FJPeR"
      },
      "execution_count": null,
      "outputs": []
    },
    {
      "cell_type": "code",
      "execution_count": null,
      "metadata": {
        "colab": {
          "base_uri": "https://localhost:8080/"
        },
        "id": "xWs9d6Sm3ZQc",
        "outputId": "f27c7c61-d641-4500-d26e-9f3749500a1d"
      },
      "outputs": [
        {
          "output_type": "execute_result",
          "data": {
            "text/plain": [
              "(130,)"
            ]
          },
          "metadata": {},
          "execution_count": 31
        }
      ],
      "source": [
        "df1['Embeddings'].shape"
      ]
    },
    {
      "cell_type": "code",
      "execution_count": null,
      "metadata": {
        "id": "nhG08NceoEh6"
      },
      "outputs": [],
      "source": [
        "embeddings_matrix = np.empty((len(df1), 768))\n",
        "for i in range(len(df1)):\n",
        "  embeddings_matrix[i] = (df1['Embeddings'].loc[i])"
      ]
    },
    {
      "cell_type": "code",
      "execution_count": null,
      "metadata": {
        "colab": {
          "base_uri": "https://localhost:8080/"
        },
        "id": "phN__cJnonnR",
        "outputId": "4d3ddfa5-c734-4044-fd62-7d5493b2fad8"
      },
      "outputs": [
        {
          "output_type": "execute_result",
          "data": {
            "text/plain": [
              "(130, 768)"
            ]
          },
          "metadata": {},
          "execution_count": 33
        }
      ],
      "source": [
        "embeddings_matrix.shape"
      ]
    },
    {
      "cell_type": "code",
      "execution_count": null,
      "metadata": {
        "id": "fmX45Up15LK3"
      },
      "outputs": [],
      "source": [
        "n_latent_factors = 768\n",
        "\n",
        "n_users, n_recipes = len(df_new['userId'].unique()), len(df_new['placeId'].unique()) "
      ]
    },
    {
      "cell_type": "code",
      "source": [
        "n_recipes"
      ],
      "metadata": {
        "colab": {
          "base_uri": "https://localhost:8080/"
        },
        "id": "GZuPxbv8GLe7",
        "outputId": "3651ebaa-44a3-4f70-ba9e-2bb15bbf13b5"
      },
      "execution_count": null,
      "outputs": [
        {
          "output_type": "execute_result",
          "data": {
            "text/plain": [
              "130"
            ]
          },
          "metadata": {},
          "execution_count": 35
        }
      ]
    },
    {
      "cell_type": "markdown",
      "source": [
        "Intializing the Model"
      ],
      "metadata": {
        "id": "5klHzv6hkjaX"
      }
    },
    {
      "cell_type": "code",
      "execution_count": null,
      "metadata": {
        "colab": {
          "base_uri": "https://localhost:8080/"
        },
        "id": "U4Euyrra5LK3",
        "outputId": "ad1daf78-22ee-46cb-dbdf-87a5957e6f70"
      },
      "outputs": [
        {
          "output_type": "stream",
          "name": "stdout",
          "text": [
            "(None, 768)\n",
            "(None, 768)\n",
            "(None, 1536)\n"
          ]
        }
      ],
      "source": [
        "from keras.initializers import Constant\n",
        "# recipe_embedding_matrix = np.random.random((n_recipes, n_latent_factors))\n",
        "rest_embedding_matrix = embeddings_matrix\n",
        "user_input = Input(shape=(1,), name='User_Input',dtype='int32')\n",
        "user_embeddings = Embedding(input_dim = n_users, output_dim=n_latent_factors, input_length=1, \n",
        "                              name='User_Embedding') (user_input)\n",
        "user_vector = Flatten(name='User_Vector') (user_embeddings)\n",
        "\n",
        "\n",
        "rest_input = Input(shape=(1,), name='Rest_Input',dtype='int32')\n",
        "rest_embeddings = Embedding(input_dim = n_recipes, output_dim=n_latent_factors, input_length=1, \n",
        "                               name='Rest_Embedding',trainable=True,embeddings_initializer=Constant(rest_embedding_matrix)) (rest_input)\n",
        "rest_vector = Flatten(name='Rest_Vector') (rest_embeddings)\n",
        "\n",
        "print(user_vector.shape)\n",
        "print(rest_vector.shape)\n",
        "\n",
        "# Concatenate Product\n",
        "merged_vectors = concatenate([user_vector, rest_vector], name='Concantenate')\n",
        "\n",
        "print(merged_vectors.shape)\n",
        "dense_layer_1 = Dense(100, activation='relu')(merged_vectors) \n",
        "dense_layer_1 = Dropout(0.25) (dense_layer_1)\n",
        "batchnorm_layer_1 = BatchNormalization()(dense_layer_1)\n",
        "dense_layer_2 = Dense(64, activation='relu')(merged_vectors)\n",
        "\n",
        "\n",
        "result = Dense(1)(dense_layer_1)\n",
        "model = Model([user_input, rest_input], result)"
      ]
    },
    {
      "cell_type": "code",
      "execution_count": null,
      "metadata": {
        "colab": {
          "base_uri": "https://localhost:8080/",
          "height": 686
        },
        "id": "dk-vhKSn5LK4",
        "outputId": "cf2126d9-6a48-4684-f11b-948a6695b55e"
      },
      "outputs": [
        {
          "output_type": "execute_result",
          "data": {
            "text/plain": [
              "<IPython.core.display.SVG object>"
            ],
            "image/svg+xml": "<svg xmlns=\"http://www.w3.org/2000/svg\" xmlns:xlink=\"http://www.w3.org/1999/xlink\" width=\"524pt\" height=\"499pt\" viewBox=\"0.00 0.00 580.00 553.00\">\n<g id=\"graph0\" class=\"graph\" transform=\"scale(.9028 .9028) rotate(0) translate(4 549)\">\n<title>G</title>\n<polygon fill=\"#ffffff\" stroke=\"transparent\" points=\"-4,4 -4,-549 576,-549 576,4 -4,4\"/>\n<!-- 139630298685936 -->\n<g id=\"node1\" class=\"node\">\n<title>139630298685936</title>\n<polygon fill=\"none\" stroke=\"#000000\" points=\"29,-498.5 29,-544.5 249,-544.5 249,-498.5 29,-498.5\"/>\n<text text-anchor=\"middle\" x=\"69.5\" y=\"-529.3\" font-family=\"Times,serif\" font-size=\"14.00\" fill=\"#000000\">User_Input</text>\n<polyline fill=\"none\" stroke=\"#000000\" points=\"29,-521.5 110,-521.5 \"/>\n<text text-anchor=\"middle\" x=\"69.5\" y=\"-506.3\" font-family=\"Times,serif\" font-size=\"14.00\" fill=\"#000000\">InputLayer</text>\n<polyline fill=\"none\" stroke=\"#000000\" points=\"110,-498.5 110,-544.5 \"/>\n<text text-anchor=\"middle\" x=\"139\" y=\"-529.3\" font-family=\"Times,serif\" font-size=\"14.00\" fill=\"#000000\">input:</text>\n<polyline fill=\"none\" stroke=\"#000000\" points=\"110,-521.5 168,-521.5 \"/>\n<text text-anchor=\"middle\" x=\"139\" y=\"-506.3\" font-family=\"Times,serif\" font-size=\"14.00\" fill=\"#000000\">output:</text>\n<polyline fill=\"none\" stroke=\"#000000\" points=\"168,-498.5 168,-544.5 \"/>\n<text text-anchor=\"middle\" x=\"208.5\" y=\"-529.3\" font-family=\"Times,serif\" font-size=\"14.00\" fill=\"#000000\">[(None, 1)]</text>\n<polyline fill=\"none\" stroke=\"#000000\" points=\"168,-521.5 249,-521.5 \"/>\n<text text-anchor=\"middle\" x=\"208.5\" y=\"-506.3\" font-family=\"Times,serif\" font-size=\"14.00\" fill=\"#000000\">[(None, 1)]</text>\n</g>\n<!-- 139630289230192 -->\n<g id=\"node3\" class=\"node\">\n<title>139630289230192</title>\n<polygon fill=\"none\" stroke=\"#000000\" points=\"0,-415.5 0,-461.5 278,-461.5 278,-415.5 0,-415.5\"/>\n<text text-anchor=\"middle\" x=\"59\" y=\"-446.3\" font-family=\"Times,serif\" font-size=\"14.00\" fill=\"#000000\">User_Embedding</text>\n<polyline fill=\"none\" stroke=\"#000000\" points=\"0,-438.5 118,-438.5 \"/>\n<text text-anchor=\"middle\" x=\"59\" y=\"-423.3\" font-family=\"Times,serif\" font-size=\"14.00\" fill=\"#000000\">Embedding</text>\n<polyline fill=\"none\" stroke=\"#000000\" points=\"118,-415.5 118,-461.5 \"/>\n<text text-anchor=\"middle\" x=\"147\" y=\"-446.3\" font-family=\"Times,serif\" font-size=\"14.00\" fill=\"#000000\">input:</text>\n<polyline fill=\"none\" stroke=\"#000000\" points=\"118,-438.5 176,-438.5 \"/>\n<text text-anchor=\"middle\" x=\"147\" y=\"-423.3\" font-family=\"Times,serif\" font-size=\"14.00\" fill=\"#000000\">output:</text>\n<polyline fill=\"none\" stroke=\"#000000\" points=\"176,-415.5 176,-461.5 \"/>\n<text text-anchor=\"middle\" x=\"227\" y=\"-446.3\" font-family=\"Times,serif\" font-size=\"14.00\" fill=\"#000000\">(None, 1)</text>\n<polyline fill=\"none\" stroke=\"#000000\" points=\"176,-438.5 278,-438.5 \"/>\n<text text-anchor=\"middle\" x=\"227\" y=\"-423.3\" font-family=\"Times,serif\" font-size=\"14.00\" fill=\"#000000\">(None, 1, 768)</text>\n</g>\n<!-- 139630298685936&#45;&gt;139630289230192 -->\n<g id=\"edge1\" class=\"edge\">\n<title>139630298685936-&gt;139630289230192</title>\n<path fill=\"none\" stroke=\"#000000\" d=\"M139,-498.3799C139,-490.1745 139,-480.7679 139,-471.8786\"/>\n<polygon fill=\"#000000\" stroke=\"#000000\" points=\"142.5001,-471.784 139,-461.784 135.5001,-471.784 142.5001,-471.784\"/>\n</g>\n<!-- 139630289230576 -->\n<g id=\"node2\" class=\"node\">\n<title>139630289230576</title>\n<polygon fill=\"none\" stroke=\"#000000\" points=\"324.5,-498.5 324.5,-544.5 543.5,-544.5 543.5,-498.5 324.5,-498.5\"/>\n<text text-anchor=\"middle\" x=\"364.5\" y=\"-529.3\" font-family=\"Times,serif\" font-size=\"14.00\" fill=\"#000000\">Rest_Input</text>\n<polyline fill=\"none\" stroke=\"#000000\" points=\"324.5,-521.5 404.5,-521.5 \"/>\n<text text-anchor=\"middle\" x=\"364.5\" y=\"-506.3\" font-family=\"Times,serif\" font-size=\"14.00\" fill=\"#000000\">InputLayer</text>\n<polyline fill=\"none\" stroke=\"#000000\" points=\"404.5,-498.5 404.5,-544.5 \"/>\n<text text-anchor=\"middle\" x=\"433.5\" y=\"-529.3\" font-family=\"Times,serif\" font-size=\"14.00\" fill=\"#000000\">input:</text>\n<polyline fill=\"none\" stroke=\"#000000\" points=\"404.5,-521.5 462.5,-521.5 \"/>\n<text text-anchor=\"middle\" x=\"433.5\" y=\"-506.3\" font-family=\"Times,serif\" font-size=\"14.00\" fill=\"#000000\">output:</text>\n<polyline fill=\"none\" stroke=\"#000000\" points=\"462.5,-498.5 462.5,-544.5 \"/>\n<text text-anchor=\"middle\" x=\"503\" y=\"-529.3\" font-family=\"Times,serif\" font-size=\"14.00\" fill=\"#000000\">[(None, 1)]</text>\n<polyline fill=\"none\" stroke=\"#000000\" points=\"462.5,-521.5 543.5,-521.5 \"/>\n<text text-anchor=\"middle\" x=\"503\" y=\"-506.3\" font-family=\"Times,serif\" font-size=\"14.00\" fill=\"#000000\">[(None, 1)]</text>\n</g>\n<!-- 139630238361728 -->\n<g id=\"node4\" class=\"node\">\n<title>139630238361728</title>\n<polygon fill=\"none\" stroke=\"#000000\" points=\"296,-415.5 296,-461.5 572,-461.5 572,-415.5 296,-415.5\"/>\n<text text-anchor=\"middle\" x=\"354\" y=\"-446.3\" font-family=\"Times,serif\" font-size=\"14.00\" fill=\"#000000\">Rest_Embedding</text>\n<polyline fill=\"none\" stroke=\"#000000\" points=\"296,-438.5 412,-438.5 \"/>\n<text text-anchor=\"middle\" x=\"354\" y=\"-423.3\" font-family=\"Times,serif\" font-size=\"14.00\" fill=\"#000000\">Embedding</text>\n<polyline fill=\"none\" stroke=\"#000000\" points=\"412,-415.5 412,-461.5 \"/>\n<text text-anchor=\"middle\" x=\"441\" y=\"-446.3\" font-family=\"Times,serif\" font-size=\"14.00\" fill=\"#000000\">input:</text>\n<polyline fill=\"none\" stroke=\"#000000\" points=\"412,-438.5 470,-438.5 \"/>\n<text text-anchor=\"middle\" x=\"441\" y=\"-423.3\" font-family=\"Times,serif\" font-size=\"14.00\" fill=\"#000000\">output:</text>\n<polyline fill=\"none\" stroke=\"#000000\" points=\"470,-415.5 470,-461.5 \"/>\n<text text-anchor=\"middle\" x=\"521\" y=\"-446.3\" font-family=\"Times,serif\" font-size=\"14.00\" fill=\"#000000\">(None, 1)</text>\n<polyline fill=\"none\" stroke=\"#000000\" points=\"470,-438.5 572,-438.5 \"/>\n<text text-anchor=\"middle\" x=\"521\" y=\"-423.3\" font-family=\"Times,serif\" font-size=\"14.00\" fill=\"#000000\">(None, 1, 768)</text>\n</g>\n<!-- 139630289230576&#45;&gt;139630238361728 -->\n<g id=\"edge2\" class=\"edge\">\n<title>139630289230576-&gt;139630238361728</title>\n<path fill=\"none\" stroke=\"#000000\" d=\"M434,-498.3799C434,-490.1745 434,-480.7679 434,-471.8786\"/>\n<polygon fill=\"#000000\" stroke=\"#000000\" points=\"437.5001,-471.784 434,-461.784 430.5001,-471.784 437.5001,-471.784\"/>\n</g>\n<!-- 139630289229616 -->\n<g id=\"node5\" class=\"node\">\n<title>139630289229616</title>\n<polygon fill=\"none\" stroke=\"#000000\" points=\"30.5,-332.5 30.5,-378.5 277.5,-378.5 277.5,-332.5 30.5,-332.5\"/>\n<text text-anchor=\"middle\" x=\"74\" y=\"-363.3\" font-family=\"Times,serif\" font-size=\"14.00\" fill=\"#000000\">User_Vector</text>\n<polyline fill=\"none\" stroke=\"#000000\" points=\"30.5,-355.5 117.5,-355.5 \"/>\n<text text-anchor=\"middle\" x=\"74\" y=\"-340.3\" font-family=\"Times,serif\" font-size=\"14.00\" fill=\"#000000\">Flatten</text>\n<polyline fill=\"none\" stroke=\"#000000\" points=\"117.5,-332.5 117.5,-378.5 \"/>\n<text text-anchor=\"middle\" x=\"146.5\" y=\"-363.3\" font-family=\"Times,serif\" font-size=\"14.00\" fill=\"#000000\">input:</text>\n<polyline fill=\"none\" stroke=\"#000000\" points=\"117.5,-355.5 175.5,-355.5 \"/>\n<text text-anchor=\"middle\" x=\"146.5\" y=\"-340.3\" font-family=\"Times,serif\" font-size=\"14.00\" fill=\"#000000\">output:</text>\n<polyline fill=\"none\" stroke=\"#000000\" points=\"175.5,-332.5 175.5,-378.5 \"/>\n<text text-anchor=\"middle\" x=\"226.5\" y=\"-363.3\" font-family=\"Times,serif\" font-size=\"14.00\" fill=\"#000000\">(None, 1, 768)</text>\n<polyline fill=\"none\" stroke=\"#000000\" points=\"175.5,-355.5 277.5,-355.5 \"/>\n<text text-anchor=\"middle\" x=\"226.5\" y=\"-340.3\" font-family=\"Times,serif\" font-size=\"14.00\" fill=\"#000000\">(None, 768)</text>\n</g>\n<!-- 139630289230192&#45;&gt;139630289229616 -->\n<g id=\"edge3\" class=\"edge\">\n<title>139630289230192-&gt;139630289229616</title>\n<path fill=\"none\" stroke=\"#000000\" d=\"M143.1783,-415.3799C144.6612,-407.1745 146.3612,-397.7679 147.9677,-388.8786\"/>\n<polygon fill=\"#000000\" stroke=\"#000000\" points=\"151.4578,-389.2471 149.792,-378.784 144.5693,-388.0021 151.4578,-389.2471\"/>\n</g>\n<!-- 139630280539488 -->\n<g id=\"node6\" class=\"node\">\n<title>139630280539488</title>\n<polygon fill=\"none\" stroke=\"#000000\" points=\"303,-332.5 303,-378.5 549,-378.5 549,-332.5 303,-332.5\"/>\n<text text-anchor=\"middle\" x=\"346\" y=\"-363.3\" font-family=\"Times,serif\" font-size=\"14.00\" fill=\"#000000\">Rest_Vector</text>\n<polyline fill=\"none\" stroke=\"#000000\" points=\"303,-355.5 389,-355.5 \"/>\n<text text-anchor=\"middle\" x=\"346\" y=\"-340.3\" font-family=\"Times,serif\" font-size=\"14.00\" fill=\"#000000\">Flatten</text>\n<polyline fill=\"none\" stroke=\"#000000\" points=\"389,-332.5 389,-378.5 \"/>\n<text text-anchor=\"middle\" x=\"418\" y=\"-363.3\" font-family=\"Times,serif\" font-size=\"14.00\" fill=\"#000000\">input:</text>\n<polyline fill=\"none\" stroke=\"#000000\" points=\"389,-355.5 447,-355.5 \"/>\n<text text-anchor=\"middle\" x=\"418\" y=\"-340.3\" font-family=\"Times,serif\" font-size=\"14.00\" fill=\"#000000\">output:</text>\n<polyline fill=\"none\" stroke=\"#000000\" points=\"447,-332.5 447,-378.5 \"/>\n<text text-anchor=\"middle\" x=\"498\" y=\"-363.3\" font-family=\"Times,serif\" font-size=\"14.00\" fill=\"#000000\">(None, 1, 768)</text>\n<polyline fill=\"none\" stroke=\"#000000\" points=\"447,-355.5 549,-355.5 \"/>\n<text text-anchor=\"middle\" x=\"498\" y=\"-340.3\" font-family=\"Times,serif\" font-size=\"14.00\" fill=\"#000000\">(None, 768)</text>\n</g>\n<!-- 139630238361728&#45;&gt;139630280539488 -->\n<g id=\"edge4\" class=\"edge\">\n<title>139630238361728-&gt;139630280539488</title>\n<path fill=\"none\" stroke=\"#000000\" d=\"M431.7716,-415.3799C430.9807,-407.1745 430.074,-397.7679 429.2172,-388.8786\"/>\n<polygon fill=\"#000000\" stroke=\"#000000\" points=\"432.6876,-388.4021 428.2442,-378.784 425.7199,-389.0737 432.6876,-388.4021\"/>\n</g>\n<!-- 139630280538480 -->\n<g id=\"node7\" class=\"node\">\n<title>139630280538480</title>\n<polygon fill=\"none\" stroke=\"#000000\" points=\"123,-249.5 123,-295.5 449,-295.5 449,-249.5 123,-249.5\"/>\n<text text-anchor=\"middle\" x=\"170\" y=\"-280.3\" font-family=\"Times,serif\" font-size=\"14.00\" fill=\"#000000\">Concantenate</text>\n<polyline fill=\"none\" stroke=\"#000000\" points=\"123,-272.5 217,-272.5 \"/>\n<text text-anchor=\"middle\" x=\"170\" y=\"-257.3\" font-family=\"Times,serif\" font-size=\"14.00\" fill=\"#000000\">Concatenate</text>\n<polyline fill=\"none\" stroke=\"#000000\" points=\"217,-249.5 217,-295.5 \"/>\n<text text-anchor=\"middle\" x=\"246\" y=\"-280.3\" font-family=\"Times,serif\" font-size=\"14.00\" fill=\"#000000\">input:</text>\n<polyline fill=\"none\" stroke=\"#000000\" points=\"217,-272.5 275,-272.5 \"/>\n<text text-anchor=\"middle\" x=\"246\" y=\"-257.3\" font-family=\"Times,serif\" font-size=\"14.00\" fill=\"#000000\">output:</text>\n<polyline fill=\"none\" stroke=\"#000000\" points=\"275,-249.5 275,-295.5 \"/>\n<text text-anchor=\"middle\" x=\"362\" y=\"-280.3\" font-family=\"Times,serif\" font-size=\"14.00\" fill=\"#000000\">[(None, 768), (None, 768)]</text>\n<polyline fill=\"none\" stroke=\"#000000\" points=\"275,-272.5 449,-272.5 \"/>\n<text text-anchor=\"middle\" x=\"362\" y=\"-257.3\" font-family=\"Times,serif\" font-size=\"14.00\" fill=\"#000000\">(None, 1536)</text>\n</g>\n<!-- 139630289229616&#45;&gt;139630280538480 -->\n<g id=\"edge5\" class=\"edge\">\n<title>139630289229616-&gt;139630280538480</title>\n<path fill=\"none\" stroke=\"#000000\" d=\"M190.7694,-332.3799C206.0883,-322.7475 224.04,-311.4597 240.2028,-301.2967\"/>\n<polygon fill=\"#000000\" stroke=\"#000000\" points=\"242.3675,-304.07 248.97,-295.784 238.6414,-298.1441 242.3675,-304.07\"/>\n</g>\n<!-- 139630280539488&#45;&gt;139630280538480 -->\n<g id=\"edge6\" class=\"edge\">\n<title>139630280539488-&gt;139630280538480</title>\n<path fill=\"none\" stroke=\"#000000\" d=\"M387.0022,-332.3799C370.6044,-322.6583 351.3623,-311.2505 334.0971,-301.0147\"/>\n<polygon fill=\"#000000\" stroke=\"#000000\" points=\"335.6611,-297.8731 325.2742,-295.784 332.0912,-303.8944 335.6611,-297.8731\"/>\n</g>\n<!-- 139630237919264 -->\n<g id=\"node8\" class=\"node\">\n<title>139630237919264</title>\n<polygon fill=\"none\" stroke=\"#000000\" points=\"183.5,-166.5 183.5,-212.5 388.5,-212.5 388.5,-166.5 183.5,-166.5\"/>\n<text text-anchor=\"middle\" x=\"209.5\" y=\"-197.3\" font-family=\"Times,serif\" font-size=\"14.00\" fill=\"#000000\">dense</text>\n<polyline fill=\"none\" stroke=\"#000000\" points=\"183.5,-189.5 235.5,-189.5 \"/>\n<text text-anchor=\"middle\" x=\"209.5\" y=\"-174.3\" font-family=\"Times,serif\" font-size=\"14.00\" fill=\"#000000\">Dense</text>\n<polyline fill=\"none\" stroke=\"#000000\" points=\"235.5,-166.5 235.5,-212.5 \"/>\n<text text-anchor=\"middle\" x=\"264.5\" y=\"-197.3\" font-family=\"Times,serif\" font-size=\"14.00\" fill=\"#000000\">input:</text>\n<polyline fill=\"none\" stroke=\"#000000\" points=\"235.5,-189.5 293.5,-189.5 \"/>\n<text text-anchor=\"middle\" x=\"264.5\" y=\"-174.3\" font-family=\"Times,serif\" font-size=\"14.00\" fill=\"#000000\">output:</text>\n<polyline fill=\"none\" stroke=\"#000000\" points=\"293.5,-166.5 293.5,-212.5 \"/>\n<text text-anchor=\"middle\" x=\"341\" y=\"-197.3\" font-family=\"Times,serif\" font-size=\"14.00\" fill=\"#000000\">(None, 1536)</text>\n<polyline fill=\"none\" stroke=\"#000000\" points=\"293.5,-189.5 388.5,-189.5 \"/>\n<text text-anchor=\"middle\" x=\"341\" y=\"-174.3\" font-family=\"Times,serif\" font-size=\"14.00\" fill=\"#000000\">(None, 100)</text>\n</g>\n<!-- 139630280538480&#45;&gt;139630237919264 -->\n<g id=\"edge7\" class=\"edge\">\n<title>139630280538480-&gt;139630237919264</title>\n<path fill=\"none\" stroke=\"#000000\" d=\"M286,-249.3799C286,-241.1745 286,-231.7679 286,-222.8786\"/>\n<polygon fill=\"#000000\" stroke=\"#000000\" points=\"289.5001,-222.784 286,-212.784 282.5001,-222.784 289.5001,-222.784\"/>\n</g>\n<!-- 139630238363312 -->\n<g id=\"node9\" class=\"node\">\n<title>139630238363312</title>\n<polygon fill=\"none\" stroke=\"#000000\" points=\"181,-83.5 181,-129.5 391,-129.5 391,-83.5 181,-83.5\"/>\n<text text-anchor=\"middle\" x=\"213.5\" y=\"-114.3\" font-family=\"Times,serif\" font-size=\"14.00\" fill=\"#000000\">dropout</text>\n<polyline fill=\"none\" stroke=\"#000000\" points=\"181,-106.5 246,-106.5 \"/>\n<text text-anchor=\"middle\" x=\"213.5\" y=\"-91.3\" font-family=\"Times,serif\" font-size=\"14.00\" fill=\"#000000\">Dropout</text>\n<polyline fill=\"none\" stroke=\"#000000\" points=\"246,-83.5 246,-129.5 \"/>\n<text text-anchor=\"middle\" x=\"275\" y=\"-114.3\" font-family=\"Times,serif\" font-size=\"14.00\" fill=\"#000000\">input:</text>\n<polyline fill=\"none\" stroke=\"#000000\" points=\"246,-106.5 304,-106.5 \"/>\n<text text-anchor=\"middle\" x=\"275\" y=\"-91.3\" font-family=\"Times,serif\" font-size=\"14.00\" fill=\"#000000\">output:</text>\n<polyline fill=\"none\" stroke=\"#000000\" points=\"304,-83.5 304,-129.5 \"/>\n<text text-anchor=\"middle\" x=\"347.5\" y=\"-114.3\" font-family=\"Times,serif\" font-size=\"14.00\" fill=\"#000000\">(None, 100)</text>\n<polyline fill=\"none\" stroke=\"#000000\" points=\"304,-106.5 391,-106.5 \"/>\n<text text-anchor=\"middle\" x=\"347.5\" y=\"-91.3\" font-family=\"Times,serif\" font-size=\"14.00\" fill=\"#000000\">(None, 100)</text>\n</g>\n<!-- 139630237919264&#45;&gt;139630238363312 -->\n<g id=\"edge8\" class=\"edge\">\n<title>139630237919264-&gt;139630238363312</title>\n<path fill=\"none\" stroke=\"#000000\" d=\"M286,-166.3799C286,-158.1745 286,-148.7679 286,-139.8786\"/>\n<polygon fill=\"#000000\" stroke=\"#000000\" points=\"289.5001,-139.784 286,-129.784 282.5001,-139.784 289.5001,-139.784\"/>\n</g>\n<!-- 139630237948416 -->\n<g id=\"node10\" class=\"node\">\n<title>139630237948416</title>\n<polygon fill=\"none\" stroke=\"#000000\" points=\"181.5,-.5 181.5,-46.5 390.5,-46.5 390.5,-.5 181.5,-.5\"/>\n<text text-anchor=\"middle\" x=\"213.5\" y=\"-31.3\" font-family=\"Times,serif\" font-size=\"14.00\" fill=\"#000000\">dense_2</text>\n<polyline fill=\"none\" stroke=\"#000000\" points=\"181.5,-23.5 245.5,-23.5 \"/>\n<text text-anchor=\"middle\" x=\"213.5\" y=\"-8.3\" font-family=\"Times,serif\" font-size=\"14.00\" fill=\"#000000\">Dense</text>\n<polyline fill=\"none\" stroke=\"#000000\" points=\"245.5,-.5 245.5,-46.5 \"/>\n<text text-anchor=\"middle\" x=\"274.5\" y=\"-31.3\" font-family=\"Times,serif\" font-size=\"14.00\" fill=\"#000000\">input:</text>\n<polyline fill=\"none\" stroke=\"#000000\" points=\"245.5,-23.5 303.5,-23.5 \"/>\n<text text-anchor=\"middle\" x=\"274.5\" y=\"-8.3\" font-family=\"Times,serif\" font-size=\"14.00\" fill=\"#000000\">output:</text>\n<polyline fill=\"none\" stroke=\"#000000\" points=\"303.5,-.5 303.5,-46.5 \"/>\n<text text-anchor=\"middle\" x=\"347\" y=\"-31.3\" font-family=\"Times,serif\" font-size=\"14.00\" fill=\"#000000\">(None, 100)</text>\n<polyline fill=\"none\" stroke=\"#000000\" points=\"303.5,-23.5 390.5,-23.5 \"/>\n<text text-anchor=\"middle\" x=\"347\" y=\"-8.3\" font-family=\"Times,serif\" font-size=\"14.00\" fill=\"#000000\">(None, 1)</text>\n</g>\n<!-- 139630238363312&#45;&gt;139630237948416 -->\n<g id=\"edge9\" class=\"edge\">\n<title>139630238363312-&gt;139630237948416</title>\n<path fill=\"none\" stroke=\"#000000\" d=\"M286,-83.3799C286,-75.1745 286,-65.7679 286,-56.8786\"/>\n<polygon fill=\"#000000\" stroke=\"#000000\" points=\"289.5001,-56.784 286,-46.784 282.5001,-56.784 289.5001,-56.784\"/>\n</g>\n</g>\n</svg>"
          },
          "metadata": {},
          "execution_count": 37
        }
      ],
      "source": [
        "SVG(model_to_dot( model,  show_shapes=True, show_layer_names=True, dpi=65).create(prog='dot', format='svg'))"
      ]
    },
    {
      "cell_type": "code",
      "execution_count": null,
      "metadata": {
        "colab": {
          "base_uri": "https://localhost:8080/"
        },
        "id": "uBe6RkXW5LK4",
        "outputId": "df906254-29a0-4771-98f9-2df09db8731c"
      },
      "outputs": [
        {
          "output_type": "stream",
          "name": "stdout",
          "text": [
            "Model: \"model\"\n",
            "__________________________________________________________________________________________________\n",
            " Layer (type)                   Output Shape         Param #     Connected to                     \n",
            "==================================================================================================\n",
            " User_Input (InputLayer)        [(None, 1)]          0           []                               \n",
            "                                                                                                  \n",
            " Rest_Input (InputLayer)        [(None, 1)]          0           []                               \n",
            "                                                                                                  \n",
            " User_Embedding (Embedding)     (None, 1, 768)       105984      ['User_Input[0][0]']             \n",
            "                                                                                                  \n",
            " Rest_Embedding (Embedding)     (None, 1, 768)       99840       ['Rest_Input[0][0]']             \n",
            "                                                                                                  \n",
            " User_Vector (Flatten)          (None, 768)          0           ['User_Embedding[0][0]']         \n",
            "                                                                                                  \n",
            " Rest_Vector (Flatten)          (None, 768)          0           ['Rest_Embedding[0][0]']         \n",
            "                                                                                                  \n",
            " Concantenate (Concatenate)     (None, 1536)         0           ['User_Vector[0][0]',            \n",
            "                                                                  'Rest_Vector[0][0]']            \n",
            "                                                                                                  \n",
            " dense (Dense)                  (None, 100)          153700      ['Concantenate[0][0]']           \n",
            "                                                                                                  \n",
            " dropout (Dropout)              (None, 100)          0           ['dense[0][0]']                  \n",
            "                                                                                                  \n",
            " dense_2 (Dense)                (None, 1)            101         ['dropout[0][0]']                \n",
            "                                                                                                  \n",
            "==================================================================================================\n",
            "Total params: 359,625\n",
            "Trainable params: 359,625\n",
            "Non-trainable params: 0\n",
            "__________________________________________________________________________________________________\n"
          ]
        }
      ],
      "source": [
        "model.summary()"
      ]
    },
    {
      "cell_type": "code",
      "source": [
        "# !pip install tensorflow_ranking"
      ],
      "metadata": {
        "id": "3Tua_MJbnYAr"
      },
      "execution_count": null,
      "outputs": []
    },
    {
      "cell_type": "markdown",
      "source": [
        "Setting the metrics - NDCG and MRR and loss function - MAE"
      ],
      "metadata": {
        "id": "kNxRqcjcDpHa"
      }
    },
    {
      "cell_type": "code",
      "execution_count": null,
      "metadata": {
        "id": "08jKNd_o5LK4"
      },
      "outputs": [],
      "source": [
        "import tensorflow_ranking as tfr\n",
        "\n",
        "from tensorflow import keras\n",
        "from keras.metrics import top_k_categorical_accuracy,MeanAbsoluteError\n",
        "eval_metrics = [\n",
        "    tfr.keras.metrics.get(key=\"ndcg\", name=\"metric/ndcg\", ragged=False),\n",
        "    tfr.keras.metrics.get(key=\"mrr\", name=\"metric/mrr\", ragged=False)\n",
        "]\n",
        "optimizer = adam_v2.Adam(learning_rate = 0.005)\n",
        "\n",
        "model.compile(loss='mean_squared_error', optimizer = optimizer,metrics=[keras.metrics.MeanAbsoluteError(),'top_k_categorical_accuracy',eval_metrics])"
      ]
    },
    {
      "cell_type": "code",
      "execution_count": null,
      "metadata": {
        "id": "yukf_p0h5LK4"
      },
      "outputs": [],
      "source": [
        "batch_size = 50\n",
        "epochs = 10"
      ]
    },
    {
      "cell_type": "code",
      "execution_count": null,
      "metadata": {
        "colab": {
          "base_uri": "https://localhost:8080/"
        },
        "id": "NK0FG9ri5LK5",
        "outputId": "427e989e-246a-462b-9281-ba26b76dd128"
      },
      "outputs": [
        {
          "output_type": "execute_result",
          "data": {
            "text/plain": [
              "397    1\n",
              "726    0\n",
              "986    2\n",
              "918    1\n",
              "117    2\n",
              "Name: rating, dtype: int64"
            ]
          },
          "metadata": {},
          "execution_count": 42
        }
      ],
      "source": [
        "y_test.head()"
      ]
    },
    {
      "cell_type": "markdown",
      "source": [
        "Training the model"
      ],
      "metadata": {
        "id": "NAK3f4zBknbI"
      }
    },
    {
      "cell_type": "code",
      "execution_count": null,
      "metadata": {
        "colab": {
          "base_uri": "https://localhost:8080/"
        },
        "id": "BSvv64cp5LK5",
        "outputId": "c8823534-1c2e-44c1-beef-d919458a67d4"
      },
      "outputs": [
        {
          "output_type": "stream",
          "name": "stdout",
          "text": [
            "Epoch 1/10\n",
            "19/19 - 9s - loss: 2.1214 - mean_absolute_error: 1.1479 - top_k_categorical_accuracy: 1.0000 - metric/ndcg: 0.7866 - metric/mrr: 0.7866 - val_loss: 0.6649 - val_mean_absolute_error: 0.6909 - val_top_k_categorical_accuracy: 1.0000 - val_metric/ndcg: 0.7597 - val_metric/mrr: 0.7597 - 9s/epoch - 465ms/step\n",
            "Epoch 2/10\n",
            "19/19 - 0s - loss: 0.6119 - mean_absolute_error: 0.6345 - top_k_categorical_accuracy: 1.0000 - metric/ndcg: 0.7866 - metric/mrr: 0.7866 - val_loss: 0.5359 - val_mean_absolute_error: 0.6005 - val_top_k_categorical_accuracy: 1.0000 - val_metric/ndcg: 0.7597 - val_metric/mrr: 0.7597 - 370ms/epoch - 19ms/step\n",
            "Epoch 3/10\n",
            "19/19 - 0s - loss: 0.4410 - mean_absolute_error: 0.5274 - top_k_categorical_accuracy: 1.0000 - metric/ndcg: 0.7866 - metric/mrr: 0.7866 - val_loss: 0.5167 - val_mean_absolute_error: 0.5706 - val_top_k_categorical_accuracy: 1.0000 - val_metric/ndcg: 0.7597 - val_metric/mrr: 0.7597 - 403ms/epoch - 21ms/step\n",
            "Epoch 4/10\n",
            "19/19 - 1s - loss: 0.4053 - mean_absolute_error: 0.5032 - top_k_categorical_accuracy: 1.0000 - metric/ndcg: 0.7866 - metric/mrr: 0.7866 - val_loss: 0.5529 - val_mean_absolute_error: 0.5832 - val_top_k_categorical_accuracy: 1.0000 - val_metric/ndcg: 0.7597 - val_metric/mrr: 0.7597 - 537ms/epoch - 28ms/step\n",
            "Epoch 5/10\n",
            "19/19 - 1s - loss: 0.3677 - mean_absolute_error: 0.4715 - top_k_categorical_accuracy: 1.0000 - metric/ndcg: 0.7866 - metric/mrr: 0.7866 - val_loss: 0.6489 - val_mean_absolute_error: 0.6187 - val_top_k_categorical_accuracy: 1.0000 - val_metric/ndcg: 0.7597 - val_metric/mrr: 0.7597 - 510ms/epoch - 27ms/step\n",
            "Epoch 6/10\n",
            "19/19 - 1s - loss: 0.3243 - mean_absolute_error: 0.4497 - top_k_categorical_accuracy: 1.0000 - metric/ndcg: 0.7866 - metric/mrr: 0.7866 - val_loss: 0.5764 - val_mean_absolute_error: 0.5836 - val_top_k_categorical_accuracy: 1.0000 - val_metric/ndcg: 0.7597 - val_metric/mrr: 0.7597 - 610ms/epoch - 32ms/step\n",
            "Epoch 7/10\n",
            "19/19 - 1s - loss: 0.2746 - mean_absolute_error: 0.4091 - top_k_categorical_accuracy: 1.0000 - metric/ndcg: 0.7866 - metric/mrr: 0.7866 - val_loss: 0.5685 - val_mean_absolute_error: 0.5961 - val_top_k_categorical_accuracy: 1.0000 - val_metric/ndcg: 0.7597 - val_metric/mrr: 0.7597 - 562ms/epoch - 30ms/step\n",
            "Epoch 8/10\n",
            "19/19 - 0s - loss: 0.2827 - mean_absolute_error: 0.4165 - top_k_categorical_accuracy: 1.0000 - metric/ndcg: 0.7866 - metric/mrr: 0.7866 - val_loss: 0.5763 - val_mean_absolute_error: 0.5967 - val_top_k_categorical_accuracy: 1.0000 - val_metric/ndcg: 0.7597 - val_metric/mrr: 0.7597 - 457ms/epoch - 24ms/step\n",
            "Epoch 9/10\n",
            "19/19 - 0s - loss: 0.2654 - mean_absolute_error: 0.4037 - top_k_categorical_accuracy: 1.0000 - metric/ndcg: 0.7866 - metric/mrr: 0.7866 - val_loss: 0.6270 - val_mean_absolute_error: 0.6137 - val_top_k_categorical_accuracy: 1.0000 - val_metric/ndcg: 0.7597 - val_metric/mrr: 0.7597 - 393ms/epoch - 21ms/step\n",
            "Epoch 10/10\n",
            "19/19 - 0s - loss: 0.2438 - mean_absolute_error: 0.3822 - top_k_categorical_accuracy: 1.0000 - metric/ndcg: 0.7866 - metric/mrr: 0.7866 - val_loss: 0.6973 - val_mean_absolute_error: 0.6510 - val_top_k_categorical_accuracy: 1.0000 - val_metric/ndcg: 0.7597 - val_metric/mrr: 0.7597 - 423ms/epoch - 22ms/step\n"
          ]
        }
      ],
      "source": [
        "history = model.fit(x=[x_train['userId'], x_train['placeId']], y=y_train, batch_size= batch_size, epochs=epochs, \n",
        "                    verbose= 2,validation_data=([x_test['userId'], x_test['placeId']], y_test))"
      ]
    },
    {
      "cell_type": "code",
      "execution_count": null,
      "metadata": {
        "colab": {
          "base_uri": "https://localhost:8080/",
          "height": 279
        },
        "id": "YI7zkluS5LK5",
        "outputId": "3fe9303d-4541-41ec-d478-7d82e7a8c221"
      },
      "outputs": [
        {
          "output_type": "display_data",
          "data": {
            "text/plain": [
              "<Figure size 576x288 with 1 Axes>"
            ],
            "image/png": "[encoded data removed]"
          },
          "metadata": {
            "needs_background": "light"
          }
        }
      ],
      "source": [
        "# Get training and test loss histories\n",
        "training_loss = history.history['loss']\n",
        "test_loss = history.history['val_loss']\n",
        "\n",
        "# Create count of the number of epochs\n",
        "epoch_count = range(1, len(training_loss) + 1)\n",
        "\n",
        "# Visualize loss history\n",
        "plt.figure(figsize = (8,4))\n",
        "plt.plot(epoch_count, training_loss, 'r--')\n",
        "plt.plot(epoch_count, test_loss, 'b-')\n",
        "plt.legend(['Training Loss', 'Test Loss'])\n",
        "plt.xlabel('Epoch')\n",
        "plt.ylabel('Loss')\n",
        "plt.show()"
      ]
    },
    {
      "cell_type": "code",
      "execution_count": null,
      "metadata": {
        "colab": {
          "base_uri": "https://localhost:8080/"
        },
        "id": "kVg3xVMD5LK5",
        "outputId": "b5fdb9e8-f549-4d85-c3af-343268a407fe"
      },
      "outputs": [
        {
          "output_type": "stream",
          "name": "stdout",
          "text": [
            "8/8 [==============================] - 0s 7ms/step - loss: 0.6973 - mean_absolute_error: 0.6510 - top_k_categorical_accuracy: 1.0000 - metric/ndcg: 0.7597 - metric/mrr: 0.7597\n"
          ]
        }
      ],
      "source": [
        "score = model.evaluate([x_test['userId'], x_test['placeId']], y_test)\n"
      ]
    },
    {
      "cell_type": "markdown",
      "source": [
        "Extracting the new trained embeddings"
      ],
      "metadata": {
        "id": "SF7ZnBn-D2Wk"
      }
    },
    {
      "cell_type": "code",
      "execution_count": null,
      "metadata": {
        "id": "bOfXm5dvFyoG"
      },
      "outputs": [],
      "source": [
        "embedding_layer = model.get_layer(name=\"Rest_Embedding\")\n",
        "embeddings_new = embedding_layer.get_weights()"
      ]
    },
    {
      "cell_type": "code",
      "execution_count": null,
      "metadata": {
        "colab": {
          "base_uri": "https://localhost:8080/"
        },
        "id": "bJGv_BGw53n9",
        "outputId": "c2c62304-0dc1-4196-a929-75a714d1862e"
      },
      "outputs": [
        {
          "output_type": "execute_result",
          "data": {
            "text/plain": [
              "130"
            ]
          },
          "metadata": {},
          "execution_count": 47
        }
      ],
      "source": [
        "len(embeddings_new[0])"
      ]
    },
    {
      "cell_type": "code",
      "execution_count": null,
      "metadata": {
        "colab": {
          "base_uri": "https://localhost:8080/"
        },
        "id": "PbquUNdgAlrD",
        "outputId": "607557bd-c82e-427d-9d19-7590991f4318"
      },
      "outputs": [
        {
          "output_type": "execute_result",
          "data": {
            "text/plain": [
              "768"
            ]
          },
          "metadata": {},
          "execution_count": 48
        }
      ],
      "source": [
        "len(rest_embedding_matrix[0])"
      ]
    },
    {
      "cell_type": "markdown",
      "source": [
        "Fitting the old embeddings on KNN"
      ],
      "metadata": {
        "id": "AnpqAXETktnN"
      }
    },
    {
      "cell_type": "code",
      "execution_count": null,
      "metadata": {
        "colab": {
          "base_uri": "https://localhost:8080/"
        },
        "id": "6UxOAlzdDGk6",
        "outputId": "b6b256f2-55e4-4863-9cba-e762dd0bd4cd"
      },
      "outputs": [
        {
          "output_type": "execute_result",
          "data": {
            "text/plain": [
              "NearestNeighbors(n_neighbors=10)"
            ]
          },
          "metadata": {},
          "execution_count": 49
        }
      ],
      "source": [
        "from sklearn.neighbors import NearestNeighbors\n",
        "knn = NearestNeighbors(n_neighbors=10)\n",
        "knn.fit(rest_embedding_matrix) #embedding vectors\n",
        "# # select indices of k nearest neighbours\n",
        "# neighbours = knn.kneighbors([x], return_distance = False)\n",
        "# print(neighbours)"
      ]
    },
    {
      "cell_type": "code",
      "execution_count": null,
      "metadata": {
        "colab": {
          "base_uri": "https://localhost:8080/"
        },
        "id": "03NOJGpyBRmL",
        "outputId": "ef1a4617-a18c-4d59-fac8-d5847e3aacbd"
      },
      "outputs": [
        {
          "output_type": "stream",
          "name": "stdout",
          "text": [
            "[[  0  22  52  18 121  15  30  74  79  35]]\n"
          ]
        }
      ],
      "source": [
        "neighbours = knn.kneighbors([embeddings_new[0][0]], return_distance = False)\n",
        "print(neighbours)"
      ]
    },
    {
      "cell_type": "code",
      "execution_count": null,
      "metadata": {
        "colab": {
          "base_uri": "https://localhost:8080/"
        },
        "id": "hvjCz98sF6mW",
        "outputId": "b4ff00f4-b3ff-4c2f-e433-17b9d6745d08"
      },
      "outputs": [
        {
          "output_type": "stream",
          "name": "stdout",
          "text": [
            "[[  0  22  52  18 121  15  30  74  79  35]]\n"
          ]
        }
      ],
      "source": [
        "neighbours_old = knn.kneighbors([rest_embedding_matrix[0]], return_distance = False)\n",
        "print(neighbours_old)"
      ]
    },
    {
      "cell_type": "code",
      "execution_count": null,
      "metadata": {
        "colab": {
          "base_uri": "https://localhost:8080/"
        },
        "id": "lmw1XRtiGzhE",
        "outputId": "d0b2410f-8cfd-4b5d-8c84-f34325d091b9"
      },
      "outputs": [
        {
          "output_type": "execute_result",
          "data": {
            "text/plain": [
              "10"
            ]
          },
          "metadata": {},
          "execution_count": 52
        }
      ],
      "source": [
        "len(set(neighbours[0]).intersection(neighbours_old[0]))"
      ]
    },
    {
      "cell_type": "markdown",
      "source": [
        "Evaluating the results - NDCG, MRR and Top_K"
      ],
      "metadata": {
        "id": "a8LDSts8lAbN"
      }
    },
    {
      "cell_type": "code",
      "execution_count": null,
      "metadata": {
        "colab": {
          "base_uri": "https://localhost:8080/"
        },
        "id": "bQ-gb4KLRtPX",
        "outputId": "864c8ada-b8a7-445d-881b-ba3ec3943715"
      },
      "outputs": [
        {
          "output_type": "stream",
          "name": "stdout",
          "text": [
            "NDCG: 0.9608688850983871\n",
            "Top_K: 1.0\n",
            "Top_K - Normalized: 0.1\n",
            "MRR: 0.9517094017094018\n"
          ]
        }
      ],
      "source": [
        "mrr = 0\n",
        "top_k = 0\n",
        "ndcg = 0\n",
        "for i in range(len(rest_embedding_matrix)):\n",
        "  neighbours = knn.kneighbors([embeddings_new[0][i]], return_distance = False)\n",
        "  neighbours_old = knn.kneighbors([rest_embedding_matrix[i]], return_distance = False)\n",
        "  ndcg += ndcg_score(neighbours_old,neighbours)\n",
        "  count = 0\n",
        "  for i in range(len(neighbours[0])):\n",
        "    if neighbours[0][i] in neighbours_old[0:10] and i!=neighbours[0][i]:\n",
        "      count+=1\n",
        "    if neighbours[0][i] in neighbours_old[0] and i!=neighbours[0][i]:\n",
        "      mrr+=1/(i+1)\n",
        "      break\n",
        "  # print(top_k)\n",
        "  top_k +=count\n",
        "print(\"NDCG:\",ndcg/len(rest_embedding_matrix))\n",
        "print(\"Top_K:\",top_k/len(rest_embedding_matrix))\n",
        "normalized_top_k = top_k/len(rest_embedding_matrix)/10\n",
        "print(\"Top_K - Normalized:\",normalized_top_k)\n",
        "print(\"MRR:\",mrr/len(rest_embedding_matrix))\n",
        "\n",
        "# NDCG: 0.9608688850983871\n",
        "# Top_K: 1.0\n",
        "# Top_K - Normalized: 0.1\n",
        "# MRR: 0.9517094017094018"
      ]
    }
  ],
  "metadata": {
    "accelerator": "GPU",
    "colab": {
      "provenance": []
    },
    "gpuClass": "standard",
    "kernelspec": {
      "display_name": "Python 3",
      "language": "python",
      "name": "python3"
    },
    "language_info": {
      "codemirror_mode": {
        "name": "ipython",
        "version": 3
      },
      "file_extension": ".py",
      "mimetype": "text/x-python",
      "name": "python",
      "nbconvert_exporter": "python",
      "pygments_lexer": "ipython3",
      "version": "3.7.12"
    }
  },
  "nbformat": 4,
  "nbformat_minor": 0
}