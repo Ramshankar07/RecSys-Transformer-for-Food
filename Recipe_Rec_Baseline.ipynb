{
  "metadata": {
    "kernelspec": {
      "language": "python",
      "display_name": "Python 3",
      "name": "python3"
    },
    "language_info": {
      "name": "python",
      "version": "3.7.12",
      "mimetype": "text/x-python",
      "codemirror_mode": {
        "name": "ipython",
        "version": 3
      },
      "pygments_lexer": "ipython3",
      "nbconvert_exporter": "python",
      "file_extension": ".py"
    },
    "colab": {
      "provenance": []
    },
    "accelerator": "GPU",
    "gpuClass": "standard"
  },
  "nbformat_minor": 0,
  "nbformat": 4,
  "cells": [
    {
      "cell_type": "code",
      "source": [
        "# This Python 3 environment comes with many helpful analytics libraries installed\n",
        "# It is defined by the kaggle/python Docker image: https://github.com/kaggle/docker-python\n",
        "# For example, here's several helpful packages to load\n",
        "\n",
        "import numpy as np # linear algebra\n",
        "import pandas as pd # data processing, CSV file I/O (e.g. pd.read_csv)\n",
        "\n",
        "# Input data files are available in the read-only \"../input/\" directory\n",
        "# For example, running this (by clicking run or pressing Shift+Enter) will list all files under the input directory\n",
        "\n",
        "import os\n",
        "for dirname, _, filenames in os.walk('/kaggle/input'):\n",
        "    for filename in filenames:\n",
        "        print(os.path.join(dirname, filename))\n",
        "\n",
        "# You can write up to 20GB to the current directory (/kaggle/working/) that gets preserved as output when you create a version using \"Save & Run All\" \n",
        "# You can also write temporary files to /kaggle/temp/, but they won't be saved outside of the current session"
      ],
      "metadata": {
        "_uuid": "8f2839f25d086af736a60e9eeb907d3b93b6e0e5",
        "_cell_guid": "b1076dfc-b9ad-4769-8c92-a6c4dae69d19",
        "execution": {
          "iopub.status.busy": "2022-12-10T05:21:01.508955Z",
          "iopub.execute_input": "2022-12-10T05:21:01.509367Z",
          "iopub.status.idle": "2022-12-10T05:21:01.541536Z",
          "shell.execute_reply.started": "2022-12-10T05:21:01.509287Z",
          "shell.execute_reply": "2022-12-10T05:21:01.540403Z"
        },
        "trusted": true,
        "id": "vfOoMmvdrjSW"
      },
      "execution_count": null,
      "outputs": []
    },
    {
      "cell_type": "code",
      "source": [
        "# !pip uninstall keras -y\n",
        "# !pip uninstall keras-nightly -y\n",
        "# !pip uninstall keras-Preprocessing -y\n",
        "# !pip uninstall keras-vis -y\n",
        "# !pip uninstall tensorflow -y\n",
        "\n",
        "# !pip install tensorflow==2.3.0\n",
        "# !pip install keras==2.4"
      ],
      "metadata": {
        "id": "PGJB-8k0wNgZ"
      },
      "execution_count": null,
      "outputs": []
    },
    {
      "cell_type": "code",
      "source": [
        "# !pip install tensorflow-ranking"
      ],
      "metadata": {
        "id": "bg21bI9Ctop6"
      },
      "execution_count": null,
      "outputs": []
    },
    {
      "cell_type": "code",
      "source": [
        "from google.colab import drive\n",
        "drive.mount('/content/drive')"
      ],
      "metadata": {
        "colab": {
          "base_uri": "https://localhost:8080/"
        },
        "id": "ETwJ-52VrmgT",
        "outputId": "84ae0cc6-8fc0-4eb4-8d50-572502c1bfd4"
      },
      "execution_count": null,
      "outputs": [
        {
          "output_type": "stream",
          "name": "stdout",
          "text": [
            "Drive already mounted at /content/drive; to attempt to forcibly remount, call drive.mount(\"/content/drive\", force_remount=True).\n"
          ]
        }
      ]
    },
    {
      "cell_type": "code",
      "source": [
        "import pandas as pd\n",
        "from sklearn.model_selection import train_test_split\n",
        "import keras\n",
        "from IPython.display import SVG\n",
        "from keras.optimizers import adam_v2\n",
        "from keras.utils.vis_utils import model_to_dot\n",
        "import matplotlib.pyplot as plt\n",
        "from sklearn.metrics import mean_absolute_error\n",
        "from sklearn.metrics import ndcg_score\n",
        "from sklearn.metrics import accuracy_score\n",
        "#import tensorflow_ranking as tfr\n",
        "from keras.metrics import top_k_categorical_accuracy,MeanAbsoluteError\n",
        "import numpy as np"
      ],
      "metadata": {
        "execution": {
          "iopub.status.busy": "2022-12-10T05:21:01.543356Z",
          "iopub.execute_input": "2022-12-10T05:21:01.544322Z",
          "iopub.status.idle": "2022-12-10T05:21:04.004660Z",
          "shell.execute_reply.started": "2022-12-10T05:21:01.544284Z",
          "shell.execute_reply": "2022-12-10T05:21:04.003429Z"
        },
        "trusted": true,
        "id": "P5GOKWR4rjSf"
      },
      "execution_count": null,
      "outputs": []
    },
    {
      "cell_type": "code",
      "source": [
        "import tensorflow_ranking as tfr"
      ],
      "metadata": {
        "id": "IH7vmcHUu5IY"
      },
      "execution_count": null,
      "outputs": []
    },
    {
      "cell_type": "code",
      "source": [
        "# Read data\n",
        "interactions = pd.read_csv(\"/content/drive/MyDrive/CS646Project/RAW_interactions.csv\")"
      ],
      "metadata": {
        "execution": {
          "iopub.status.busy": "2022-12-10T05:21:04.006542Z",
          "iopub.execute_input": "2022-12-10T05:21:04.007489Z",
          "iopub.status.idle": "2022-12-10T05:21:09.124112Z",
          "shell.execute_reply.started": "2022-12-10T05:21:04.007450Z",
          "shell.execute_reply": "2022-12-10T05:21:09.123245Z"
        },
        "trusted": true,
        "id": "9O_l2NZJrjSf"
      },
      "execution_count": null,
      "outputs": []
    },
    {
      "cell_type": "code",
      "source": [
        "# Filter required columns\n",
        "interactions = interactions[['user_id','recipe_id','rating']]"
      ],
      "metadata": {
        "execution": {
          "iopub.status.busy": "2022-12-10T05:21:09.126538Z",
          "iopub.execute_input": "2022-12-10T05:21:09.127359Z",
          "iopub.status.idle": "2022-12-10T05:21:09.241972Z",
          "shell.execute_reply.started": "2022-12-10T05:21:09.127322Z",
          "shell.execute_reply": "2022-12-10T05:21:09.240831Z"
        },
        "trusted": true,
        "id": "alRSt9ufrjSg"
      },
      "execution_count": null,
      "outputs": []
    },
    {
      "cell_type": "code",
      "source": [
        "# Get data dimensions\n",
        "len(interactions.user_id.unique()), len(interactions.recipe_id.unique())"
      ],
      "metadata": {
        "execution": {
          "iopub.status.busy": "2022-12-10T05:21:09.243916Z",
          "iopub.execute_input": "2022-12-10T05:21:09.245021Z",
          "iopub.status.idle": "2022-12-10T05:21:09.314829Z",
          "shell.execute_reply.started": "2022-12-10T05:21:09.244968Z",
          "shell.execute_reply": "2022-12-10T05:21:09.313715Z"
        },
        "trusted": true,
        "colab": {
          "base_uri": "https://localhost:8080/"
        },
        "id": "vZGRuBpHrjSg",
        "outputId": "1d899880-41f2-42da-c841-637119783a89"
      },
      "execution_count": null,
      "outputs": [
        {
          "output_type": "execute_result",
          "data": {
            "text/plain": [
              "(226570, 231637)"
            ]
          },
          "metadata": {},
          "execution_count": 9
        }
      ]
    },
    {
      "cell_type": "code",
      "source": [
        "interactions.user_id = interactions.user_id.astype('category').cat.codes.values\n",
        "interactions.recipe_id = interactions.recipe_id.astype('category').cat.codes.values"
      ],
      "metadata": {
        "execution": {
          "iopub.status.busy": "2022-12-10T05:21:09.316413Z",
          "iopub.execute_input": "2022-12-10T05:21:09.316863Z",
          "iopub.status.idle": "2022-12-10T05:21:09.552813Z",
          "shell.execute_reply.started": "2022-12-10T05:21:09.316820Z",
          "shell.execute_reply": "2022-12-10T05:21:09.551687Z"
        },
        "trusted": true,
        "id": "GZjftu4prjSg"
      },
      "execution_count": null,
      "outputs": []
    },
    {
      "cell_type": "code",
      "source": [
        "interactions.head()"
      ],
      "metadata": {
        "execution": {
          "iopub.status.busy": "2022-12-10T05:21:09.554339Z",
          "iopub.execute_input": "2022-12-10T05:21:09.554716Z",
          "iopub.status.idle": "2022-12-10T05:21:09.566907Z",
          "shell.execute_reply.started": "2022-12-10T05:21:09.554684Z",
          "shell.execute_reply": "2022-12-10T05:21:09.565443Z"
        },
        "trusted": true,
        "colab": {
          "base_uri": "https://localhost:8080/",
          "height": 206
        },
        "id": "C9yMKRE7rjSj",
        "outputId": "0412cdaf-4c55-4362-d469-99a4f67fe197"
      },
      "execution_count": null,
      "outputs": [
        {
          "output_type": "execute_result",
          "data": {
            "text/plain": [
              "   user_id  recipe_id  rating\n",
              "0     3935      22741       4\n",
              "1    99667      22741       5\n",
              "2      577      24831       4\n",
              "3    15027      48726       5\n",
              "4     6799      48726       5"
            ],
            "text/html": [
              "\n",
              "  <div id=\"df-ce533246-b88f-458e-892f-a3cac5d10ca3\">\n",
              "    <div class=\"colab-df-container\">\n",
              "      <div>\n",
              "<style scoped>\n",
              "    .dataframe tbody tr th:only-of-type {\n",
              "        vertical-align: middle;\n",
              "    }\n",
              "\n",
              "    .dataframe tbody tr th {\n",
              "        vertical-align: top;\n",
              "    }\n",
              "\n",
              "    .dataframe thead th {\n",
              "        text-align: right;\n",
              "    }\n",
              "</style>\n",
              "<table border=\"1\" class=\"dataframe\">\n",
              "  <thead>\n",
              "    <tr style=\"text-align: right;\">\n",
              "      <th></th>\n",
              "      <th>user_id</th>\n",
              "      <th>recipe_id</th>\n",
              "      <th>rating</th>\n",
              "    </tr>\n",
              "  </thead>\n",
              "  <tbody>\n",
              "    <tr>\n",
              "      <th>0</th>\n",
              "      <td>3935</td>\n",
              "      <td>22741</td>\n",
              "      <td>4</td>\n",
              "    </tr>\n",
              "    <tr>\n",
              "      <th>1</th>\n",
              "      <td>99667</td>\n",
              "      <td>22741</td>\n",
              "      <td>5</td>\n",
              "    </tr>\n",
              "    <tr>\n",
              "      <th>2</th>\n",
              "      <td>577</td>\n",
              "      <td>24831</td>\n",
              "      <td>4</td>\n",
              "    </tr>\n",
              "    <tr>\n",
              "      <th>3</th>\n",
              "      <td>15027</td>\n",
              "      <td>48726</td>\n",
              "      <td>5</td>\n",
              "    </tr>\n",
              "    <tr>\n",
              "      <th>4</th>\n",
              "      <td>6799</td>\n",
              "      <td>48726</td>\n",
              "      <td>5</td>\n",
              "    </tr>\n",
              "  </tbody>\n",
              "</table>\n",
              "</div>\n",
              "      <button class=\"colab-df-convert\" onclick=\"convertToInteractive('df-ce533246-b88f-458e-892f-a3cac5d10ca3')\"\n",
              "              title=\"Convert this dataframe to an interactive table.\"\n",
              "              style=\"display:none;\">\n",
              "        \n",
              "  <svg xmlns=\"http://www.w3.org/2000/svg\" height=\"24px\"viewBox=\"0 0 24 24\"\n",
              "       width=\"24px\">\n",
              "    <path d=\"M0 0h24v24H0V0z\" fill=\"none\"/>\n",
              "    <path d=\"M18.56 5.44l.94 2.06.94-2.06 2.06-.94-2.06-.94-.94-2.06-.94 2.06-2.06.94zm-11 1L8.5 8.5l.94-2.06 2.06-.94-2.06-.94L8.5 2.5l-.94 2.06-2.06.94zm10 10l.94 2.06.94-2.06 2.06-.94-2.06-.94-.94-2.06-.94 2.06-2.06.94z\"/><path d=\"M17.41 7.96l-1.37-1.37c-.4-.4-.92-.59-1.43-.59-.52 0-1.04.2-1.43.59L10.3 9.45l-7.72 7.72c-.78.78-.78 2.05 0 2.83L4 21.41c.39.39.9.59 1.41.59.51 0 1.02-.2 1.41-.59l7.78-7.78 2.81-2.81c.8-.78.8-2.07 0-2.86zM5.41 20L4 18.59l7.72-7.72 1.47 1.35L5.41 20z\"/>\n",
              "  </svg>\n",
              "      </button>\n",
              "      \n",
              "  <style>\n",
              "    .colab-df-container {\n",
              "      display:flex;\n",
              "      flex-wrap:wrap;\n",
              "      gap: 12px;\n",
              "    }\n",
              "\n",
              "    .colab-df-convert {\n",
              "      background-color: #E8F0FE;\n",
              "      border: none;\n",
              "      border-radius: 50%;\n",
              "      cursor: pointer;\n",
              "      display: none;\n",
              "      fill: #1967D2;\n",
              "      height: 32px;\n",
              "      padding: 0 0 0 0;\n",
              "      width: 32px;\n",
              "    }\n",
              "\n",
              "    .colab-df-convert:hover {\n",
              "      background-color: #E2EBFA;\n",
              "      box-shadow: 0px 1px 2px rgba(60, 64, 67, 0.3), 0px 1px 3px 1px rgba(60, 64, 67, 0.15);\n",
              "      fill: #174EA6;\n",
              "    }\n",
              "\n",
              "    [theme=dark] .colab-df-convert {\n",
              "      background-color: #3B4455;\n",
              "      fill: #D2E3FC;\n",
              "    }\n",
              "\n",
              "    [theme=dark] .colab-df-convert:hover {\n",
              "      background-color: #434B5C;\n",
              "      box-shadow: 0px 1px 3px 1px rgba(0, 0, 0, 0.15);\n",
              "      filter: drop-shadow(0px 1px 2px rgba(0, 0, 0, 0.3));\n",
              "      fill: #FFFFFF;\n",
              "    }\n",
              "  </style>\n",
              "\n",
              "      <script>\n",
              "        const buttonEl =\n",
              "          document.querySelector('#df-ce533246-b88f-458e-892f-a3cac5d10ca3 button.colab-df-convert');\n",
              "        buttonEl.style.display =\n",
              "          google.colab.kernel.accessAllowed ? 'block' : 'none';\n",
              "\n",
              "        async function convertToInteractive(key) {\n",
              "          const element = document.querySelector('#df-ce533246-b88f-458e-892f-a3cac5d10ca3');\n",
              "          const dataTable =\n",
              "            await google.colab.kernel.invokeFunction('convertToInteractive',\n",
              "                                                     [key], {});\n",
              "          if (!dataTable) return;\n",
              "\n",
              "          const docLinkHtml = 'Like what you see? Visit the ' +\n",
              "            '<a target=\"_blank\" href=https://colab.research.google.com/notebooks/data_table.ipynb>data table notebook</a>'\n",
              "            + ' to learn more about interactive tables.';\n",
              "          element.innerHTML = '';\n",
              "          dataTable['output_type'] = 'display_data';\n",
              "          await google.colab.output.renderOutput(dataTable, element);\n",
              "          const docLink = document.createElement('div');\n",
              "          docLink.innerHTML = docLinkHtml;\n",
              "          element.appendChild(docLink);\n",
              "        }\n",
              "      </script>\n",
              "    </div>\n",
              "  </div>\n",
              "  "
            ]
          },
          "metadata": {},
          "execution_count": 11
        }
      ]
    },
    {
      "cell_type": "code",
      "source": [
        "user_id_dict = {}\n",
        "k=0\n",
        "for i in interactions['user_id']:\n",
        "  if i not in user_id_dict:\n",
        "    user_id_dict[i] = k\n",
        "    k+=1\n",
        "\n",
        "recipe_id_dict = {}\n",
        "k=0\n",
        "for i in interactions['recipe_id']:\n",
        "  if i not in recipe_id_dict:\n",
        "    recipe_id_dict[i] = k\n",
        "    k+=1"
      ],
      "metadata": {
        "execution": {
          "iopub.status.busy": "2022-12-10T05:21:09.568723Z",
          "iopub.execute_input": "2022-12-10T05:21:09.569102Z",
          "iopub.status.idle": "2022-12-10T05:21:10.298947Z",
          "shell.execute_reply.started": "2022-12-10T05:21:09.569068Z",
          "shell.execute_reply": "2022-12-10T05:21:10.297560Z"
        },
        "trusted": true,
        "id": "OrExcnZjrjSj"
      },
      "execution_count": null,
      "outputs": []
    },
    {
      "cell_type": "code",
      "source": [
        "# Map current user_id and recipe_id to continuous values, for easier matrix factorization\n",
        "interactions['user_id_new']= interactions['user_id'].map(user_id_dict)\n",
        "interactions['recipe_id_new']= interactions['recipe_id'].map(recipe_id_dict)"
      ],
      "metadata": {
        "execution": {
          "iopub.status.busy": "2022-12-10T05:21:10.300538Z",
          "iopub.execute_input": "2022-12-10T05:21:10.300885Z",
          "iopub.status.idle": "2022-12-10T05:21:10.623096Z",
          "shell.execute_reply.started": "2022-12-10T05:21:10.300852Z",
          "shell.execute_reply": "2022-12-10T05:21:10.621889Z"
        },
        "trusted": true,
        "id": "iceQFlo1rjSk"
      },
      "execution_count": null,
      "outputs": []
    },
    {
      "cell_type": "code",
      "source": [
        "# Filter the newly created id columns\n",
        "df_new = interactions[['user_id_new','recipe_id_new','rating']]"
      ],
      "metadata": {
        "execution": {
          "iopub.status.busy": "2022-12-10T05:21:10.624751Z",
          "iopub.execute_input": "2022-12-10T05:21:10.625128Z",
          "iopub.status.idle": "2022-12-10T05:21:10.664992Z",
          "shell.execute_reply.started": "2022-12-10T05:21:10.625092Z",
          "shell.execute_reply": "2022-12-10T05:21:10.663694Z"
        },
        "trusted": true,
        "id": "y-UllaRrrjSk"
      },
      "execution_count": null,
      "outputs": []
    },
    {
      "cell_type": "code",
      "source": [
        "df = df_new.rename(columns={'user_id_new':'user_id','recipe_id_new':'recipe_id'})"
      ],
      "metadata": {
        "execution": {
          "iopub.status.busy": "2022-12-10T05:21:10.666598Z",
          "iopub.execute_input": "2022-12-10T05:21:10.667643Z",
          "iopub.status.idle": "2022-12-10T05:21:10.680327Z",
          "shell.execute_reply.started": "2022-12-10T05:21:10.667580Z",
          "shell.execute_reply": "2022-12-10T05:21:10.679019Z"
        },
        "trusted": true,
        "id": "KRMSZilwrjSk"
      },
      "execution_count": null,
      "outputs": []
    },
    {
      "cell_type": "code",
      "source": [
        "#df= df.iloc[:200000, :]"
      ],
      "metadata": {
        "execution": {
          "iopub.status.busy": "2022-12-10T05:21:10.682244Z",
          "iopub.execute_input": "2022-12-10T05:21:10.682715Z",
          "iopub.status.idle": "2022-12-10T05:21:10.690122Z",
          "shell.execute_reply.started": "2022-12-10T05:21:10.682665Z",
          "shell.execute_reply": "2022-12-10T05:21:10.688644Z"
        },
        "trusted": true,
        "id": "zD1Vr5I7rjSk"
      },
      "execution_count": null,
      "outputs": []
    },
    {
      "cell_type": "code",
      "source": [
        "# Setup train and test data\n",
        "X = df.iloc[:,:2]\n",
        "Y = df.iloc[:,2]"
      ],
      "metadata": {
        "id": "qIY6YfkCz4ps"
      },
      "execution_count": null,
      "outputs": []
    },
    {
      "cell_type": "code",
      "source": [
        "# Split data into training and test data\n",
        "x_train, x_test, y_train, y_test = train_test_split(X, Y, test_size = 0.2, random_state = 66)"
      ],
      "metadata": {
        "id": "mSnVYODgz4se"
      },
      "execution_count": null,
      "outputs": []
    },
    {
      "cell_type": "code",
      "source": [
        "n_users, n_recipes = len(df.user_id.unique()), len(df.recipe_id.unique())"
      ],
      "metadata": {
        "execution": {
          "iopub.status.busy": "2022-12-10T05:21:10.721633Z",
          "iopub.execute_input": "2022-12-10T05:21:10.722190Z",
          "iopub.status.idle": "2022-12-10T05:21:10.735125Z",
          "shell.execute_reply.started": "2022-12-10T05:21:10.722136Z",
          "shell.execute_reply": "2022-12-10T05:21:10.734053Z"
        },
        "trusted": true,
        "id": "IO6mfwkhrjSl"
      },
      "execution_count": null,
      "outputs": []
    },
    {
      "cell_type": "code",
      "source": [
        "# No. of latent factors to retrieve\n",
        "n_latent_factors = 30"
      ],
      "metadata": {
        "execution": {
          "iopub.status.busy": "2022-12-10T05:21:10.736563Z",
          "iopub.execute_input": "2022-12-10T05:21:10.737127Z",
          "iopub.status.idle": "2022-12-10T05:21:10.742381Z",
          "shell.execute_reply.started": "2022-12-10T05:21:10.737091Z",
          "shell.execute_reply": "2022-12-10T05:21:10.741225Z"
        },
        "trusted": true,
        "id": "-rzuMBZgrjSl"
      },
      "execution_count": null,
      "outputs": []
    },
    {
      "cell_type": "code",
      "source": [
        "# Embedding setup and model architecture\n",
        "rec_input = keras.layers.Input(shape=[1],name='Recipe')\n",
        "#print(\"rec_input : \",rec_input)\n",
        "#print(\"rec_input shape : \", rec_input.shape)\n",
        "rec_embedding = keras.layers.Embedding(n_recipes + 1, n_latent_factors, name='Recipe-Embedding')(rec_input)\n",
        "#print(\"rec_embedding : \",rec_embedding)\n",
        "#print(\"rec_embedding shape : \",rec_embedding.shape)\n",
        "rec_vec = keras.layers.Flatten(name='FlattenRecipes')(rec_embedding)\n",
        "#print(\"rec_vec : \",rec_vec)\n",
        "#print(\"rec_vec shape : \",rec_vec.shape)\n",
        "\n",
        "user_input = keras.layers.Input(shape=[1],name='User')\n",
        "print(\"user_input shape : \",user_input.shape)\n",
        "user_embedding = keras.layers.Embedding(n_users + 1, n_latent_factors,name='User-Embedding')(user_input)\n",
        "print(\"user_embedding shape : \", user_embedding.shape)\n",
        "user_vec = keras.layers.Flatten(name='FlattenUsers')(user_embedding)\n",
        "print(\"user_vec shape : \",user_vec.shape)\n",
        "# prod = keras.layers.concatenate([user_vec, rec_vec], name='Concantenate')\n",
        "# model = keras.Model([user_input, rec_input], prod)\n",
        "# model.compile('adam', 'mean_squared_error')"
      ],
      "metadata": {
        "execution": {
          "iopub.status.busy": "2022-12-10T05:21:10.743995Z",
          "iopub.execute_input": "2022-12-10T05:21:10.744367Z",
          "iopub.status.idle": "2022-12-10T05:21:10.826024Z",
          "shell.execute_reply.started": "2022-12-10T05:21:10.744335Z",
          "shell.execute_reply": "2022-12-10T05:21:10.825261Z"
        },
        "trusted": true,
        "colab": {
          "base_uri": "https://localhost:8080/"
        },
        "id": "YxdMEwrSrjSl",
        "outputId": "ef541749-8c1e-4013-b266-b96434e2fc5e"
      },
      "execution_count": null,
      "outputs": [
        {
          "output_type": "stream",
          "name": "stdout",
          "text": [
            "user_input shape :  (None, 1)\n",
            "user_embedding shape :  (None, 1, 30)\n",
            "user_vec shape :  (None, 30)\n"
          ]
        }
      ]
    },
    {
      "cell_type": "code",
      "source": [
        "dotted = keras.layers.Dot(name=\"DotProduct\",axes=1)([user_vec, rec_vec])\n",
        "print(dotted.shape)\n",
        "model = keras.Model([user_input, rec_input], dotted)\n",
        "#model.compile('adam', 'mean_squared_error')\n",
        "\n",
        "# Setup evaluation metrics\n",
        "eval_metrics = [\n",
        "    tfr.keras.metrics.get(key=\"ndcg\", name=\"metric/ndcg\", ragged=False),\n",
        "    tfr.keras.metrics.get(key=\"mrr\", name=\"metric/mrr\", ragged=False)\n",
        "]\n",
        "optimizer = adam_v2.Adam(learning_rate = 0.01)\n",
        "\n",
        "model.compile(loss='mean_squared_error', optimizer = optimizer,metrics=[keras.metrics.MeanAbsoluteError(),'top_k_categorical_accuracy',eval_metrics])"
      ],
      "metadata": {
        "execution": {
          "iopub.status.busy": "2022-12-10T05:21:10.827311Z",
          "iopub.execute_input": "2022-12-10T05:21:10.827811Z",
          "iopub.status.idle": "2022-12-10T05:21:10.854149Z",
          "shell.execute_reply.started": "2022-12-10T05:21:10.827777Z",
          "shell.execute_reply": "2022-12-10T05:21:10.853264Z"
        },
        "trusted": true,
        "colab": {
          "base_uri": "https://localhost:8080/"
        },
        "id": "iQ0xodWxrjSl",
        "outputId": "fdccdda5-2961-47f2-8822-e9adf6166e4f"
      },
      "execution_count": null,
      "outputs": [
        {
          "output_type": "stream",
          "name": "stdout",
          "text": [
            "(None, 1)\n"
          ]
        }
      ]
    },
    {
      "cell_type": "code",
      "source": [
        "# Visualize the baseline architecture\n",
        "SVG(model_to_dot(model,  show_shapes=True, show_layer_names=True, rankdir='HB', dpi=65).create(prog='dot', format='svg'))"
      ],
      "metadata": {
        "execution": {
          "iopub.status.busy": "2022-12-10T05:21:10.855452Z",
          "iopub.execute_input": "2022-12-10T05:21:10.856001Z",
          "iopub.status.idle": "2022-12-10T05:21:10.973728Z",
          "shell.execute_reply.started": "2022-12-10T05:21:10.855951Z",
          "shell.execute_reply": "2022-12-10T05:21:10.972105Z"
        },
        "trusted": true,
        "id": "un47GDNmrjSl",
        "outputId": "bd281cd5-91f5-4ff1-ea88-0fa0a0922bf4",
        "colab": {
          "base_uri": "https://localhost:8080/",
          "height": 387
        }
      },
      "execution_count": null,
      "outputs": [
        {
          "output_type": "execute_result",
          "data": {
            "text/plain": [
              "<IPython.core.display.SVG object>"
            ],
            "image/svg+xml": "<svg xmlns=\"http://www.w3.org/2000/svg\" xmlns:xlink=\"http://www.w3.org/1999/xlink\" width=\"520pt\" height=\"274pt\" viewBox=\"0.00 0.00 575.50 304.00\">\n<g id=\"graph0\" class=\"graph\" transform=\"scale(.9028 .9028) rotate(0) translate(4 300)\">\n<title>G</title>\n<polygon fill=\"#ffffff\" stroke=\"transparent\" points=\"-4,4 -4,-300 571.5,-300 571.5,4 -4,4\"/>\n<!-- 140575712401488 -->\n<g id=\"node1\" class=\"node\">\n<title>140575712401488</title>\n<polygon fill=\"none\" stroke=\"#000000\" points=\"24.5,-249.5 24.5,-295.5 243.5,-295.5 243.5,-249.5 24.5,-249.5\"/>\n<text text-anchor=\"middle\" x=\"64.5\" y=\"-280.3\" font-family=\"Times,serif\" font-size=\"14.00\" fill=\"#000000\">User</text>\n<polyline fill=\"none\" stroke=\"#000000\" points=\"24.5,-272.5 104.5,-272.5 \"/>\n<text text-anchor=\"middle\" x=\"64.5\" y=\"-257.3\" font-family=\"Times,serif\" font-size=\"14.00\" fill=\"#000000\">InputLayer</text>\n<polyline fill=\"none\" stroke=\"#000000\" points=\"104.5,-249.5 104.5,-295.5 \"/>\n<text text-anchor=\"middle\" x=\"133.5\" y=\"-280.3\" font-family=\"Times,serif\" font-size=\"14.00\" fill=\"#000000\">input:</text>\n<polyline fill=\"none\" stroke=\"#000000\" points=\"104.5,-272.5 162.5,-272.5 \"/>\n<text text-anchor=\"middle\" x=\"133.5\" y=\"-257.3\" font-family=\"Times,serif\" font-size=\"14.00\" fill=\"#000000\">output:</text>\n<polyline fill=\"none\" stroke=\"#000000\" points=\"162.5,-249.5 162.5,-295.5 \"/>\n<text text-anchor=\"middle\" x=\"203\" y=\"-280.3\" font-family=\"Times,serif\" font-size=\"14.00\" fill=\"#000000\">[(None, 1)]</text>\n<polyline fill=\"none\" stroke=\"#000000\" points=\"162.5,-272.5 243.5,-272.5 \"/>\n<text text-anchor=\"middle\" x=\"203\" y=\"-257.3\" font-family=\"Times,serif\" font-size=\"14.00\" fill=\"#000000\">[(None, 1)]</text>\n</g>\n<!-- 140575706960944 -->\n<g id=\"node3\" class=\"node\">\n<title>140575706960944</title>\n<polygon fill=\"none\" stroke=\"#000000\" points=\"0,-166.5 0,-212.5 268,-212.5 268,-166.5 0,-166.5\"/>\n<text text-anchor=\"middle\" x=\"57.5\" y=\"-197.3\" font-family=\"Times,serif\" font-size=\"14.00\" fill=\"#000000\">User-Embedding</text>\n<polyline fill=\"none\" stroke=\"#000000\" points=\"0,-189.5 115,-189.5 \"/>\n<text text-anchor=\"middle\" x=\"57.5\" y=\"-174.3\" font-family=\"Times,serif\" font-size=\"14.00\" fill=\"#000000\">Embedding</text>\n<polyline fill=\"none\" stroke=\"#000000\" points=\"115,-166.5 115,-212.5 \"/>\n<text text-anchor=\"middle\" x=\"144\" y=\"-197.3\" font-family=\"Times,serif\" font-size=\"14.00\" fill=\"#000000\">input:</text>\n<polyline fill=\"none\" stroke=\"#000000\" points=\"115,-189.5 173,-189.5 \"/>\n<text text-anchor=\"middle\" x=\"144\" y=\"-174.3\" font-family=\"Times,serif\" font-size=\"14.00\" fill=\"#000000\">output:</text>\n<polyline fill=\"none\" stroke=\"#000000\" points=\"173,-166.5 173,-212.5 \"/>\n<text text-anchor=\"middle\" x=\"220.5\" y=\"-197.3\" font-family=\"Times,serif\" font-size=\"14.00\" fill=\"#000000\">(None, 1)</text>\n<polyline fill=\"none\" stroke=\"#000000\" points=\"173,-189.5 268,-189.5 \"/>\n<text text-anchor=\"middle\" x=\"220.5\" y=\"-174.3\" font-family=\"Times,serif\" font-size=\"14.00\" fill=\"#000000\">(None, 1, 30)</text>\n</g>\n<!-- 140575712401488&#45;&gt;140575706960944 -->\n<g id=\"edge1\" class=\"edge\">\n<title>140575712401488-&gt;140575706960944</title>\n<path fill=\"none\" stroke=\"#000000\" d=\"M134,-249.3799C134,-241.1745 134,-231.7679 134,-222.8786\"/>\n<polygon fill=\"#000000\" stroke=\"#000000\" points=\"137.5001,-222.784 134,-212.784 130.5001,-222.784 137.5001,-222.784\"/>\n</g>\n<!-- 140575712606624 -->\n<g id=\"node2\" class=\"node\">\n<title>140575712606624</title>\n<polygon fill=\"none\" stroke=\"#000000\" points=\"317.5,-249.5 317.5,-295.5 536.5,-295.5 536.5,-249.5 317.5,-249.5\"/>\n<text text-anchor=\"middle\" x=\"357.5\" y=\"-280.3\" font-family=\"Times,serif\" font-size=\"14.00\" fill=\"#000000\">Recipe</text>\n<polyline fill=\"none\" stroke=\"#000000\" points=\"317.5,-272.5 397.5,-272.5 \"/>\n<text text-anchor=\"middle\" x=\"357.5\" y=\"-257.3\" font-family=\"Times,serif\" font-size=\"14.00\" fill=\"#000000\">InputLayer</text>\n<polyline fill=\"none\" stroke=\"#000000\" points=\"397.5,-249.5 397.5,-295.5 \"/>\n<text text-anchor=\"middle\" x=\"426.5\" y=\"-280.3\" font-family=\"Times,serif\" font-size=\"14.00\" fill=\"#000000\">input:</text>\n<polyline fill=\"none\" stroke=\"#000000\" points=\"397.5,-272.5 455.5,-272.5 \"/>\n<text text-anchor=\"middle\" x=\"426.5\" y=\"-257.3\" font-family=\"Times,serif\" font-size=\"14.00\" fill=\"#000000\">output:</text>\n<polyline fill=\"none\" stroke=\"#000000\" points=\"455.5,-249.5 455.5,-295.5 \"/>\n<text text-anchor=\"middle\" x=\"496\" y=\"-280.3\" font-family=\"Times,serif\" font-size=\"14.00\" fill=\"#000000\">[(None, 1)]</text>\n<polyline fill=\"none\" stroke=\"#000000\" points=\"455.5,-272.5 536.5,-272.5 \"/>\n<text text-anchor=\"middle\" x=\"496\" y=\"-257.3\" font-family=\"Times,serif\" font-size=\"14.00\" fill=\"#000000\">[(None, 1)]</text>\n</g>\n<!-- 140575712606576 -->\n<g id=\"node4\" class=\"node\">\n<title>140575712606576</title>\n<polygon fill=\"none\" stroke=\"#000000\" points=\"286.5,-166.5 286.5,-212.5 567.5,-212.5 567.5,-166.5 286.5,-166.5\"/>\n<text text-anchor=\"middle\" x=\"350.5\" y=\"-197.3\" font-family=\"Times,serif\" font-size=\"14.00\" fill=\"#000000\">Recipe-Embedding</text>\n<polyline fill=\"none\" stroke=\"#000000\" points=\"286.5,-189.5 414.5,-189.5 \"/>\n<text text-anchor=\"middle\" x=\"350.5\" y=\"-174.3\" font-family=\"Times,serif\" font-size=\"14.00\" fill=\"#000000\">Embedding</text>\n<polyline fill=\"none\" stroke=\"#000000\" points=\"414.5,-166.5 414.5,-212.5 \"/>\n<text text-anchor=\"middle\" x=\"443.5\" y=\"-197.3\" font-family=\"Times,serif\" font-size=\"14.00\" fill=\"#000000\">input:</text>\n<polyline fill=\"none\" stroke=\"#000000\" points=\"414.5,-189.5 472.5,-189.5 \"/>\n<text text-anchor=\"middle\" x=\"443.5\" y=\"-174.3\" font-family=\"Times,serif\" font-size=\"14.00\" fill=\"#000000\">output:</text>\n<polyline fill=\"none\" stroke=\"#000000\" points=\"472.5,-166.5 472.5,-212.5 \"/>\n<text text-anchor=\"middle\" x=\"520\" y=\"-197.3\" font-family=\"Times,serif\" font-size=\"14.00\" fill=\"#000000\">(None, 1)</text>\n<polyline fill=\"none\" stroke=\"#000000\" points=\"472.5,-189.5 567.5,-189.5 \"/>\n<text text-anchor=\"middle\" x=\"520\" y=\"-174.3\" font-family=\"Times,serif\" font-size=\"14.00\" fill=\"#000000\">(None, 1, 30)</text>\n</g>\n<!-- 140575712606624&#45;&gt;140575712606576 -->\n<g id=\"edge2\" class=\"edge\">\n<title>140575712606624-&gt;140575712606576</title>\n<path fill=\"none\" stroke=\"#000000\" d=\"M427,-249.3799C427,-241.1745 427,-231.7679 427,-222.8786\"/>\n<polygon fill=\"#000000\" stroke=\"#000000\" points=\"430.5001,-222.784 427,-212.784 423.5001,-222.784 430.5001,-222.784\"/>\n</g>\n<!-- 140575706961568 -->\n<g id=\"node5\" class=\"node\">\n<title>140575706961568</title>\n<polygon fill=\"none\" stroke=\"#000000\" points=\"28,-83.5 28,-129.5 268,-129.5 268,-83.5 28,-83.5\"/>\n<text text-anchor=\"middle\" x=\"71.5\" y=\"-114.3\" font-family=\"Times,serif\" font-size=\"14.00\" fill=\"#000000\">FlattenUsers</text>\n<polyline fill=\"none\" stroke=\"#000000\" points=\"28,-106.5 115,-106.5 \"/>\n<text text-anchor=\"middle\" x=\"71.5\" y=\"-91.3\" font-family=\"Times,serif\" font-size=\"14.00\" fill=\"#000000\">Flatten</text>\n<polyline fill=\"none\" stroke=\"#000000\" points=\"115,-83.5 115,-129.5 \"/>\n<text text-anchor=\"middle\" x=\"144\" y=\"-114.3\" font-family=\"Times,serif\" font-size=\"14.00\" fill=\"#000000\">input:</text>\n<polyline fill=\"none\" stroke=\"#000000\" points=\"115,-106.5 173,-106.5 \"/>\n<text text-anchor=\"middle\" x=\"144\" y=\"-91.3\" font-family=\"Times,serif\" font-size=\"14.00\" fill=\"#000000\">output:</text>\n<polyline fill=\"none\" stroke=\"#000000\" points=\"173,-83.5 173,-129.5 \"/>\n<text text-anchor=\"middle\" x=\"220.5\" y=\"-114.3\" font-family=\"Times,serif\" font-size=\"14.00\" fill=\"#000000\">(None, 1, 30)</text>\n<polyline fill=\"none\" stroke=\"#000000\" points=\"173,-106.5 268,-106.5 \"/>\n<text text-anchor=\"middle\" x=\"220.5\" y=\"-91.3\" font-family=\"Times,serif\" font-size=\"14.00\" fill=\"#000000\">(None, 30)</text>\n</g>\n<!-- 140575706960944&#45;&gt;140575706961568 -->\n<g id=\"edge3\" class=\"edge\">\n<title>140575706960944-&gt;140575706961568</title>\n<path fill=\"none\" stroke=\"#000000\" d=\"M137.8998,-166.3799C139.2838,-158.1745 140.8705,-148.7679 142.3699,-139.8786\"/>\n<polygon fill=\"#000000\" stroke=\"#000000\" points=\"145.8605,-140.2269 144.0726,-129.784 138.958,-139.0625 145.8605,-140.2269\"/>\n</g>\n<!-- 140575712400144 -->\n<g id=\"node6\" class=\"node\">\n<title>140575712400144</title>\n<polygon fill=\"none\" stroke=\"#000000\" points=\"293.5,-83.5 293.5,-129.5 546.5,-129.5 546.5,-83.5 293.5,-83.5\"/>\n<text text-anchor=\"middle\" x=\"343.5\" y=\"-114.3\" font-family=\"Times,serif\" font-size=\"14.00\" fill=\"#000000\">FlattenRecipes</text>\n<polyline fill=\"none\" stroke=\"#000000\" points=\"293.5,-106.5 393.5,-106.5 \"/>\n<text text-anchor=\"middle\" x=\"343.5\" y=\"-91.3\" font-family=\"Times,serif\" font-size=\"14.00\" fill=\"#000000\">Flatten</text>\n<polyline fill=\"none\" stroke=\"#000000\" points=\"393.5,-83.5 393.5,-129.5 \"/>\n<text text-anchor=\"middle\" x=\"422.5\" y=\"-114.3\" font-family=\"Times,serif\" font-size=\"14.00\" fill=\"#000000\">input:</text>\n<polyline fill=\"none\" stroke=\"#000000\" points=\"393.5,-106.5 451.5,-106.5 \"/>\n<text text-anchor=\"middle\" x=\"422.5\" y=\"-91.3\" font-family=\"Times,serif\" font-size=\"14.00\" fill=\"#000000\">output:</text>\n<polyline fill=\"none\" stroke=\"#000000\" points=\"451.5,-83.5 451.5,-129.5 \"/>\n<text text-anchor=\"middle\" x=\"499\" y=\"-114.3\" font-family=\"Times,serif\" font-size=\"14.00\" fill=\"#000000\">(None, 1, 30)</text>\n<polyline fill=\"none\" stroke=\"#000000\" points=\"451.5,-106.5 546.5,-106.5 \"/>\n<text text-anchor=\"middle\" x=\"499\" y=\"-91.3\" font-family=\"Times,serif\" font-size=\"14.00\" fill=\"#000000\">(None, 30)</text>\n</g>\n<!-- 140575712606576&#45;&gt;140575712400144 -->\n<g id=\"edge4\" class=\"edge\">\n<title>140575712606576-&gt;140575712400144</title>\n<path fill=\"none\" stroke=\"#000000\" d=\"M425.0501,-166.3799C424.3581,-158.1745 423.5648,-148.7679 422.8151,-139.8786\"/>\n<polygon fill=\"#000000\" stroke=\"#000000\" points=\"426.2918,-139.4545 421.9637,-129.784 419.3166,-140.0428 426.2918,-139.4545\"/>\n</g>\n<!-- 140575706968944 -->\n<g id=\"node7\" class=\"node\">\n<title>140575706968944</title>\n<polygon fill=\"none\" stroke=\"#000000\" points=\"130,-.5 130,-46.5 430,-46.5 430,-.5 130,-.5\"/>\n<text text-anchor=\"middle\" x=\"171.5\" y=\"-31.3\" font-family=\"Times,serif\" font-size=\"14.00\" fill=\"#000000\">DotProduct</text>\n<polyline fill=\"none\" stroke=\"#000000\" points=\"130,-23.5 213,-23.5 \"/>\n<text text-anchor=\"middle\" x=\"171.5\" y=\"-8.3\" font-family=\"Times,serif\" font-size=\"14.00\" fill=\"#000000\">Dot</text>\n<polyline fill=\"none\" stroke=\"#000000\" points=\"213,-.5 213,-46.5 \"/>\n<text text-anchor=\"middle\" x=\"242\" y=\"-31.3\" font-family=\"Times,serif\" font-size=\"14.00\" fill=\"#000000\">input:</text>\n<polyline fill=\"none\" stroke=\"#000000\" points=\"213,-23.5 271,-23.5 \"/>\n<text text-anchor=\"middle\" x=\"242\" y=\"-8.3\" font-family=\"Times,serif\" font-size=\"14.00\" fill=\"#000000\">output:</text>\n<polyline fill=\"none\" stroke=\"#000000\" points=\"271,-.5 271,-46.5 \"/>\n<text text-anchor=\"middle\" x=\"350.5\" y=\"-31.3\" font-family=\"Times,serif\" font-size=\"14.00\" fill=\"#000000\">[(None, 30), (None, 30)]</text>\n<polyline fill=\"none\" stroke=\"#000000\" points=\"271,-23.5 430,-23.5 \"/>\n<text text-anchor=\"middle\" x=\"350.5\" y=\"-8.3\" font-family=\"Times,serif\" font-size=\"14.00\" fill=\"#000000\">(None, 1)</text>\n</g>\n<!-- 140575706961568&#45;&gt;140575706968944 -->\n<g id=\"edge5\" class=\"edge\">\n<title>140575706961568-&gt;140575706968944</title>\n<path fill=\"none\" stroke=\"#000000\" d=\"M184.7694,-83.3799C200.0883,-73.7475 218.04,-62.4597 234.2028,-52.2967\"/>\n<polygon fill=\"#000000\" stroke=\"#000000\" points=\"236.3675,-55.07 242.97,-46.784 232.6414,-49.1441 236.3675,-55.07\"/>\n</g>\n<!-- 140575712400144&#45;&gt;140575706968944 -->\n<g id=\"edge6\" class=\"edge\">\n<title>140575712400144-&gt;140575706968944</title>\n<path fill=\"none\" stroke=\"#000000\" d=\"M381.0022,-83.3799C364.6044,-73.6583 345.3623,-62.2505 328.0971,-52.0147\"/>\n<polygon fill=\"#000000\" stroke=\"#000000\" points=\"329.6611,-48.8731 319.2742,-46.784 326.0912,-54.8944 329.6611,-48.8731\"/>\n</g>\n</g>\n</svg>"
          },
          "metadata": {},
          "execution_count": 26
        }
      ]
    },
    {
      "cell_type": "code",
      "source": [
        "model.summary()"
      ],
      "metadata": {
        "execution": {
          "iopub.status.busy": "2022-12-10T05:21:10.975800Z",
          "iopub.execute_input": "2022-12-10T05:21:10.976319Z",
          "iopub.status.idle": "2022-12-10T05:21:10.987481Z",
          "shell.execute_reply.started": "2022-12-10T05:21:10.976265Z",
          "shell.execute_reply": "2022-12-10T05:21:10.986085Z"
        },
        "trusted": true,
        "id": "YYge0xyHrjSm",
        "outputId": "6817c714-f88b-41b9-e8b8-a64ae663e9b7",
        "colab": {
          "base_uri": "https://localhost:8080/"
        }
      },
      "execution_count": null,
      "outputs": [
        {
          "output_type": "stream",
          "name": "stdout",
          "text": [
            "Model: \"model\"\n",
            "__________________________________________________________________________________________________\n",
            " Layer (type)                   Output Shape         Param #     Connected to                     \n",
            "==================================================================================================\n",
            " User (InputLayer)              [(None, 1)]          0           []                               \n",
            "                                                                                                  \n",
            " Recipe (InputLayer)            [(None, 1)]          0           []                               \n",
            "                                                                                                  \n",
            " User-Embedding (Embedding)     (None, 1, 30)        6797130     ['User[0][0]']                   \n",
            "                                                                                                  \n",
            " Recipe-Embedding (Embedding)   (None, 1, 30)        6949140     ['Recipe[0][0]']                 \n",
            "                                                                                                  \n",
            " FlattenUsers (Flatten)         (None, 30)           0           ['User-Embedding[0][0]']         \n",
            "                                                                                                  \n",
            " FlattenRecipes (Flatten)       (None, 30)           0           ['Recipe-Embedding[0][0]']       \n",
            "                                                                                                  \n",
            " DotProduct (Dot)               (None, 1)            0           ['FlattenUsers[0][0]',           \n",
            "                                                                  'FlattenRecipes[0][0]']         \n",
            "                                                                                                  \n",
            "==================================================================================================\n",
            "Total params: 13,746,270\n",
            "Trainable params: 13,746,270\n",
            "Non-trainable params: 0\n",
            "__________________________________________________________________________________________________\n"
          ]
        }
      ]
    },
    {
      "cell_type": "code",
      "source": [
        "# Train the model\n",
        "history = model.fit(x=[x_train.user_id, x_train.recipe_id], y=y_train, epochs=10, verbose=2, validation_data=([x_test['user_id'], x_test['recipe_id']], y_test))\n",
        "#history = model.fit([train.user_id, train.recipe_id], train.rating, epochs=50, verbose=2)"
      ],
      "metadata": {
        "execution": {
          "iopub.status.busy": "2022-12-10T05:21:10.989328Z",
          "iopub.execute_input": "2022-12-10T05:21:10.990153Z",
          "iopub.status.idle": "2022-12-10T06:48:15.162939Z",
          "shell.execute_reply.started": "2022-12-10T05:21:10.990104Z",
          "shell.execute_reply": "2022-12-10T06:48:15.161704Z"
        },
        "trusted": true,
        "id": "vEddcHx9rjSm",
        "outputId": "e473b9c3-bdf4-415a-ea22-23f6d82ffaae",
        "colab": {
          "base_uri": "https://localhost:8080/",
          "height": 364
        }
      },
      "execution_count": null,
      "outputs": [
        {
          "metadata": {
            "tags": null
          },
          "name": "stdout",
          "output_type": "stream",
          "text": [
            "Epoch 1/10\n"
          ]
        },
        {
          "output_type": "error",
          "ename": "KeyboardInterrupt",
          "evalue": "ignored",
          "traceback": [
            "\u001b[0;31m---------------------------------------------------------------------------\u001b[0m",
            "\u001b[0;31mKeyboardInterrupt\u001b[0m                         Traceback (most recent call last)",
            "\u001b[0;32m<ipython-input-25-5478d24cdbc4>\u001b[0m in \u001b[0;36m<module>\u001b[0;34m\u001b[0m\n\u001b[1;32m      1\u001b[0m \u001b[0;31m# Train the model\u001b[0m\u001b[0;34m\u001b[0m\u001b[0;34m\u001b[0m\u001b[0;34m\u001b[0m\u001b[0m\n\u001b[0;32m----> 2\u001b[0;31m \u001b[0mhistory\u001b[0m \u001b[0;34m=\u001b[0m \u001b[0mmodel\u001b[0m\u001b[0;34m.\u001b[0m\u001b[0mfit\u001b[0m\u001b[0;34m(\u001b[0m\u001b[0mx\u001b[0m\u001b[0;34m=\u001b[0m\u001b[0;34m[\u001b[0m\u001b[0mx_train\u001b[0m\u001b[0;34m.\u001b[0m\u001b[0muser_id\u001b[0m\u001b[0;34m,\u001b[0m \u001b[0mx_train\u001b[0m\u001b[0;34m.\u001b[0m\u001b[0mrecipe_id\u001b[0m\u001b[0;34m]\u001b[0m\u001b[0;34m,\u001b[0m \u001b[0my\u001b[0m\u001b[0;34m=\u001b[0m\u001b[0my_train\u001b[0m\u001b[0;34m,\u001b[0m \u001b[0mepochs\u001b[0m\u001b[0;34m=\u001b[0m\u001b[0;36m10\u001b[0m\u001b[0;34m,\u001b[0m \u001b[0mverbose\u001b[0m\u001b[0;34m=\u001b[0m\u001b[0;36m2\u001b[0m\u001b[0;34m,\u001b[0m \u001b[0mvalidation_data\u001b[0m\u001b[0;34m=\u001b[0m\u001b[0;34m(\u001b[0m\u001b[0;34m[\u001b[0m\u001b[0mx_test\u001b[0m\u001b[0;34m[\u001b[0m\u001b[0;34m'user_id'\u001b[0m\u001b[0;34m]\u001b[0m\u001b[0;34m,\u001b[0m \u001b[0mx_test\u001b[0m\u001b[0;34m[\u001b[0m\u001b[0;34m'recipe_id'\u001b[0m\u001b[0;34m]\u001b[0m\u001b[0;34m]\u001b[0m\u001b[0;34m,\u001b[0m \u001b[0my_test\u001b[0m\u001b[0;34m)\u001b[0m\u001b[0;34m)\u001b[0m\u001b[0;34m\u001b[0m\u001b[0;34m\u001b[0m\u001b[0m\n\u001b[0m\u001b[1;32m      3\u001b[0m \u001b[0;31m#history = model.fit([train.user_id, train.recipe_id], train.rating, epochs=50, verbose=2)\u001b[0m\u001b[0;34m\u001b[0m\u001b[0;34m\u001b[0m\u001b[0;34m\u001b[0m\u001b[0m\n",
            "\u001b[0;32m/usr/local/lib/python3.8/dist-packages/keras/utils/traceback_utils.py\u001b[0m in \u001b[0;36merror_handler\u001b[0;34m(*args, **kwargs)\u001b[0m\n\u001b[1;32m     63\u001b[0m         \u001b[0mfiltered_tb\u001b[0m \u001b[0;34m=\u001b[0m \u001b[0;32mNone\u001b[0m\u001b[0;34m\u001b[0m\u001b[0;34m\u001b[0m\u001b[0m\n\u001b[1;32m     64\u001b[0m         \u001b[0;32mtry\u001b[0m\u001b[0;34m:\u001b[0m\u001b[0;34m\u001b[0m\u001b[0;34m\u001b[0m\u001b[0m\n\u001b[0;32m---> 65\u001b[0;31m             \u001b[0;32mreturn\u001b[0m \u001b[0mfn\u001b[0m\u001b[0;34m(\u001b[0m\u001b[0;34m*\u001b[0m\u001b[0margs\u001b[0m\u001b[0;34m,\u001b[0m \u001b[0;34m**\u001b[0m\u001b[0mkwargs\u001b[0m\u001b[0;34m)\u001b[0m\u001b[0;34m\u001b[0m\u001b[0;34m\u001b[0m\u001b[0m\n\u001b[0m\u001b[1;32m     66\u001b[0m         \u001b[0;32mexcept\u001b[0m \u001b[0mException\u001b[0m \u001b[0;32mas\u001b[0m \u001b[0me\u001b[0m\u001b[0;34m:\u001b[0m\u001b[0;34m\u001b[0m\u001b[0;34m\u001b[0m\u001b[0m\n\u001b[1;32m     67\u001b[0m             \u001b[0mfiltered_tb\u001b[0m \u001b[0;34m=\u001b[0m \u001b[0m_process_traceback_frames\u001b[0m\u001b[0;34m(\u001b[0m\u001b[0me\u001b[0m\u001b[0;34m.\u001b[0m\u001b[0m__traceback__\u001b[0m\u001b[0;34m)\u001b[0m\u001b[0;34m\u001b[0m\u001b[0;34m\u001b[0m\u001b[0m\n",
            "\u001b[0;32m/usr/local/lib/python3.8/dist-packages/keras/engine/training.py\u001b[0m in \u001b[0;36mfit\u001b[0;34m(self, x, y, batch_size, epochs, verbose, callbacks, validation_split, validation_data, shuffle, class_weight, sample_weight, initial_epoch, steps_per_epoch, validation_steps, validation_batch_size, validation_freq, max_queue_size, workers, use_multiprocessing)\u001b[0m\n\u001b[1;32m   1648\u001b[0m                         ):\n\u001b[1;32m   1649\u001b[0m                             \u001b[0mcallbacks\u001b[0m\u001b[0;34m.\u001b[0m\u001b[0mon_train_batch_begin\u001b[0m\u001b[0;34m(\u001b[0m\u001b[0mstep\u001b[0m\u001b[0;34m)\u001b[0m\u001b[0;34m\u001b[0m\u001b[0;34m\u001b[0m\u001b[0m\n\u001b[0;32m-> 1650\u001b[0;31m                             \u001b[0mtmp_logs\u001b[0m \u001b[0;34m=\u001b[0m \u001b[0mself\u001b[0m\u001b[0;34m.\u001b[0m\u001b[0mtrain_function\u001b[0m\u001b[0;34m(\u001b[0m\u001b[0miterator\u001b[0m\u001b[0;34m)\u001b[0m\u001b[0;34m\u001b[0m\u001b[0;34m\u001b[0m\u001b[0m\n\u001b[0m\u001b[1;32m   1651\u001b[0m                             \u001b[0;32mif\u001b[0m \u001b[0mdata_handler\u001b[0m\u001b[0;34m.\u001b[0m\u001b[0mshould_sync\u001b[0m\u001b[0;34m:\u001b[0m\u001b[0;34m\u001b[0m\u001b[0;34m\u001b[0m\u001b[0m\n\u001b[1;32m   1652\u001b[0m                                 \u001b[0mcontext\u001b[0m\u001b[0;34m.\u001b[0m\u001b[0masync_wait\u001b[0m\u001b[0;34m(\u001b[0m\u001b[0;34m)\u001b[0m\u001b[0;34m\u001b[0m\u001b[0;34m\u001b[0m\u001b[0m\n",
            "\u001b[0;32m/usr/local/lib/python3.8/dist-packages/tensorflow/python/util/traceback_utils.py\u001b[0m in \u001b[0;36merror_handler\u001b[0;34m(*args, **kwargs)\u001b[0m\n\u001b[1;32m    148\u001b[0m     \u001b[0mfiltered_tb\u001b[0m \u001b[0;34m=\u001b[0m \u001b[0;32mNone\u001b[0m\u001b[0;34m\u001b[0m\u001b[0;34m\u001b[0m\u001b[0m\n\u001b[1;32m    149\u001b[0m     \u001b[0;32mtry\u001b[0m\u001b[0;34m:\u001b[0m\u001b[0;34m\u001b[0m\u001b[0;34m\u001b[0m\u001b[0m\n\u001b[0;32m--> 150\u001b[0;31m       \u001b[0;32mreturn\u001b[0m \u001b[0mfn\u001b[0m\u001b[0;34m(\u001b[0m\u001b[0;34m*\u001b[0m\u001b[0margs\u001b[0m\u001b[0;34m,\u001b[0m \u001b[0;34m**\u001b[0m\u001b[0mkwargs\u001b[0m\u001b[0;34m)\u001b[0m\u001b[0;34m\u001b[0m\u001b[0;34m\u001b[0m\u001b[0m\n\u001b[0m\u001b[1;32m    151\u001b[0m     \u001b[0;32mexcept\u001b[0m \u001b[0mException\u001b[0m \u001b[0;32mas\u001b[0m \u001b[0me\u001b[0m\u001b[0;34m:\u001b[0m\u001b[0;34m\u001b[0m\u001b[0;34m\u001b[0m\u001b[0m\n\u001b[1;32m    152\u001b[0m       \u001b[0mfiltered_tb\u001b[0m \u001b[0;34m=\u001b[0m \u001b[0m_process_traceback_frames\u001b[0m\u001b[0;34m(\u001b[0m\u001b[0me\u001b[0m\u001b[0;34m.\u001b[0m\u001b[0m__traceback__\u001b[0m\u001b[0;34m)\u001b[0m\u001b[0;34m\u001b[0m\u001b[0;34m\u001b[0m\u001b[0m\n",
            "\u001b[0;32m/usr/local/lib/python3.8/dist-packages/tensorflow/python/eager/polymorphic_function/polymorphic_function.py\u001b[0m in \u001b[0;36m__call__\u001b[0;34m(self, *args, **kwds)\u001b[0m\n\u001b[1;32m    878\u001b[0m \u001b[0;34m\u001b[0m\u001b[0m\n\u001b[1;32m    879\u001b[0m       \u001b[0;32mwith\u001b[0m \u001b[0mOptionalXlaContext\u001b[0m\u001b[0;34m(\u001b[0m\u001b[0mself\u001b[0m\u001b[0;34m.\u001b[0m\u001b[0m_jit_compile\u001b[0m\u001b[0;34m)\u001b[0m\u001b[0;34m:\u001b[0m\u001b[0;34m\u001b[0m\u001b[0;34m\u001b[0m\u001b[0m\n\u001b[0;32m--> 880\u001b[0;31m         \u001b[0mresult\u001b[0m \u001b[0;34m=\u001b[0m \u001b[0mself\u001b[0m\u001b[0;34m.\u001b[0m\u001b[0m_call\u001b[0m\u001b[0;34m(\u001b[0m\u001b[0;34m*\u001b[0m\u001b[0margs\u001b[0m\u001b[0;34m,\u001b[0m \u001b[0;34m**\u001b[0m\u001b[0mkwds\u001b[0m\u001b[0;34m)\u001b[0m\u001b[0;34m\u001b[0m\u001b[0;34m\u001b[0m\u001b[0m\n\u001b[0m\u001b[1;32m    881\u001b[0m \u001b[0;34m\u001b[0m\u001b[0m\n\u001b[1;32m    882\u001b[0m       \u001b[0mnew_tracing_count\u001b[0m \u001b[0;34m=\u001b[0m \u001b[0mself\u001b[0m\u001b[0;34m.\u001b[0m\u001b[0mexperimental_get_tracing_count\u001b[0m\u001b[0;34m(\u001b[0m\u001b[0;34m)\u001b[0m\u001b[0;34m\u001b[0m\u001b[0;34m\u001b[0m\u001b[0m\n",
            "\u001b[0;32m/usr/local/lib/python3.8/dist-packages/tensorflow/python/eager/polymorphic_function/polymorphic_function.py\u001b[0m in \u001b[0;36m_call\u001b[0;34m(self, *args, **kwds)\u001b[0m\n\u001b[1;32m    910\u001b[0m       \u001b[0;31m# In this case we have created variables on the first call, so we run the\u001b[0m\u001b[0;34m\u001b[0m\u001b[0;34m\u001b[0m\u001b[0;34m\u001b[0m\u001b[0m\n\u001b[1;32m    911\u001b[0m       \u001b[0;31m# defunned version which is guaranteed to never create variables.\u001b[0m\u001b[0;34m\u001b[0m\u001b[0;34m\u001b[0m\u001b[0;34m\u001b[0m\u001b[0m\n\u001b[0;32m--> 912\u001b[0;31m       \u001b[0;32mreturn\u001b[0m \u001b[0mself\u001b[0m\u001b[0;34m.\u001b[0m\u001b[0m_no_variable_creation_fn\u001b[0m\u001b[0;34m(\u001b[0m\u001b[0;34m*\u001b[0m\u001b[0margs\u001b[0m\u001b[0;34m,\u001b[0m \u001b[0;34m**\u001b[0m\u001b[0mkwds\u001b[0m\u001b[0;34m)\u001b[0m  \u001b[0;31m# pylint: disable=not-callable\u001b[0m\u001b[0;34m\u001b[0m\u001b[0;34m\u001b[0m\u001b[0m\n\u001b[0m\u001b[1;32m    913\u001b[0m     \u001b[0;32melif\u001b[0m \u001b[0mself\u001b[0m\u001b[0;34m.\u001b[0m\u001b[0m_variable_creation_fn\u001b[0m \u001b[0;32mis\u001b[0m \u001b[0;32mnot\u001b[0m \u001b[0;32mNone\u001b[0m\u001b[0;34m:\u001b[0m\u001b[0;34m\u001b[0m\u001b[0;34m\u001b[0m\u001b[0m\n\u001b[1;32m    914\u001b[0m       \u001b[0;31m# Release the lock early so that multiple threads can perform the call\u001b[0m\u001b[0;34m\u001b[0m\u001b[0;34m\u001b[0m\u001b[0;34m\u001b[0m\u001b[0m\n",
            "\u001b[0;32m/usr/local/lib/python3.8/dist-packages/tensorflow/python/eager/polymorphic_function/tracing_compiler.py\u001b[0m in \u001b[0;36m__call__\u001b[0;34m(self, *args, **kwargs)\u001b[0m\n\u001b[1;32m    132\u001b[0m       (concrete_function,\n\u001b[1;32m    133\u001b[0m        filtered_flat_args) = self._maybe_define_function(args, kwargs)\n\u001b[0;32m--> 134\u001b[0;31m     return concrete_function._call_flat(\n\u001b[0m\u001b[1;32m    135\u001b[0m         filtered_flat_args, captured_inputs=concrete_function.captured_inputs)  # pylint: disable=protected-access\n\u001b[1;32m    136\u001b[0m \u001b[0;34m\u001b[0m\u001b[0m\n",
            "\u001b[0;32m/usr/local/lib/python3.8/dist-packages/tensorflow/python/eager/polymorphic_function/monomorphic_function.py\u001b[0m in \u001b[0;36m_call_flat\u001b[0;34m(self, args, captured_inputs, cancellation_manager)\u001b[0m\n\u001b[1;32m   1743\u001b[0m         and executing_eagerly):\n\u001b[1;32m   1744\u001b[0m       \u001b[0;31m# No tape is watching; skip to running the function.\u001b[0m\u001b[0;34m\u001b[0m\u001b[0;34m\u001b[0m\u001b[0;34m\u001b[0m\u001b[0m\n\u001b[0;32m-> 1745\u001b[0;31m       return self._build_call_outputs(self._inference_function.call(\n\u001b[0m\u001b[1;32m   1746\u001b[0m           ctx, args, cancellation_manager=cancellation_manager))\n\u001b[1;32m   1747\u001b[0m     forward_backward = self._select_forward_and_backward_functions(\n",
            "\u001b[0;32m/usr/local/lib/python3.8/dist-packages/tensorflow/python/eager/polymorphic_function/monomorphic_function.py\u001b[0m in \u001b[0;36mcall\u001b[0;34m(self, ctx, args, cancellation_manager)\u001b[0m\n\u001b[1;32m    376\u001b[0m       \u001b[0;32mwith\u001b[0m \u001b[0m_InterpolateFunctionError\u001b[0m\u001b[0;34m(\u001b[0m\u001b[0mself\u001b[0m\u001b[0;34m)\u001b[0m\u001b[0;34m:\u001b[0m\u001b[0;34m\u001b[0m\u001b[0;34m\u001b[0m\u001b[0m\n\u001b[1;32m    377\u001b[0m         \u001b[0;32mif\u001b[0m \u001b[0mcancellation_manager\u001b[0m \u001b[0;32mis\u001b[0m \u001b[0;32mNone\u001b[0m\u001b[0;34m:\u001b[0m\u001b[0;34m\u001b[0m\u001b[0;34m\u001b[0m\u001b[0m\n\u001b[0;32m--> 378\u001b[0;31m           outputs = execute.execute(\n\u001b[0m\u001b[1;32m    379\u001b[0m               \u001b[0mstr\u001b[0m\u001b[0;34m(\u001b[0m\u001b[0mself\u001b[0m\u001b[0;34m.\u001b[0m\u001b[0msignature\u001b[0m\u001b[0;34m.\u001b[0m\u001b[0mname\u001b[0m\u001b[0;34m)\u001b[0m\u001b[0;34m,\u001b[0m\u001b[0;34m\u001b[0m\u001b[0;34m\u001b[0m\u001b[0m\n\u001b[1;32m    380\u001b[0m               \u001b[0mnum_outputs\u001b[0m\u001b[0;34m=\u001b[0m\u001b[0mself\u001b[0m\u001b[0;34m.\u001b[0m\u001b[0m_num_outputs\u001b[0m\u001b[0;34m,\u001b[0m\u001b[0;34m\u001b[0m\u001b[0;34m\u001b[0m\u001b[0m\n",
            "\u001b[0;32m/usr/local/lib/python3.8/dist-packages/tensorflow/python/eager/execute.py\u001b[0m in \u001b[0;36mquick_execute\u001b[0;34m(op_name, num_outputs, inputs, attrs, ctx, name)\u001b[0m\n\u001b[1;32m     50\u001b[0m   \u001b[0;32mtry\u001b[0m\u001b[0;34m:\u001b[0m\u001b[0;34m\u001b[0m\u001b[0;34m\u001b[0m\u001b[0m\n\u001b[1;32m     51\u001b[0m     \u001b[0mctx\u001b[0m\u001b[0;34m.\u001b[0m\u001b[0mensure_initialized\u001b[0m\u001b[0;34m(\u001b[0m\u001b[0;34m)\u001b[0m\u001b[0;34m\u001b[0m\u001b[0;34m\u001b[0m\u001b[0m\n\u001b[0;32m---> 52\u001b[0;31m     tensors = pywrap_tfe.TFE_Py_Execute(ctx._handle, device_name, op_name,\n\u001b[0m\u001b[1;32m     53\u001b[0m                                         inputs, attrs, num_outputs)\n\u001b[1;32m     54\u001b[0m   \u001b[0;32mexcept\u001b[0m \u001b[0mcore\u001b[0m\u001b[0;34m.\u001b[0m\u001b[0m_NotOkStatusException\u001b[0m \u001b[0;32mas\u001b[0m \u001b[0me\u001b[0m\u001b[0;34m:\u001b[0m\u001b[0;34m\u001b[0m\u001b[0;34m\u001b[0m\u001b[0m\n",
            "\u001b[0;31mKeyboardInterrupt\u001b[0m: "
          ]
        }
      ]
    },
    {
      "cell_type": "code",
      "source": [
        "# Plot the values\n",
        "training_loss = history.history['loss']\n",
        "test_loss = history.history['val_loss']\n",
        "\n",
        "# Create count of the number of epochs\n",
        "epoch_count = range(1, len(training_loss) + 1)\n",
        "\n",
        "# Visualize loss history\n",
        "plt.figure(figsize = (8,4))\n",
        "plt.plot(epoch_count, training_loss, 'r--')\n",
        "plt.plot(epoch_count, test_loss, 'b-')\n",
        "plt.legend(['Training Loss', 'Test Loss'])\n",
        "plt.xlabel('Epoch')\n",
        "plt.ylabel('Loss')\n",
        "plt.show()"
      ],
      "metadata": {
        "execution": {
          "iopub.status.busy": "2022-12-10T06:48:15.164927Z",
          "iopub.execute_input": "2022-12-10T06:48:15.165319Z",
          "iopub.status.idle": "2022-12-10T06:48:15.783816Z",
          "shell.execute_reply.started": "2022-12-10T06:48:15.165283Z",
          "shell.execute_reply": "2022-12-10T06:48:15.782596Z"
        },
        "trusted": true,
        "id": "7jkWkcatrjSm"
      },
      "execution_count": null,
      "outputs": []
    },
    {
      "cell_type": "code",
      "source": [],
      "metadata": {
        "id": "wgWrZaAPrjSn"
      },
      "execution_count": null,
      "outputs": []
    }
  ]
}