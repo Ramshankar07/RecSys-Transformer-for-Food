{
  "cells": [
    {
      "cell_type": "code",
      "execution_count": 1,
      "metadata": {
        "colab": {
          "base_uri": "https://localhost:8080/"
        },
        "id": "L2Eco9-K5hTj",
        "outputId": "1d819f12-ab0c-490f-9f1f-d331344f8af2"
      },
      "outputs": [
        {
          "output_type": "stream",
          "name": "stdout",
          "text": [
            "Drive already mounted at /content/drive; to attempt to forcibly remount, call drive.mount(\"/content/drive\", force_remount=True).\n"
          ]
        }
      ],
      "source": [
        "from google.colab import drive\n",
        "drive.mount('/content/drive')"
      ]
    },
    {
      "cell_type": "code",
      "source": [
        "# !pip install tensorflow_ranking"
      ],
      "metadata": {
        "id": "DRG1SUWZNtrG"
      },
      "execution_count": 2,
      "outputs": []
    },
    {
      "cell_type": "code",
      "execution_count": 3,
      "metadata": {
        "id": "YIMNIPaV5LKz"
      },
      "outputs": [],
      "source": [
        "from keras.layers import Embedding, Input, dot, concatenate\n",
        "from keras.models import Model\n",
        "from IPython.display import SVG\n",
        "from keras.utils.vis_utils import model_to_dot\n",
        "from sklearn.model_selection import train_test_split\n",
        "from keras.layers import Dense, Dropout, Flatten\n",
        "from keras.optimizers import adam_v2\n",
        "import matplotlib.pyplot as plt\n",
        "from keras.layers import Conv2D, MaxPooling2D, BatchNormalization\n",
        "import numpy as np # linear algebra\n",
        "import pandas as pd\n",
        "from tensorflow import keras\n",
        "# import tensorflow_ranking as tfr"
      ]
    },
    {
      "cell_type": "markdown",
      "metadata": {
        "id": "gWonOX5dlYck"
      },
      "source": [
        "Loading the dataset"
      ]
    },
    {
      "cell_type": "code",
      "execution_count": 4,
      "metadata": {
        "colab": {
          "base_uri": "https://localhost:8080/",
          "height": 635
        },
        "id": "iFiR6gAl5LKz",
        "outputId": "f69650ce-2c85-4088-ee99-c2ac4f685280"
      },
      "outputs": [
        {
          "output_type": "execute_result",
          "data": {
            "text/plain": [
              "                                         name      id  minutes  \\\n",
              "0  arriba   baked winter squash mexican style  137739       55   \n",
              "1            a bit different  breakfast pizza   31490       30   \n",
              "2                   all in the kitchen  chili  112140      130   \n",
              "3                          alouette  potatoes   59389       45   \n",
              "4          amish  tomato ketchup  for canning   44061      190   \n",
              "\n",
              "   contributor_id   submitted  \\\n",
              "0           47892  2005-09-16   \n",
              "1           26278  2002-06-17   \n",
              "2          196586  2005-02-25   \n",
              "3           68585  2003-04-14   \n",
              "4           41706  2002-10-25   \n",
              "\n",
              "                                                tags  \\\n",
              "0  ['60-minutes-or-less', 'time-to-make', 'course...   \n",
              "1  ['30-minutes-or-less', 'time-to-make', 'course...   \n",
              "2  ['time-to-make', 'course', 'preparation', 'mai...   \n",
              "3  ['60-minutes-or-less', 'time-to-make', 'course...   \n",
              "4  ['weeknight', 'time-to-make', 'course', 'main-...   \n",
              "\n",
              "                                    nutrition  n_steps  \\\n",
              "0       [51.5, 0.0, 13.0, 0.0, 2.0, 0.0, 4.0]       11   \n",
              "1   [173.4, 18.0, 0.0, 17.0, 22.0, 35.0, 1.0]        9   \n",
              "2  [269.8, 22.0, 32.0, 48.0, 39.0, 27.0, 5.0]        6   \n",
              "3   [368.1, 17.0, 10.0, 2.0, 14.0, 8.0, 20.0]       11   \n",
              "4   [352.9, 1.0, 337.0, 23.0, 3.0, 0.0, 28.0]        5   \n",
              "\n",
              "                                               steps  \\\n",
              "0  ['make a choice and proceed with recipe', 'dep...   \n",
              "1  ['preheat oven to 425 degrees f', 'press dough...   \n",
              "2  ['brown ground beef in large pot', 'add choppe...   \n",
              "3  ['place potatoes in a large pot of lightly sal...   \n",
              "4  ['mix all ingredients& boil for 2 1 / 2 hours ...   \n",
              "\n",
              "                                         description  \\\n",
              "0  autumn is my favorite time of year to cook! th...   \n",
              "1  this recipe calls for the crust to be prebaked...   \n",
              "2  this modified version of 'mom's' chili was a h...   \n",
              "3  this is a super easy, great tasting, make ahea...   \n",
              "4  my dh's amish mother raised him on this recipe...   \n",
              "\n",
              "                                         ingredients  n_ingredients  \n",
              "0  ['winter squash', 'mexican seasoning', 'mixed ...              7  \n",
              "1  ['prepared pizza crust', 'sausage patty', 'egg...              6  \n",
              "2  ['ground beef', 'yellow onions', 'diced tomato...             13  \n",
              "3  ['spreadable cheese with garlic and herbs', 'n...             11  \n",
              "4  ['tomato juice', 'apple cider vinegar', 'sugar...              8  "
            ],
            "text/html": [
              "\n",
              "  <div id=\"df-b2bbd535-8db2-451f-8aaa-a412abc73125\">\n",
              "    <div class=\"colab-df-container\">\n",
              "      <div>\n",
              "<style scoped>\n",
              "    .dataframe tbody tr th:only-of-type {\n",
              "        vertical-align: middle;\n",
              "    }\n",
              "\n",
              "    .dataframe tbody tr th {\n",
              "        vertical-align: top;\n",
              "    }\n",
              "\n",
              "    .dataframe thead th {\n",
              "        text-align: right;\n",
              "    }\n",
              "</style>\n",
              "<table border=\"1\" class=\"dataframe\">\n",
              "  <thead>\n",
              "    <tr style=\"text-align: right;\">\n",
              "      <th></th>\n",
              "      <th>name</th>\n",
              "      <th>id</th>\n",
              "      <th>minutes</th>\n",
              "      <th>contributor_id</th>\n",
              "      <th>submitted</th>\n",
              "      <th>tags</th>\n",
              "      <th>nutrition</th>\n",
              "      <th>n_steps</th>\n",
              "      <th>steps</th>\n",
              "      <th>description</th>\n",
              "      <th>ingredients</th>\n",
              "      <th>n_ingredients</th>\n",
              "    </tr>\n",
              "  </thead>\n",
              "  <tbody>\n",
              "    <tr>\n",
              "      <th>0</th>\n",
              "      <td>arriba   baked winter squash mexican style</td>\n",
              "      <td>137739</td>\n",
              "      <td>55</td>\n",
              "      <td>47892</td>\n",
              "      <td>2005-09-16</td>\n",
              "      <td>['60-minutes-or-less', 'time-to-make', 'course...</td>\n",
              "      <td>[51.5, 0.0, 13.0, 0.0, 2.0, 0.0, 4.0]</td>\n",
              "      <td>11</td>\n",
              "      <td>['make a choice and proceed with recipe', 'dep...</td>\n",
              "      <td>autumn is my favorite time of year to cook! th...</td>\n",
              "      <td>['winter squash', 'mexican seasoning', 'mixed ...</td>\n",
              "      <td>7</td>\n",
              "    </tr>\n",
              "    <tr>\n",
              "      <th>1</th>\n",
              "      <td>a bit different  breakfast pizza</td>\n",
              "      <td>31490</td>\n",
              "      <td>30</td>\n",
              "      <td>26278</td>\n",
              "      <td>2002-06-17</td>\n",
              "      <td>['30-minutes-or-less', 'time-to-make', 'course...</td>\n",
              "      <td>[173.4, 18.0, 0.0, 17.0, 22.0, 35.0, 1.0]</td>\n",
              "      <td>9</td>\n",
              "      <td>['preheat oven to 425 degrees f', 'press dough...</td>\n",
              "      <td>this recipe calls for the crust to be prebaked...</td>\n",
              "      <td>['prepared pizza crust', 'sausage patty', 'egg...</td>\n",
              "      <td>6</td>\n",
              "    </tr>\n",
              "    <tr>\n",
              "      <th>2</th>\n",
              "      <td>all in the kitchen  chili</td>\n",
              "      <td>112140</td>\n",
              "      <td>130</td>\n",
              "      <td>196586</td>\n",
              "      <td>2005-02-25</td>\n",
              "      <td>['time-to-make', 'course', 'preparation', 'mai...</td>\n",
              "      <td>[269.8, 22.0, 32.0, 48.0, 39.0, 27.0, 5.0]</td>\n",
              "      <td>6</td>\n",
              "      <td>['brown ground beef in large pot', 'add choppe...</td>\n",
              "      <td>this modified version of 'mom's' chili was a h...</td>\n",
              "      <td>['ground beef', 'yellow onions', 'diced tomato...</td>\n",
              "      <td>13</td>\n",
              "    </tr>\n",
              "    <tr>\n",
              "      <th>3</th>\n",
              "      <td>alouette  potatoes</td>\n",
              "      <td>59389</td>\n",
              "      <td>45</td>\n",
              "      <td>68585</td>\n",
              "      <td>2003-04-14</td>\n",
              "      <td>['60-minutes-or-less', 'time-to-make', 'course...</td>\n",
              "      <td>[368.1, 17.0, 10.0, 2.0, 14.0, 8.0, 20.0]</td>\n",
              "      <td>11</td>\n",
              "      <td>['place potatoes in a large pot of lightly sal...</td>\n",
              "      <td>this is a super easy, great tasting, make ahea...</td>\n",
              "      <td>['spreadable cheese with garlic and herbs', 'n...</td>\n",
              "      <td>11</td>\n",
              "    </tr>\n",
              "    <tr>\n",
              "      <th>4</th>\n",
              "      <td>amish  tomato ketchup  for canning</td>\n",
              "      <td>44061</td>\n",
              "      <td>190</td>\n",
              "      <td>41706</td>\n",
              "      <td>2002-10-25</td>\n",
              "      <td>['weeknight', 'time-to-make', 'course', 'main-...</td>\n",
              "      <td>[352.9, 1.0, 337.0, 23.0, 3.0, 0.0, 28.0]</td>\n",
              "      <td>5</td>\n",
              "      <td>['mix all ingredients&amp; boil for 2 1 / 2 hours ...</td>\n",
              "      <td>my dh's amish mother raised him on this recipe...</td>\n",
              "      <td>['tomato juice', 'apple cider vinegar', 'sugar...</td>\n",
              "      <td>8</td>\n",
              "    </tr>\n",
              "  </tbody>\n",
              "</table>\n",
              "</div>\n",
              "      <button class=\"colab-df-convert\" onclick=\"convertToInteractive('df-b2bbd535-8db2-451f-8aaa-a412abc73125')\"\n",
              "              title=\"Convert this dataframe to an interactive table.\"\n",
              "              style=\"display:none;\">\n",
              "        \n",
              "  <svg xmlns=\"http://www.w3.org/2000/svg\" height=\"24px\"viewBox=\"0 0 24 24\"\n",
              "       width=\"24px\">\n",
              "    <path d=\"M0 0h24v24H0V0z\" fill=\"none\"/>\n",
              "    <path d=\"M18.56 5.44l.94 2.06.94-2.06 2.06-.94-2.06-.94-.94-2.06-.94 2.06-2.06.94zm-11 1L8.5 8.5l.94-2.06 2.06-.94-2.06-.94L8.5 2.5l-.94 2.06-2.06.94zm10 10l.94 2.06.94-2.06 2.06-.94-2.06-.94-.94-2.06-.94 2.06-2.06.94z\"/><path d=\"M17.41 7.96l-1.37-1.37c-.4-.4-.92-.59-1.43-.59-.52 0-1.04.2-1.43.59L10.3 9.45l-7.72 7.72c-.78.78-.78 2.05 0 2.83L4 21.41c.39.39.9.59 1.41.59.51 0 1.02-.2 1.41-.59l7.78-7.78 2.81-2.81c.8-.78.8-2.07 0-2.86zM5.41 20L4 18.59l7.72-7.72 1.47 1.35L5.41 20z\"/>\n",
              "  </svg>\n",
              "      </button>\n",
              "      \n",
              "  <style>\n",
              "    .colab-df-container {\n",
              "      display:flex;\n",
              "      flex-wrap:wrap;\n",
              "      gap: 12px;\n",
              "    }\n",
              "\n",
              "    .colab-df-convert {\n",
              "      background-color: #E8F0FE;\n",
              "      border: none;\n",
              "      border-radius: 50%;\n",
              "      cursor: pointer;\n",
              "      display: none;\n",
              "      fill: #1967D2;\n",
              "      height: 32px;\n",
              "      padding: 0 0 0 0;\n",
              "      width: 32px;\n",
              "    }\n",
              "\n",
              "    .colab-df-convert:hover {\n",
              "      background-color: #E2EBFA;\n",
              "      box-shadow: 0px 1px 2px rgba(60, 64, 67, 0.3), 0px 1px 3px 1px rgba(60, 64, 67, 0.15);\n",
              "      fill: #174EA6;\n",
              "    }\n",
              "\n",
              "    [theme=dark] .colab-df-convert {\n",
              "      background-color: #3B4455;\n",
              "      fill: #D2E3FC;\n",
              "    }\n",
              "\n",
              "    [theme=dark] .colab-df-convert:hover {\n",
              "      background-color: #434B5C;\n",
              "      box-shadow: 0px 1px 3px 1px rgba(0, 0, 0, 0.15);\n",
              "      filter: drop-shadow(0px 1px 2px rgba(0, 0, 0, 0.3));\n",
              "      fill: #FFFFFF;\n",
              "    }\n",
              "  </style>\n",
              "\n",
              "      <script>\n",
              "        const buttonEl =\n",
              "          document.querySelector('#df-b2bbd535-8db2-451f-8aaa-a412abc73125 button.colab-df-convert');\n",
              "        buttonEl.style.display =\n",
              "          google.colab.kernel.accessAllowed ? 'block' : 'none';\n",
              "\n",
              "        async function convertToInteractive(key) {\n",
              "          const element = document.querySelector('#df-b2bbd535-8db2-451f-8aaa-a412abc73125');\n",
              "          const dataTable =\n",
              "            await google.colab.kernel.invokeFunction('convertToInteractive',\n",
              "                                                     [key], {});\n",
              "          if (!dataTable) return;\n",
              "\n",
              "          const docLinkHtml = 'Like what you see? Visit the ' +\n",
              "            '<a target=\"_blank\" href=https://colab.research.google.com/notebooks/data_table.ipynb>data table notebook</a>'\n",
              "            + ' to learn more about interactive tables.';\n",
              "          element.innerHTML = '';\n",
              "          dataTable['output_type'] = 'display_data';\n",
              "          await google.colab.output.renderOutput(dataTable, element);\n",
              "          const docLink = document.createElement('div');\n",
              "          docLink.innerHTML = docLinkHtml;\n",
              "          element.appendChild(docLink);\n",
              "        }\n",
              "      </script>\n",
              "    </div>\n",
              "  </div>\n",
              "  "
            ]
          },
          "metadata": {},
          "execution_count": 4
        }
      ],
      "source": [
        "df_rec = pd.read_csv(\"drive/MyDrive/RAW_recipes.csv\")\n",
        "df_rec.head()"
      ]
    },
    {
      "cell_type": "code",
      "execution_count": 5,
      "metadata": {
        "colab": {
          "base_uri": "https://localhost:8080/",
          "height": 206
        },
        "id": "uZL_51Ke6WI8",
        "outputId": "e46b4f4a-f7fe-435e-81bb-048a2ae06d6a"
      },
      "outputs": [
        {
          "output_type": "execute_result",
          "data": {
            "text/plain": [
              "   user_id  recipe_id        date  rating  \\\n",
              "0    38094      40893  2003-02-17       4   \n",
              "1  1293707      40893  2011-12-21       5   \n",
              "2     8937      44394  2002-12-01       4   \n",
              "3   126440      85009  2010-02-27       5   \n",
              "4    57222      85009  2011-10-01       5   \n",
              "\n",
              "                                              review  \n",
              "0  Great with a salad. Cooked on top of stove for...  \n",
              "1  So simple, so delicious! Great for chilly fall...  \n",
              "2  This worked very well and is EASY.  I used not...  \n",
              "3  I made the Mexican topping and took it to bunk...  \n",
              "4  Made the cheddar bacon topping, adding a sprin...  "
            ],
            "text/html": [
              "\n",
              "  <div id=\"df-ea66f5e7-88e0-499e-aca6-854933db5084\">\n",
              "    <div class=\"colab-df-container\">\n",
              "      <div>\n",
              "<style scoped>\n",
              "    .dataframe tbody tr th:only-of-type {\n",
              "        vertical-align: middle;\n",
              "    }\n",
              "\n",
              "    .dataframe tbody tr th {\n",
              "        vertical-align: top;\n",
              "    }\n",
              "\n",
              "    .dataframe thead th {\n",
              "        text-align: right;\n",
              "    }\n",
              "</style>\n",
              "<table border=\"1\" class=\"dataframe\">\n",
              "  <thead>\n",
              "    <tr style=\"text-align: right;\">\n",
              "      <th></th>\n",
              "      <th>user_id</th>\n",
              "      <th>recipe_id</th>\n",
              "      <th>date</th>\n",
              "      <th>rating</th>\n",
              "      <th>review</th>\n",
              "    </tr>\n",
              "  </thead>\n",
              "  <tbody>\n",
              "    <tr>\n",
              "      <th>0</th>\n",
              "      <td>38094</td>\n",
              "      <td>40893</td>\n",
              "      <td>2003-02-17</td>\n",
              "      <td>4</td>\n",
              "      <td>Great with a salad. Cooked on top of stove for...</td>\n",
              "    </tr>\n",
              "    <tr>\n",
              "      <th>1</th>\n",
              "      <td>1293707</td>\n",
              "      <td>40893</td>\n",
              "      <td>2011-12-21</td>\n",
              "      <td>5</td>\n",
              "      <td>So simple, so delicious! Great for chilly fall...</td>\n",
              "    </tr>\n",
              "    <tr>\n",
              "      <th>2</th>\n",
              "      <td>8937</td>\n",
              "      <td>44394</td>\n",
              "      <td>2002-12-01</td>\n",
              "      <td>4</td>\n",
              "      <td>This worked very well and is EASY.  I used not...</td>\n",
              "    </tr>\n",
              "    <tr>\n",
              "      <th>3</th>\n",
              "      <td>126440</td>\n",
              "      <td>85009</td>\n",
              "      <td>2010-02-27</td>\n",
              "      <td>5</td>\n",
              "      <td>I made the Mexican topping and took it to bunk...</td>\n",
              "    </tr>\n",
              "    <tr>\n",
              "      <th>4</th>\n",
              "      <td>57222</td>\n",
              "      <td>85009</td>\n",
              "      <td>2011-10-01</td>\n",
              "      <td>5</td>\n",
              "      <td>Made the cheddar bacon topping, adding a sprin...</td>\n",
              "    </tr>\n",
              "  </tbody>\n",
              "</table>\n",
              "</div>\n",
              "      <button class=\"colab-df-convert\" onclick=\"convertToInteractive('df-ea66f5e7-88e0-499e-aca6-854933db5084')\"\n",
              "              title=\"Convert this dataframe to an interactive table.\"\n",
              "              style=\"display:none;\">\n",
              "        \n",
              "  <svg xmlns=\"http://www.w3.org/2000/svg\" height=\"24px\"viewBox=\"0 0 24 24\"\n",
              "       width=\"24px\">\n",
              "    <path d=\"M0 0h24v24H0V0z\" fill=\"none\"/>\n",
              "    <path d=\"M18.56 5.44l.94 2.06.94-2.06 2.06-.94-2.06-.94-.94-2.06-.94 2.06-2.06.94zm-11 1L8.5 8.5l.94-2.06 2.06-.94-2.06-.94L8.5 2.5l-.94 2.06-2.06.94zm10 10l.94 2.06.94-2.06 2.06-.94-2.06-.94-.94-2.06-.94 2.06-2.06.94z\"/><path d=\"M17.41 7.96l-1.37-1.37c-.4-.4-.92-.59-1.43-.59-.52 0-1.04.2-1.43.59L10.3 9.45l-7.72 7.72c-.78.78-.78 2.05 0 2.83L4 21.41c.39.39.9.59 1.41.59.51 0 1.02-.2 1.41-.59l7.78-7.78 2.81-2.81c.8-.78.8-2.07 0-2.86zM5.41 20L4 18.59l7.72-7.72 1.47 1.35L5.41 20z\"/>\n",
              "  </svg>\n",
              "      </button>\n",
              "      \n",
              "  <style>\n",
              "    .colab-df-container {\n",
              "      display:flex;\n",
              "      flex-wrap:wrap;\n",
              "      gap: 12px;\n",
              "    }\n",
              "\n",
              "    .colab-df-convert {\n",
              "      background-color: #E8F0FE;\n",
              "      border: none;\n",
              "      border-radius: 50%;\n",
              "      cursor: pointer;\n",
              "      display: none;\n",
              "      fill: #1967D2;\n",
              "      height: 32px;\n",
              "      padding: 0 0 0 0;\n",
              "      width: 32px;\n",
              "    }\n",
              "\n",
              "    .colab-df-convert:hover {\n",
              "      background-color: #E2EBFA;\n",
              "      box-shadow: 0px 1px 2px rgba(60, 64, 67, 0.3), 0px 1px 3px 1px rgba(60, 64, 67, 0.15);\n",
              "      fill: #174EA6;\n",
              "    }\n",
              "\n",
              "    [theme=dark] .colab-df-convert {\n",
              "      background-color: #3B4455;\n",
              "      fill: #D2E3FC;\n",
              "    }\n",
              "\n",
              "    [theme=dark] .colab-df-convert:hover {\n",
              "      background-color: #434B5C;\n",
              "      box-shadow: 0px 1px 3px 1px rgba(0, 0, 0, 0.15);\n",
              "      filter: drop-shadow(0px 1px 2px rgba(0, 0, 0, 0.3));\n",
              "      fill: #FFFFFF;\n",
              "    }\n",
              "  </style>\n",
              "\n",
              "      <script>\n",
              "        const buttonEl =\n",
              "          document.querySelector('#df-ea66f5e7-88e0-499e-aca6-854933db5084 button.colab-df-convert');\n",
              "        buttonEl.style.display =\n",
              "          google.colab.kernel.accessAllowed ? 'block' : 'none';\n",
              "\n",
              "        async function convertToInteractive(key) {\n",
              "          const element = document.querySelector('#df-ea66f5e7-88e0-499e-aca6-854933db5084');\n",
              "          const dataTable =\n",
              "            await google.colab.kernel.invokeFunction('convertToInteractive',\n",
              "                                                     [key], {});\n",
              "          if (!dataTable) return;\n",
              "\n",
              "          const docLinkHtml = 'Like what you see? Visit the ' +\n",
              "            '<a target=\"_blank\" href=https://colab.research.google.com/notebooks/data_table.ipynb>data table notebook</a>'\n",
              "            + ' to learn more about interactive tables.';\n",
              "          element.innerHTML = '';\n",
              "          dataTable['output_type'] = 'display_data';\n",
              "          await google.colab.output.renderOutput(dataTable, element);\n",
              "          const docLink = document.createElement('div');\n",
              "          docLink.innerHTML = docLinkHtml;\n",
              "          element.appendChild(docLink);\n",
              "        }\n",
              "      </script>\n",
              "    </div>\n",
              "  </div>\n",
              "  "
            ]
          },
          "metadata": {},
          "execution_count": 5
        }
      ],
      "source": [
        "df = pd.read_csv(\"drive/MyDrive/RAW_interactions.csv\")\n",
        "df.head()"
      ]
    },
    {
      "cell_type": "markdown",
      "metadata": {
        "id": "0DdUDwAQl25-"
      },
      "source": [
        "Preparing for Matrix Factorization"
      ]
    },
    {
      "cell_type": "code",
      "execution_count": 6,
      "metadata": {
        "id": "PibHYjCk5LK0"
      },
      "outputs": [],
      "source": [
        "user_id_dict = {}\n",
        "k=0\n",
        "for i in df['user_id']:\n",
        "  if i not in user_id_dict:\n",
        "    user_id_dict[i] = k\n",
        "    k+=1\n",
        "\n",
        "recipe_id_dict = {}\n",
        "k=0\n",
        "for i in df['recipe_id']:\n",
        "  if i not in recipe_id_dict:\n",
        "    recipe_id_dict[i] = k\n",
        "    k+=1"
      ]
    },
    {
      "cell_type": "code",
      "execution_count": 7,
      "metadata": {
        "colab": {
          "base_uri": "https://localhost:8080/",
          "height": 424
        },
        "id": "yi33NKij5LK0",
        "outputId": "9104f263-f451-4e36-bd13-fda4064967b6"
      },
      "outputs": [
        {
          "output_type": "execute_result",
          "data": {
            "text/plain": [
              "            user_id  recipe_id        date  rating  \\\n",
              "0             38094      40893  2003-02-17       4   \n",
              "1           1293707      40893  2011-12-21       5   \n",
              "2              8937      44394  2002-12-01       4   \n",
              "3            126440      85009  2010-02-27       5   \n",
              "4             57222      85009  2011-10-01       5   \n",
              "...             ...        ...         ...     ...   \n",
              "1132362      116593      72730  2003-12-09       0   \n",
              "1132363      583662     386618  2009-09-29       5   \n",
              "1132364      157126      78003  2008-06-23       5   \n",
              "1132365       53932      78003  2009-01-11       4   \n",
              "1132366  2001868099      78003  2017-12-18       5   \n",
              "\n",
              "                                                    review  user_id_ordered  \n",
              "0        Great with a salad. Cooked on top of stove for...                0  \n",
              "1        So simple, so delicious! Great for chilly fall...                1  \n",
              "2        This worked very well and is EASY.  I used not...                2  \n",
              "3        I made the Mexican topping and took it to bunk...                3  \n",
              "4        Made the cheddar bacon topping, adding a sprin...                4  \n",
              "...                                                    ...              ...  \n",
              "1132362  Another approach is to start making sauce with...           226568  \n",
              "1132363  These were so delicious!  My husband and I tru...           178207  \n",
              "1132364  WOW!  Sometimes I don't take the time to rate ...            30308  \n",
              "1132365  Very good!  I used regular port as well.  The ...              123  \n",
              "1132366  I am so glad I googled and found this here. Th...           226569  \n",
              "\n",
              "[1132367 rows x 6 columns]"
            ],
            "text/html": [
              "\n",
              "  <div id=\"df-f9b003d3-03f0-448d-8855-35f8a7abcc44\">\n",
              "    <div class=\"colab-df-container\">\n",
              "      <div>\n",
              "<style scoped>\n",
              "    .dataframe tbody tr th:only-of-type {\n",
              "        vertical-align: middle;\n",
              "    }\n",
              "\n",
              "    .dataframe tbody tr th {\n",
              "        vertical-align: top;\n",
              "    }\n",
              "\n",
              "    .dataframe thead th {\n",
              "        text-align: right;\n",
              "    }\n",
              "</style>\n",
              "<table border=\"1\" class=\"dataframe\">\n",
              "  <thead>\n",
              "    <tr style=\"text-align: right;\">\n",
              "      <th></th>\n",
              "      <th>user_id</th>\n",
              "      <th>recipe_id</th>\n",
              "      <th>date</th>\n",
              "      <th>rating</th>\n",
              "      <th>review</th>\n",
              "      <th>user_id_ordered</th>\n",
              "    </tr>\n",
              "  </thead>\n",
              "  <tbody>\n",
              "    <tr>\n",
              "      <th>0</th>\n",
              "      <td>38094</td>\n",
              "      <td>40893</td>\n",
              "      <td>2003-02-17</td>\n",
              "      <td>4</td>\n",
              "      <td>Great with a salad. Cooked on top of stove for...</td>\n",
              "      <td>0</td>\n",
              "    </tr>\n",
              "    <tr>\n",
              "      <th>1</th>\n",
              "      <td>1293707</td>\n",
              "      <td>40893</td>\n",
              "      <td>2011-12-21</td>\n",
              "      <td>5</td>\n",
              "      <td>So simple, so delicious! Great for chilly fall...</td>\n",
              "      <td>1</td>\n",
              "    </tr>\n",
              "    <tr>\n",
              "      <th>2</th>\n",
              "      <td>8937</td>\n",
              "      <td>44394</td>\n",
              "      <td>2002-12-01</td>\n",
              "      <td>4</td>\n",
              "      <td>This worked very well and is EASY.  I used not...</td>\n",
              "      <td>2</td>\n",
              "    </tr>\n",
              "    <tr>\n",
              "      <th>3</th>\n",
              "      <td>126440</td>\n",
              "      <td>85009</td>\n",
              "      <td>2010-02-27</td>\n",
              "      <td>5</td>\n",
              "      <td>I made the Mexican topping and took it to bunk...</td>\n",
              "      <td>3</td>\n",
              "    </tr>\n",
              "    <tr>\n",
              "      <th>4</th>\n",
              "      <td>57222</td>\n",
              "      <td>85009</td>\n",
              "      <td>2011-10-01</td>\n",
              "      <td>5</td>\n",
              "      <td>Made the cheddar bacon topping, adding a sprin...</td>\n",
              "      <td>4</td>\n",
              "    </tr>\n",
              "    <tr>\n",
              "      <th>...</th>\n",
              "      <td>...</td>\n",
              "      <td>...</td>\n",
              "      <td>...</td>\n",
              "      <td>...</td>\n",
              "      <td>...</td>\n",
              "      <td>...</td>\n",
              "    </tr>\n",
              "    <tr>\n",
              "      <th>1132362</th>\n",
              "      <td>116593</td>\n",
              "      <td>72730</td>\n",
              "      <td>2003-12-09</td>\n",
              "      <td>0</td>\n",
              "      <td>Another approach is to start making sauce with...</td>\n",
              "      <td>226568</td>\n",
              "    </tr>\n",
              "    <tr>\n",
              "      <th>1132363</th>\n",
              "      <td>583662</td>\n",
              "      <td>386618</td>\n",
              "      <td>2009-09-29</td>\n",
              "      <td>5</td>\n",
              "      <td>These were so delicious!  My husband and I tru...</td>\n",
              "      <td>178207</td>\n",
              "    </tr>\n",
              "    <tr>\n",
              "      <th>1132364</th>\n",
              "      <td>157126</td>\n",
              "      <td>78003</td>\n",
              "      <td>2008-06-23</td>\n",
              "      <td>5</td>\n",
              "      <td>WOW!  Sometimes I don't take the time to rate ...</td>\n",
              "      <td>30308</td>\n",
              "    </tr>\n",
              "    <tr>\n",
              "      <th>1132365</th>\n",
              "      <td>53932</td>\n",
              "      <td>78003</td>\n",
              "      <td>2009-01-11</td>\n",
              "      <td>4</td>\n",
              "      <td>Very good!  I used regular port as well.  The ...</td>\n",
              "      <td>123</td>\n",
              "    </tr>\n",
              "    <tr>\n",
              "      <th>1132366</th>\n",
              "      <td>2001868099</td>\n",
              "      <td>78003</td>\n",
              "      <td>2017-12-18</td>\n",
              "      <td>5</td>\n",
              "      <td>I am so glad I googled and found this here. Th...</td>\n",
              "      <td>226569</td>\n",
              "    </tr>\n",
              "  </tbody>\n",
              "</table>\n",
              "<p>1132367 rows × 6 columns</p>\n",
              "</div>\n",
              "      <button class=\"colab-df-convert\" onclick=\"convertToInteractive('df-f9b003d3-03f0-448d-8855-35f8a7abcc44')\"\n",
              "              title=\"Convert this dataframe to an interactive table.\"\n",
              "              style=\"display:none;\">\n",
              "        \n",
              "  <svg xmlns=\"http://www.w3.org/2000/svg\" height=\"24px\"viewBox=\"0 0 24 24\"\n",
              "       width=\"24px\">\n",
              "    <path d=\"M0 0h24v24H0V0z\" fill=\"none\"/>\n",
              "    <path d=\"M18.56 5.44l.94 2.06.94-2.06 2.06-.94-2.06-.94-.94-2.06-.94 2.06-2.06.94zm-11 1L8.5 8.5l.94-2.06 2.06-.94-2.06-.94L8.5 2.5l-.94 2.06-2.06.94zm10 10l.94 2.06.94-2.06 2.06-.94-2.06-.94-.94-2.06-.94 2.06-2.06.94z\"/><path d=\"M17.41 7.96l-1.37-1.37c-.4-.4-.92-.59-1.43-.59-.52 0-1.04.2-1.43.59L10.3 9.45l-7.72 7.72c-.78.78-.78 2.05 0 2.83L4 21.41c.39.39.9.59 1.41.59.51 0 1.02-.2 1.41-.59l7.78-7.78 2.81-2.81c.8-.78.8-2.07 0-2.86zM5.41 20L4 18.59l7.72-7.72 1.47 1.35L5.41 20z\"/>\n",
              "  </svg>\n",
              "      </button>\n",
              "      \n",
              "  <style>\n",
              "    .colab-df-container {\n",
              "      display:flex;\n",
              "      flex-wrap:wrap;\n",
              "      gap: 12px;\n",
              "    }\n",
              "\n",
              "    .colab-df-convert {\n",
              "      background-color: #E8F0FE;\n",
              "      border: none;\n",
              "      border-radius: 50%;\n",
              "      cursor: pointer;\n",
              "      display: none;\n",
              "      fill: #1967D2;\n",
              "      height: 32px;\n",
              "      padding: 0 0 0 0;\n",
              "      width: 32px;\n",
              "    }\n",
              "\n",
              "    .colab-df-convert:hover {\n",
              "      background-color: #E2EBFA;\n",
              "      box-shadow: 0px 1px 2px rgba(60, 64, 67, 0.3), 0px 1px 3px 1px rgba(60, 64, 67, 0.15);\n",
              "      fill: #174EA6;\n",
              "    }\n",
              "\n",
              "    [theme=dark] .colab-df-convert {\n",
              "      background-color: #3B4455;\n",
              "      fill: #D2E3FC;\n",
              "    }\n",
              "\n",
              "    [theme=dark] .colab-df-convert:hover {\n",
              "      background-color: #434B5C;\n",
              "      box-shadow: 0px 1px 3px 1px rgba(0, 0, 0, 0.15);\n",
              "      filter: drop-shadow(0px 1px 2px rgba(0, 0, 0, 0.3));\n",
              "      fill: #FFFFFF;\n",
              "    }\n",
              "  </style>\n",
              "\n",
              "      <script>\n",
              "        const buttonEl =\n",
              "          document.querySelector('#df-f9b003d3-03f0-448d-8855-35f8a7abcc44 button.colab-df-convert');\n",
              "        buttonEl.style.display =\n",
              "          google.colab.kernel.accessAllowed ? 'block' : 'none';\n",
              "\n",
              "        async function convertToInteractive(key) {\n",
              "          const element = document.querySelector('#df-f9b003d3-03f0-448d-8855-35f8a7abcc44');\n",
              "          const dataTable =\n",
              "            await google.colab.kernel.invokeFunction('convertToInteractive',\n",
              "                                                     [key], {});\n",
              "          if (!dataTable) return;\n",
              "\n",
              "          const docLinkHtml = 'Like what you see? Visit the ' +\n",
              "            '<a target=\"_blank\" href=https://colab.research.google.com/notebooks/data_table.ipynb>data table notebook</a>'\n",
              "            + ' to learn more about interactive tables.';\n",
              "          element.innerHTML = '';\n",
              "          dataTable['output_type'] = 'display_data';\n",
              "          await google.colab.output.renderOutput(dataTable, element);\n",
              "          const docLink = document.createElement('div');\n",
              "          docLink.innerHTML = docLinkHtml;\n",
              "          element.appendChild(docLink);\n",
              "        }\n",
              "      </script>\n",
              "    </div>\n",
              "  </div>\n",
              "  "
            ]
          },
          "metadata": {},
          "execution_count": 7
        }
      ],
      "source": [
        "df['user_id_ordered']= df['user_id'].map(user_id_dict)\n",
        "df"
      ]
    },
    {
      "cell_type": "code",
      "execution_count": 8,
      "metadata": {
        "colab": {
          "base_uri": "https://localhost:8080/",
          "height": 607
        },
        "id": "ukW1YOxO5LK1",
        "outputId": "c6973077-9ad7-4ea1-955b-fdb34210e645"
      },
      "outputs": [
        {
          "output_type": "execute_result",
          "data": {
            "text/plain": [
              "            user_id  recipe_id        date  rating  \\\n",
              "0             38094      40893  2003-02-17       4   \n",
              "1           1293707      40893  2011-12-21       5   \n",
              "2              8937      44394  2002-12-01       4   \n",
              "3            126440      85009  2010-02-27       5   \n",
              "4             57222      85009  2011-10-01       5   \n",
              "...             ...        ...         ...     ...   \n",
              "1132362      116593      72730  2003-12-09       0   \n",
              "1132363      583662     386618  2009-09-29       5   \n",
              "1132364      157126      78003  2008-06-23       5   \n",
              "1132365       53932      78003  2009-01-11       4   \n",
              "1132366  2001868099      78003  2017-12-18       5   \n",
              "\n",
              "                                                    review  user_id_ordered  \\\n",
              "0        Great with a salad. Cooked on top of stove for...                0   \n",
              "1        So simple, so delicious! Great for chilly fall...                1   \n",
              "2        This worked very well and is EASY.  I used not...                2   \n",
              "3        I made the Mexican topping and took it to bunk...                3   \n",
              "4        Made the cheddar bacon topping, adding a sprin...                4   \n",
              "...                                                    ...              ...   \n",
              "1132362  Another approach is to start making sauce with...           226568   \n",
              "1132363  These were so delicious!  My husband and I tru...           178207   \n",
              "1132364  WOW!  Sometimes I don't take the time to rate ...            30308   \n",
              "1132365  Very good!  I used regular port as well.  The ...              123   \n",
              "1132366  I am so glad I googled and found this here. Th...           226569   \n",
              "\n",
              "         recipe_id_ordered  \n",
              "0                        0  \n",
              "1                        0  \n",
              "2                        1  \n",
              "3                        2  \n",
              "4                        2  \n",
              "...                    ...  \n",
              "1132362             231635  \n",
              "1132363             231636  \n",
              "1132364             231618  \n",
              "1132365             231618  \n",
              "1132366             231618  \n",
              "\n",
              "[1132367 rows x 7 columns]"
            ],
            "text/html": [
              "\n",
              "  <div id=\"df-a7212678-a4e9-4310-a564-9dc116c20431\">\n",
              "    <div class=\"colab-df-container\">\n",
              "      <div>\n",
              "<style scoped>\n",
              "    .dataframe tbody tr th:only-of-type {\n",
              "        vertical-align: middle;\n",
              "    }\n",
              "\n",
              "    .dataframe tbody tr th {\n",
              "        vertical-align: top;\n",
              "    }\n",
              "\n",
              "    .dataframe thead th {\n",
              "        text-align: right;\n",
              "    }\n",
              "</style>\n",
              "<table border=\"1\" class=\"dataframe\">\n",
              "  <thead>\n",
              "    <tr style=\"text-align: right;\">\n",
              "      <th></th>\n",
              "      <th>user_id</th>\n",
              "      <th>recipe_id</th>\n",
              "      <th>date</th>\n",
              "      <th>rating</th>\n",
              "      <th>review</th>\n",
              "      <th>user_id_ordered</th>\n",
              "      <th>recipe_id_ordered</th>\n",
              "    </tr>\n",
              "  </thead>\n",
              "  <tbody>\n",
              "    <tr>\n",
              "      <th>0</th>\n",
              "      <td>38094</td>\n",
              "      <td>40893</td>\n",
              "      <td>2003-02-17</td>\n",
              "      <td>4</td>\n",
              "      <td>Great with a salad. Cooked on top of stove for...</td>\n",
              "      <td>0</td>\n",
              "      <td>0</td>\n",
              "    </tr>\n",
              "    <tr>\n",
              "      <th>1</th>\n",
              "      <td>1293707</td>\n",
              "      <td>40893</td>\n",
              "      <td>2011-12-21</td>\n",
              "      <td>5</td>\n",
              "      <td>So simple, so delicious! Great for chilly fall...</td>\n",
              "      <td>1</td>\n",
              "      <td>0</td>\n",
              "    </tr>\n",
              "    <tr>\n",
              "      <th>2</th>\n",
              "      <td>8937</td>\n",
              "      <td>44394</td>\n",
              "      <td>2002-12-01</td>\n",
              "      <td>4</td>\n",
              "      <td>This worked very well and is EASY.  I used not...</td>\n",
              "      <td>2</td>\n",
              "      <td>1</td>\n",
              "    </tr>\n",
              "    <tr>\n",
              "      <th>3</th>\n",
              "      <td>126440</td>\n",
              "      <td>85009</td>\n",
              "      <td>2010-02-27</td>\n",
              "      <td>5</td>\n",
              "      <td>I made the Mexican topping and took it to bunk...</td>\n",
              "      <td>3</td>\n",
              "      <td>2</td>\n",
              "    </tr>\n",
              "    <tr>\n",
              "      <th>4</th>\n",
              "      <td>57222</td>\n",
              "      <td>85009</td>\n",
              "      <td>2011-10-01</td>\n",
              "      <td>5</td>\n",
              "      <td>Made the cheddar bacon topping, adding a sprin...</td>\n",
              "      <td>4</td>\n",
              "      <td>2</td>\n",
              "    </tr>\n",
              "    <tr>\n",
              "      <th>...</th>\n",
              "      <td>...</td>\n",
              "      <td>...</td>\n",
              "      <td>...</td>\n",
              "      <td>...</td>\n",
              "      <td>...</td>\n",
              "      <td>...</td>\n",
              "      <td>...</td>\n",
              "    </tr>\n",
              "    <tr>\n",
              "      <th>1132362</th>\n",
              "      <td>116593</td>\n",
              "      <td>72730</td>\n",
              "      <td>2003-12-09</td>\n",
              "      <td>0</td>\n",
              "      <td>Another approach is to start making sauce with...</td>\n",
              "      <td>226568</td>\n",
              "      <td>231635</td>\n",
              "    </tr>\n",
              "    <tr>\n",
              "      <th>1132363</th>\n",
              "      <td>583662</td>\n",
              "      <td>386618</td>\n",
              "      <td>2009-09-29</td>\n",
              "      <td>5</td>\n",
              "      <td>These were so delicious!  My husband and I tru...</td>\n",
              "      <td>178207</td>\n",
              "      <td>231636</td>\n",
              "    </tr>\n",
              "    <tr>\n",
              "      <th>1132364</th>\n",
              "      <td>157126</td>\n",
              "      <td>78003</td>\n",
              "      <td>2008-06-23</td>\n",
              "      <td>5</td>\n",
              "      <td>WOW!  Sometimes I don't take the time to rate ...</td>\n",
              "      <td>30308</td>\n",
              "      <td>231618</td>\n",
              "    </tr>\n",
              "    <tr>\n",
              "      <th>1132365</th>\n",
              "      <td>53932</td>\n",
              "      <td>78003</td>\n",
              "      <td>2009-01-11</td>\n",
              "      <td>4</td>\n",
              "      <td>Very good!  I used regular port as well.  The ...</td>\n",
              "      <td>123</td>\n",
              "      <td>231618</td>\n",
              "    </tr>\n",
              "    <tr>\n",
              "      <th>1132366</th>\n",
              "      <td>2001868099</td>\n",
              "      <td>78003</td>\n",
              "      <td>2017-12-18</td>\n",
              "      <td>5</td>\n",
              "      <td>I am so glad I googled and found this here. Th...</td>\n",
              "      <td>226569</td>\n",
              "      <td>231618</td>\n",
              "    </tr>\n",
              "  </tbody>\n",
              "</table>\n",
              "<p>1132367 rows × 7 columns</p>\n",
              "</div>\n",
              "      <button class=\"colab-df-convert\" onclick=\"convertToInteractive('df-a7212678-a4e9-4310-a564-9dc116c20431')\"\n",
              "              title=\"Convert this dataframe to an interactive table.\"\n",
              "              style=\"display:none;\">\n",
              "        \n",
              "  <svg xmlns=\"http://www.w3.org/2000/svg\" height=\"24px\"viewBox=\"0 0 24 24\"\n",
              "       width=\"24px\">\n",
              "    <path d=\"M0 0h24v24H0V0z\" fill=\"none\"/>\n",
              "    <path d=\"M18.56 5.44l.94 2.06.94-2.06 2.06-.94-2.06-.94-.94-2.06-.94 2.06-2.06.94zm-11 1L8.5 8.5l.94-2.06 2.06-.94-2.06-.94L8.5 2.5l-.94 2.06-2.06.94zm10 10l.94 2.06.94-2.06 2.06-.94-2.06-.94-.94-2.06-.94 2.06-2.06.94z\"/><path d=\"M17.41 7.96l-1.37-1.37c-.4-.4-.92-.59-1.43-.59-.52 0-1.04.2-1.43.59L10.3 9.45l-7.72 7.72c-.78.78-.78 2.05 0 2.83L4 21.41c.39.39.9.59 1.41.59.51 0 1.02-.2 1.41-.59l7.78-7.78 2.81-2.81c.8-.78.8-2.07 0-2.86zM5.41 20L4 18.59l7.72-7.72 1.47 1.35L5.41 20z\"/>\n",
              "  </svg>\n",
              "      </button>\n",
              "      \n",
              "  <style>\n",
              "    .colab-df-container {\n",
              "      display:flex;\n",
              "      flex-wrap:wrap;\n",
              "      gap: 12px;\n",
              "    }\n",
              "\n",
              "    .colab-df-convert {\n",
              "      background-color: #E8F0FE;\n",
              "      border: none;\n",
              "      border-radius: 50%;\n",
              "      cursor: pointer;\n",
              "      display: none;\n",
              "      fill: #1967D2;\n",
              "      height: 32px;\n",
              "      padding: 0 0 0 0;\n",
              "      width: 32px;\n",
              "    }\n",
              "\n",
              "    .colab-df-convert:hover {\n",
              "      background-color: #E2EBFA;\n",
              "      box-shadow: 0px 1px 2px rgba(60, 64, 67, 0.3), 0px 1px 3px 1px rgba(60, 64, 67, 0.15);\n",
              "      fill: #174EA6;\n",
              "    }\n",
              "\n",
              "    [theme=dark] .colab-df-convert {\n",
              "      background-color: #3B4455;\n",
              "      fill: #D2E3FC;\n",
              "    }\n",
              "\n",
              "    [theme=dark] .colab-df-convert:hover {\n",
              "      background-color: #434B5C;\n",
              "      box-shadow: 0px 1px 3px 1px rgba(0, 0, 0, 0.15);\n",
              "      filter: drop-shadow(0px 1px 2px rgba(0, 0, 0, 0.3));\n",
              "      fill: #FFFFFF;\n",
              "    }\n",
              "  </style>\n",
              "\n",
              "      <script>\n",
              "        const buttonEl =\n",
              "          document.querySelector('#df-a7212678-a4e9-4310-a564-9dc116c20431 button.colab-df-convert');\n",
              "        buttonEl.style.display =\n",
              "          google.colab.kernel.accessAllowed ? 'block' : 'none';\n",
              "\n",
              "        async function convertToInteractive(key) {\n",
              "          const element = document.querySelector('#df-a7212678-a4e9-4310-a564-9dc116c20431');\n",
              "          const dataTable =\n",
              "            await google.colab.kernel.invokeFunction('convertToInteractive',\n",
              "                                                     [key], {});\n",
              "          if (!dataTable) return;\n",
              "\n",
              "          const docLinkHtml = 'Like what you see? Visit the ' +\n",
              "            '<a target=\"_blank\" href=https://colab.research.google.com/notebooks/data_table.ipynb>data table notebook</a>'\n",
              "            + ' to learn more about interactive tables.';\n",
              "          element.innerHTML = '';\n",
              "          dataTable['output_type'] = 'display_data';\n",
              "          await google.colab.output.renderOutput(dataTable, element);\n",
              "          const docLink = document.createElement('div');\n",
              "          docLink.innerHTML = docLinkHtml;\n",
              "          element.appendChild(docLink);\n",
              "        }\n",
              "      </script>\n",
              "    </div>\n",
              "  </div>\n",
              "  "
            ]
          },
          "metadata": {},
          "execution_count": 8
        }
      ],
      "source": [
        "df['recipe_id_ordered']= df['recipe_id'].map(recipe_id_dict)\n",
        "df"
      ]
    },
    {
      "cell_type": "code",
      "execution_count": 9,
      "metadata": {
        "id": "-owj790a5LK1"
      },
      "outputs": [],
      "source": [
        "df_new = df[['user_id_ordered','recipe_id_ordered','rating']]"
      ]
    },
    {
      "cell_type": "code",
      "execution_count": 10,
      "metadata": {
        "id": "ZXO8BVEk5LK2"
      },
      "outputs": [],
      "source": [
        "df_new = df_new.rename(columns={'user_id_ordered':'userId','recipe_id_ordered':'recipeId'})"
      ]
    },
    {
      "cell_type": "code",
      "execution_count": 11,
      "metadata": {
        "id": "741hGsF15LK2"
      },
      "outputs": [],
      "source": [
        "df_new = df_new.iloc[:100000, :]"
      ]
    },
    {
      "cell_type": "code",
      "execution_count": 12,
      "metadata": {
        "colab": {
          "base_uri": "https://localhost:8080/",
          "height": 206
        },
        "id": "5P6LGONa5LK3",
        "outputId": "aa3a7886-53ca-4802-b4a5-e39e76918243"
      },
      "outputs": [
        {
          "output_type": "execute_result",
          "data": {
            "text/plain": [
              "   userId  recipeId  rating\n",
              "0       0         0       4\n",
              "1       1         0       5\n",
              "2       2         1       4\n",
              "3       3         2       5\n",
              "4       4         2       5"
            ],
            "text/html": [
              "\n",
              "  <div id=\"df-f53f57c5-33c9-4986-865e-f461c5057729\">\n",
              "    <div class=\"colab-df-container\">\n",
              "      <div>\n",
              "<style scoped>\n",
              "    .dataframe tbody tr th:only-of-type {\n",
              "        vertical-align: middle;\n",
              "    }\n",
              "\n",
              "    .dataframe tbody tr th {\n",
              "        vertical-align: top;\n",
              "    }\n",
              "\n",
              "    .dataframe thead th {\n",
              "        text-align: right;\n",
              "    }\n",
              "</style>\n",
              "<table border=\"1\" class=\"dataframe\">\n",
              "  <thead>\n",
              "    <tr style=\"text-align: right;\">\n",
              "      <th></th>\n",
              "      <th>userId</th>\n",
              "      <th>recipeId</th>\n",
              "      <th>rating</th>\n",
              "    </tr>\n",
              "  </thead>\n",
              "  <tbody>\n",
              "    <tr>\n",
              "      <th>0</th>\n",
              "      <td>0</td>\n",
              "      <td>0</td>\n",
              "      <td>4</td>\n",
              "    </tr>\n",
              "    <tr>\n",
              "      <th>1</th>\n",
              "      <td>1</td>\n",
              "      <td>0</td>\n",
              "      <td>5</td>\n",
              "    </tr>\n",
              "    <tr>\n",
              "      <th>2</th>\n",
              "      <td>2</td>\n",
              "      <td>1</td>\n",
              "      <td>4</td>\n",
              "    </tr>\n",
              "    <tr>\n",
              "      <th>3</th>\n",
              "      <td>3</td>\n",
              "      <td>2</td>\n",
              "      <td>5</td>\n",
              "    </tr>\n",
              "    <tr>\n",
              "      <th>4</th>\n",
              "      <td>4</td>\n",
              "      <td>2</td>\n",
              "      <td>5</td>\n",
              "    </tr>\n",
              "  </tbody>\n",
              "</table>\n",
              "</div>\n",
              "      <button class=\"colab-df-convert\" onclick=\"convertToInteractive('df-f53f57c5-33c9-4986-865e-f461c5057729')\"\n",
              "              title=\"Convert this dataframe to an interactive table.\"\n",
              "              style=\"display:none;\">\n",
              "        \n",
              "  <svg xmlns=\"http://www.w3.org/2000/svg\" height=\"24px\"viewBox=\"0 0 24 24\"\n",
              "       width=\"24px\">\n",
              "    <path d=\"M0 0h24v24H0V0z\" fill=\"none\"/>\n",
              "    <path d=\"M18.56 5.44l.94 2.06.94-2.06 2.06-.94-2.06-.94-.94-2.06-.94 2.06-2.06.94zm-11 1L8.5 8.5l.94-2.06 2.06-.94-2.06-.94L8.5 2.5l-.94 2.06-2.06.94zm10 10l.94 2.06.94-2.06 2.06-.94-2.06-.94-.94-2.06-.94 2.06-2.06.94z\"/><path d=\"M17.41 7.96l-1.37-1.37c-.4-.4-.92-.59-1.43-.59-.52 0-1.04.2-1.43.59L10.3 9.45l-7.72 7.72c-.78.78-.78 2.05 0 2.83L4 21.41c.39.39.9.59 1.41.59.51 0 1.02-.2 1.41-.59l7.78-7.78 2.81-2.81c.8-.78.8-2.07 0-2.86zM5.41 20L4 18.59l7.72-7.72 1.47 1.35L5.41 20z\"/>\n",
              "  </svg>\n",
              "      </button>\n",
              "      \n",
              "  <style>\n",
              "    .colab-df-container {\n",
              "      display:flex;\n",
              "      flex-wrap:wrap;\n",
              "      gap: 12px;\n",
              "    }\n",
              "\n",
              "    .colab-df-convert {\n",
              "      background-color: #E8F0FE;\n",
              "      border: none;\n",
              "      border-radius: 50%;\n",
              "      cursor: pointer;\n",
              "      display: none;\n",
              "      fill: #1967D2;\n",
              "      height: 32px;\n",
              "      padding: 0 0 0 0;\n",
              "      width: 32px;\n",
              "    }\n",
              "\n",
              "    .colab-df-convert:hover {\n",
              "      background-color: #E2EBFA;\n",
              "      box-shadow: 0px 1px 2px rgba(60, 64, 67, 0.3), 0px 1px 3px 1px rgba(60, 64, 67, 0.15);\n",
              "      fill: #174EA6;\n",
              "    }\n",
              "\n",
              "    [theme=dark] .colab-df-convert {\n",
              "      background-color: #3B4455;\n",
              "      fill: #D2E3FC;\n",
              "    }\n",
              "\n",
              "    [theme=dark] .colab-df-convert:hover {\n",
              "      background-color: #434B5C;\n",
              "      box-shadow: 0px 1px 3px 1px rgba(0, 0, 0, 0.15);\n",
              "      filter: drop-shadow(0px 1px 2px rgba(0, 0, 0, 0.3));\n",
              "      fill: #FFFFFF;\n",
              "    }\n",
              "  </style>\n",
              "\n",
              "      <script>\n",
              "        const buttonEl =\n",
              "          document.querySelector('#df-f53f57c5-33c9-4986-865e-f461c5057729 button.colab-df-convert');\n",
              "        buttonEl.style.display =\n",
              "          google.colab.kernel.accessAllowed ? 'block' : 'none';\n",
              "\n",
              "        async function convertToInteractive(key) {\n",
              "          const element = document.querySelector('#df-f53f57c5-33c9-4986-865e-f461c5057729');\n",
              "          const dataTable =\n",
              "            await google.colab.kernel.invokeFunction('convertToInteractive',\n",
              "                                                     [key], {});\n",
              "          if (!dataTable) return;\n",
              "\n",
              "          const docLinkHtml = 'Like what you see? Visit the ' +\n",
              "            '<a target=\"_blank\" href=https://colab.research.google.com/notebooks/data_table.ipynb>data table notebook</a>'\n",
              "            + ' to learn more about interactive tables.';\n",
              "          element.innerHTML = '';\n",
              "          dataTable['output_type'] = 'display_data';\n",
              "          await google.colab.output.renderOutput(dataTable, element);\n",
              "          const docLink = document.createElement('div');\n",
              "          docLink.innerHTML = docLinkHtml;\n",
              "          element.appendChild(docLink);\n",
              "        }\n",
              "      </script>\n",
              "    </div>\n",
              "  </div>\n",
              "  "
            ]
          },
          "metadata": {},
          "execution_count": 12
        }
      ],
      "source": [
        "df_new.head()"
      ]
    },
    {
      "cell_type": "code",
      "execution_count": 13,
      "metadata": {
        "id": "DuM5HssS5LK3"
      },
      "outputs": [],
      "source": [
        "X = df_new.iloc[:,:2]\n",
        "Y = df_new.iloc[:,2]"
      ]
    },
    {
      "cell_type": "code",
      "execution_count": 14,
      "metadata": {
        "id": "PrmgXQmr5LK3"
      },
      "outputs": [],
      "source": [
        "x_train, x_test, y_train, y_test = train_test_split(X, Y, test_size = 0.2, random_state = 66)"
      ]
    },
    {
      "cell_type": "markdown",
      "metadata": {
        "id": "ToXCqPGxmpjv"
      },
      "source": [
        "Preprocessing the dataset for BERT"
      ]
    },
    {
      "cell_type": "code",
      "execution_count": 15,
      "metadata": {
        "id": "Jh5kPInlrq6w"
      },
      "outputs": [],
      "source": [
        "n_recipes = sorted(df_rec['id'].unique())"
      ]
    },
    {
      "cell_type": "code",
      "execution_count": 16,
      "metadata": {
        "id": "kogMoqzVxZQj"
      },
      "outputs": [],
      "source": [
        "df_rec.rename(columns = {'id':'recipeId'}, inplace = True)"
      ]
    },
    {
      "cell_type": "code",
      "execution_count": 17,
      "metadata": {
        "id": "zXha6k9Iw93d"
      },
      "outputs": [],
      "source": [
        "joined = df_rec.merge(X,on=\"recipeId\",how=\"right\")"
      ]
    },
    {
      "cell_type": "code",
      "execution_count": 18,
      "metadata": {
        "id": "SmzOy34c0wrh"
      },
      "outputs": [],
      "source": [
        "joined = joined.drop('userId', axis=1)"
      ]
    },
    {
      "cell_type": "code",
      "execution_count": 19,
      "metadata": {
        "id": "_69R2DmW1W-a"
      },
      "outputs": [],
      "source": [
        "joined.drop_duplicates(inplace=True)"
      ]
    },
    {
      "cell_type": "code",
      "execution_count": 20,
      "metadata": {
        "colab": {
          "base_uri": "https://localhost:8080/"
        },
        "id": "-vD2kkmW1bNJ",
        "outputId": "4f9bdf93-629a-4682-b725-a4d0c3cc3c2c"
      },
      "outputs": [
        {
          "output_type": "execute_result",
          "data": {
            "text/plain": [
              "19555"
            ]
          },
          "metadata": {},
          "execution_count": 20
        }
      ],
      "source": [
        "len(joined)"
      ]
    },
    {
      "cell_type": "code",
      "execution_count": 21,
      "metadata": {
        "colab": {
          "base_uri": "https://localhost:8080/"
        },
        "id": "gXsFx-DJFNaM",
        "outputId": "c0b363ba-97ed-4b8b-c379-2144ee2764a2"
      },
      "outputs": [
        {
          "output_type": "execute_result",
          "data": {
            "text/plain": [
              "array([    0,     1,     2, ..., 19552, 19553, 19554])"
            ]
          },
          "metadata": {},
          "execution_count": 21
        }
      ],
      "source": [
        "(joined['recipeId'].unique())"
      ]
    },
    {
      "cell_type": "code",
      "execution_count": 22,
      "metadata": {
        "id": "Exfl9goS19ca"
      },
      "outputs": [],
      "source": [
        "joined.fillna(0)\n",
        "joined.reset_index(inplace=True,drop=True)\n",
        "joined = joined.applymap(str)"
      ]
    },
    {
      "cell_type": "markdown",
      "metadata": {
        "id": "Y-z-U46umtOi"
      },
      "source": [
        "Laoding the pre-trained sentence tokenizer BERT model ( We used this on description of recipes, as they represent the recipe and Sentence encoder take a paragraph as input)"
      ]
    },
    {
      "cell_type": "code",
      "execution_count": 23,
      "metadata": {
        "colab": {
          "base_uri": "https://localhost:8080/"
        },
        "id": "4QCBgoSjG3Fd",
        "outputId": "f890fba0-2ff3-45b6-a59a-48f5cf755143"
      },
      "outputs": [
        {
          "output_type": "stream",
          "name": "stdout",
          "text": [
            "Looking in indexes: https://pypi.org/simple, https://us-python.pkg.dev/colab-wheels/public/simple/\n",
            "Requirement already satisfied: sentence-transformers in /usr/local/lib/python3.8/dist-packages (2.2.2)\n",
            "Requirement already satisfied: huggingface-hub>=0.4.0 in /usr/local/lib/python3.8/dist-packages (from sentence-transformers) (0.11.1)\n",
            "Requirement already satisfied: torchvision in /usr/local/lib/python3.8/dist-packages (from sentence-transformers) (0.14.0+cu116)\n",
            "Requirement already satisfied: transformers<5.0.0,>=4.6.0 in /usr/local/lib/python3.8/dist-packages (from sentence-transformers) (4.25.1)\n",
            "Requirement already satisfied: sentencepiece in /usr/local/lib/python3.8/dist-packages (from sentence-transformers) (0.1.97)\n",
            "Requirement already satisfied: nltk in /usr/local/lib/python3.8/dist-packages (from sentence-transformers) (3.7)\n",
            "Requirement already satisfied: numpy in /usr/local/lib/python3.8/dist-packages (from sentence-transformers) (1.21.6)\n",
            "Requirement already satisfied: tqdm in /usr/local/lib/python3.8/dist-packages (from sentence-transformers) (4.64.1)\n",
            "Requirement already satisfied: torch>=1.6.0 in /usr/local/lib/python3.8/dist-packages (from sentence-transformers) (1.13.0+cu116)\n",
            "Requirement already satisfied: scipy in /usr/local/lib/python3.8/dist-packages (from sentence-transformers) (1.7.3)\n",
            "Requirement already satisfied: scikit-learn in /usr/local/lib/python3.8/dist-packages (from sentence-transformers) (1.0.2)\n",
            "Requirement already satisfied: filelock in /usr/local/lib/python3.8/dist-packages (from huggingface-hub>=0.4.0->sentence-transformers) (3.8.0)\n",
            "Requirement already satisfied: packaging>=20.9 in /usr/local/lib/python3.8/dist-packages (from huggingface-hub>=0.4.0->sentence-transformers) (21.3)\n",
            "Requirement already satisfied: pyyaml>=5.1 in /usr/local/lib/python3.8/dist-packages (from huggingface-hub>=0.4.0->sentence-transformers) (6.0)\n",
            "Requirement already satisfied: typing-extensions>=3.7.4.3 in /usr/local/lib/python3.8/dist-packages (from huggingface-hub>=0.4.0->sentence-transformers) (4.4.0)\n",
            "Requirement already satisfied: requests in /usr/local/lib/python3.8/dist-packages (from huggingface-hub>=0.4.0->sentence-transformers) (2.23.0)\n",
            "Requirement already satisfied: pyparsing!=3.0.5,>=2.0.2 in /usr/local/lib/python3.8/dist-packages (from packaging>=20.9->huggingface-hub>=0.4.0->sentence-transformers) (3.0.9)\n",
            "Requirement already satisfied: tokenizers!=0.11.3,<0.14,>=0.11.1 in /usr/local/lib/python3.8/dist-packages (from transformers<5.0.0,>=4.6.0->sentence-transformers) (0.13.2)\n",
            "Requirement already satisfied: regex!=2019.12.17 in /usr/local/lib/python3.8/dist-packages (from transformers<5.0.0,>=4.6.0->sentence-transformers) (2022.6.2)\n",
            "Requirement already satisfied: joblib in /usr/local/lib/python3.8/dist-packages (from nltk->sentence-transformers) (1.2.0)\n",
            "Requirement already satisfied: click in /usr/local/lib/python3.8/dist-packages (from nltk->sentence-transformers) (7.1.2)\n",
            "Requirement already satisfied: urllib3!=1.25.0,!=1.25.1,<1.26,>=1.21.1 in /usr/local/lib/python3.8/dist-packages (from requests->huggingface-hub>=0.4.0->sentence-transformers) (1.24.3)\n",
            "Requirement already satisfied: certifi>=2017.4.17 in /usr/local/lib/python3.8/dist-packages (from requests->huggingface-hub>=0.4.0->sentence-transformers) (2022.9.24)\n",
            "Requirement already satisfied: chardet<4,>=3.0.2 in /usr/local/lib/python3.8/dist-packages (from requests->huggingface-hub>=0.4.0->sentence-transformers) (3.0.4)\n",
            "Requirement already satisfied: idna<3,>=2.5 in /usr/local/lib/python3.8/dist-packages (from requests->huggingface-hub>=0.4.0->sentence-transformers) (2.10)\n",
            "Requirement already satisfied: threadpoolctl>=2.0.0 in /usr/local/lib/python3.8/dist-packages (from scikit-learn->sentence-transformers) (3.1.0)\n",
            "Requirement already satisfied: pillow!=8.3.*,>=5.3.0 in /usr/local/lib/python3.8/dist-packages (from torchvision->sentence-transformers) (7.1.2)\n"
          ]
        }
      ],
      "source": [
        "!pip install sentence-transformers"
      ]
    },
    {
      "cell_type": "code",
      "execution_count": 24,
      "metadata": {
        "id": "QJhi-8V2RBhg"
      },
      "outputs": [],
      "source": [
        "from sentence_transformers import SentenceTransformer\n",
        "model_bert = SentenceTransformer('distilbert-base-nli-stsb-mean-tokens')"
      ]
    },
    {
      "cell_type": "markdown",
      "metadata": {
        "id": "eTnASvJImx2B"
      },
      "source": [
        "Creating embeddings for Recipes\n"
      ]
    },
    {
      "cell_type": "code",
      "execution_count": 26,
      "metadata": {
        "id": "VZehZ9Iw1t6Y"
      },
      "outputs": [],
      "source": [
        "joined[\"Embeddings\"] = joined['description'].apply(lambda x: model_bert.encode(x))"
      ]
    },
    {
      "cell_type": "code",
      "execution_count": 27,
      "metadata": {
        "colab": {
          "base_uri": "https://localhost:8080/"
        },
        "id": "xWs9d6Sm3ZQc",
        "outputId": "d622acb2-1484-4a34-94ba-89f8d9569ca1"
      },
      "outputs": [
        {
          "output_type": "execute_result",
          "data": {
            "text/plain": [
              "(19555,)"
            ]
          },
          "metadata": {},
          "execution_count": 27
        }
      ],
      "source": [
        "joined['Embeddings'].shape"
      ]
    },
    {
      "cell_type": "markdown",
      "source": [
        "Creating the embedding matrix to feed it to the network"
      ],
      "metadata": {
        "id": "8IbSCXu8Bpw_"
      }
    },
    {
      "cell_type": "code",
      "execution_count": 28,
      "metadata": {
        "id": "yT1rIqzA39HL"
      },
      "outputs": [],
      "source": [
        "embeddings_matrix = np.empty((len(joined), 768))\n",
        "for i in range(len(joined['Embeddings'])):\n",
        "  embeddings_matrix[i] = joined['Embeddings'].loc[i]"
      ]
    },
    {
      "cell_type": "code",
      "execution_count": 29,
      "metadata": {
        "colab": {
          "base_uri": "https://localhost:8080/"
        },
        "id": "phN__cJnonnR",
        "outputId": "96f87280-360b-4abb-bfdb-bbbaafcec70c"
      },
      "outputs": [
        {
          "output_type": "execute_result",
          "data": {
            "text/plain": [
              "(19555, 768)"
            ]
          },
          "metadata": {},
          "execution_count": 29
        }
      ],
      "source": [
        "embeddings_matrix.shape"
      ]
    },
    {
      "cell_type": "code",
      "execution_count": 30,
      "metadata": {
        "id": "fmX45Up15LK3"
      },
      "outputs": [],
      "source": [
        "n_latent_factors = 768\n",
        "\n",
        "n_users, n_recipes = len(df_new['userId'].unique()), len(df_new['recipeId'].unique()) "
      ]
    },
    {
      "cell_type": "markdown",
      "metadata": {
        "id": "ioQnqA6Ym-sN"
      },
      "source": [
        "Intializing the model"
      ]
    },
    {
      "cell_type": "code",
      "execution_count": 31,
      "metadata": {
        "colab": {
          "base_uri": "https://localhost:8080/"
        },
        "id": "U4Euyrra5LK3",
        "outputId": "de727209-d59a-4685-f8f3-2fb5105c0374"
      },
      "outputs": [
        {
          "output_type": "stream",
          "name": "stdout",
          "text": [
            "(None, 768)\n",
            "(None, 768)\n",
            "(None, 1536)\n"
          ]
        }
      ],
      "source": [
        "from keras.initializers import Constant\n",
        "# recipe_embedding_matrix = np.random.random((n_recipes, n_latent_factors))\n",
        "recipe_embedding_matrix = embeddings_matrix\n",
        "user_input = Input(shape=(1,), name='User_Input',dtype='int32')\n",
        "user_embeddings = Embedding(input_dim = n_users, output_dim=n_latent_factors, input_length=1, \n",
        "                              name='User_Embedding') (user_input)\n",
        "user_vector = Flatten(name='User_Vector') (user_embeddings)\n",
        "\n",
        "\n",
        "recipe_input = Input(shape=(1,), name='Recipe_Input',dtype='int32')\n",
        "recipe_embeddings = Embedding(input_dim = n_recipes, output_dim=n_latent_factors, input_length=1, \n",
        "                               name='Recipe_Embedding',trainable=True,embeddings_initializer=Constant(recipe_embedding_matrix)) (recipe_input)\n",
        "recipe_vector = Flatten(name='Recipe_Vector') (recipe_embeddings)\n",
        "\n",
        "print(user_vector.shape)\n",
        "print(recipe_vector.shape)\n",
        "\n",
        "# Concatenate Product\n",
        "merged_vectors = concatenate([user_vector, recipe_vector], name='Concantenate')\n",
        "\n",
        "print(merged_vectors.shape)\n",
        "dense_layer_1 = Dense(100, activation='relu')(merged_vectors) \n",
        "dense_layer_1 = Dropout(0.25) (dense_layer_1)\n",
        "batchnorm_layer_1 = BatchNormalization()(dense_layer_1)\n",
        "dense_layer_2 = Dense(64, activation='relu')(merged_vectors)\n",
        "\n",
        "\n",
        "result = Dense(1)(dense_layer_1)\n",
        "model = Model([user_input, recipe_input], result)"
      ]
    },
    {
      "cell_type": "code",
      "execution_count": 32,
      "metadata": {
        "colab": {
          "base_uri": "https://localhost:8080/",
          "height": 686
        },
        "id": "dk-vhKSn5LK4",
        "outputId": "0b6c8377-e302-434f-9170-e7f46dc42a9c"
      },
      "outputs": [
        {
          "output_type": "execute_result",
          "data": {
            "text/plain": [
              "<IPython.core.display.SVG object>"
            ],
            "image/svg+xml": "<svg xmlns=\"http://www.w3.org/2000/svg\" xmlns:xlink=\"http://www.w3.org/1999/xlink\" width=\"538pt\" height=\"499pt\" viewBox=\"0.00 0.00 595.50 553.00\">\n<g id=\"graph0\" class=\"graph\" transform=\"scale(.9028 .9028) rotate(0) translate(4 549)\">\n<title>G</title>\n<polygon fill=\"#ffffff\" stroke=\"transparent\" points=\"-4,4 -4,-549 591.5,-549 591.5,4 -4,4\"/>\n<!-- 140433622115232 -->\n<g id=\"node1\" class=\"node\">\n<title>140433622115232</title>\n<polygon fill=\"none\" stroke=\"#000000\" points=\"29,-498.5 29,-544.5 249,-544.5 249,-498.5 29,-498.5\"/>\n<text text-anchor=\"middle\" x=\"69.5\" y=\"-529.3\" font-family=\"Times,serif\" font-size=\"14.00\" fill=\"#000000\">User_Input</text>\n<polyline fill=\"none\" stroke=\"#000000\" points=\"29,-521.5 110,-521.5 \"/>\n<text text-anchor=\"middle\" x=\"69.5\" y=\"-506.3\" font-family=\"Times,serif\" font-size=\"14.00\" fill=\"#000000\">InputLayer</text>\n<polyline fill=\"none\" stroke=\"#000000\" points=\"110,-498.5 110,-544.5 \"/>\n<text text-anchor=\"middle\" x=\"139\" y=\"-529.3\" font-family=\"Times,serif\" font-size=\"14.00\" fill=\"#000000\">input:</text>\n<polyline fill=\"none\" stroke=\"#000000\" points=\"110,-521.5 168,-521.5 \"/>\n<text text-anchor=\"middle\" x=\"139\" y=\"-506.3\" font-family=\"Times,serif\" font-size=\"14.00\" fill=\"#000000\">output:</text>\n<polyline fill=\"none\" stroke=\"#000000\" points=\"168,-498.5 168,-544.5 \"/>\n<text text-anchor=\"middle\" x=\"208.5\" y=\"-529.3\" font-family=\"Times,serif\" font-size=\"14.00\" fill=\"#000000\">[(None, 1)]</text>\n<polyline fill=\"none\" stroke=\"#000000\" points=\"168,-521.5 249,-521.5 \"/>\n<text text-anchor=\"middle\" x=\"208.5\" y=\"-506.3\" font-family=\"Times,serif\" font-size=\"14.00\" fill=\"#000000\">[(None, 1)]</text>\n</g>\n<!-- 140433621821808 -->\n<g id=\"node3\" class=\"node\">\n<title>140433621821808</title>\n<polygon fill=\"none\" stroke=\"#000000\" points=\"0,-415.5 0,-461.5 278,-461.5 278,-415.5 0,-415.5\"/>\n<text text-anchor=\"middle\" x=\"59\" y=\"-446.3\" font-family=\"Times,serif\" font-size=\"14.00\" fill=\"#000000\">User_Embedding</text>\n<polyline fill=\"none\" stroke=\"#000000\" points=\"0,-438.5 118,-438.5 \"/>\n<text text-anchor=\"middle\" x=\"59\" y=\"-423.3\" font-family=\"Times,serif\" font-size=\"14.00\" fill=\"#000000\">Embedding</text>\n<polyline fill=\"none\" stroke=\"#000000\" points=\"118,-415.5 118,-461.5 \"/>\n<text text-anchor=\"middle\" x=\"147\" y=\"-446.3\" font-family=\"Times,serif\" font-size=\"14.00\" fill=\"#000000\">input:</text>\n<polyline fill=\"none\" stroke=\"#000000\" points=\"118,-438.5 176,-438.5 \"/>\n<text text-anchor=\"middle\" x=\"147\" y=\"-423.3\" font-family=\"Times,serif\" font-size=\"14.00\" fill=\"#000000\">output:</text>\n<polyline fill=\"none\" stroke=\"#000000\" points=\"176,-415.5 176,-461.5 \"/>\n<text text-anchor=\"middle\" x=\"227\" y=\"-446.3\" font-family=\"Times,serif\" font-size=\"14.00\" fill=\"#000000\">(None, 1)</text>\n<polyline fill=\"none\" stroke=\"#000000\" points=\"176,-438.5 278,-438.5 \"/>\n<text text-anchor=\"middle\" x=\"227\" y=\"-423.3\" font-family=\"Times,serif\" font-size=\"14.00\" fill=\"#000000\">(None, 1, 768)</text>\n</g>\n<!-- 140433622115232&#45;&gt;140433621821808 -->\n<g id=\"edge1\" class=\"edge\">\n<title>140433622115232-&gt;140433621821808</title>\n<path fill=\"none\" stroke=\"#000000\" d=\"M139,-498.3799C139,-490.1745 139,-480.7679 139,-471.8786\"/>\n<polygon fill=\"#000000\" stroke=\"#000000\" points=\"142.5001,-471.784 139,-461.784 135.5001,-471.784 142.5001,-471.784\"/>\n</g>\n<!-- 140433621822192 -->\n<g id=\"node2\" class=\"node\">\n<title>140433621822192</title>\n<polygon fill=\"none\" stroke=\"#000000\" points=\"325.5,-498.5 325.5,-544.5 558.5,-544.5 558.5,-498.5 325.5,-498.5\"/>\n<text text-anchor=\"middle\" x=\"372.5\" y=\"-529.3\" font-family=\"Times,serif\" font-size=\"14.00\" fill=\"#000000\">Recipe_Input</text>\n<polyline fill=\"none\" stroke=\"#000000\" points=\"325.5,-521.5 419.5,-521.5 \"/>\n<text text-anchor=\"middle\" x=\"372.5\" y=\"-506.3\" font-family=\"Times,serif\" font-size=\"14.00\" fill=\"#000000\">InputLayer</text>\n<polyline fill=\"none\" stroke=\"#000000\" points=\"419.5,-498.5 419.5,-544.5 \"/>\n<text text-anchor=\"middle\" x=\"448.5\" y=\"-529.3\" font-family=\"Times,serif\" font-size=\"14.00\" fill=\"#000000\">input:</text>\n<polyline fill=\"none\" stroke=\"#000000\" points=\"419.5,-521.5 477.5,-521.5 \"/>\n<text text-anchor=\"middle\" x=\"448.5\" y=\"-506.3\" font-family=\"Times,serif\" font-size=\"14.00\" fill=\"#000000\">output:</text>\n<polyline fill=\"none\" stroke=\"#000000\" points=\"477.5,-498.5 477.5,-544.5 \"/>\n<text text-anchor=\"middle\" x=\"518\" y=\"-529.3\" font-family=\"Times,serif\" font-size=\"14.00\" fill=\"#000000\">[(None, 1)]</text>\n<polyline fill=\"none\" stroke=\"#000000\" points=\"477.5,-521.5 558.5,-521.5 \"/>\n<text text-anchor=\"middle\" x=\"518\" y=\"-506.3\" font-family=\"Times,serif\" font-size=\"14.00\" fill=\"#000000\">[(None, 1)]</text>\n</g>\n<!-- 140435904297136 -->\n<g id=\"node4\" class=\"node\">\n<title>140435904297136</title>\n<polygon fill=\"none\" stroke=\"#000000\" points=\"296.5,-415.5 296.5,-461.5 587.5,-461.5 587.5,-415.5 296.5,-415.5\"/>\n<text text-anchor=\"middle\" x=\"362\" y=\"-446.3\" font-family=\"Times,serif\" font-size=\"14.00\" fill=\"#000000\">Recipe_Embedding</text>\n<polyline fill=\"none\" stroke=\"#000000\" points=\"296.5,-438.5 427.5,-438.5 \"/>\n<text text-anchor=\"middle\" x=\"362\" y=\"-423.3\" font-family=\"Times,serif\" font-size=\"14.00\" fill=\"#000000\">Embedding</text>\n<polyline fill=\"none\" stroke=\"#000000\" points=\"427.5,-415.5 427.5,-461.5 \"/>\n<text text-anchor=\"middle\" x=\"456.5\" y=\"-446.3\" font-family=\"Times,serif\" font-size=\"14.00\" fill=\"#000000\">input:</text>\n<polyline fill=\"none\" stroke=\"#000000\" points=\"427.5,-438.5 485.5,-438.5 \"/>\n<text text-anchor=\"middle\" x=\"456.5\" y=\"-423.3\" font-family=\"Times,serif\" font-size=\"14.00\" fill=\"#000000\">output:</text>\n<polyline fill=\"none\" stroke=\"#000000\" points=\"485.5,-415.5 485.5,-461.5 \"/>\n<text text-anchor=\"middle\" x=\"536.5\" y=\"-446.3\" font-family=\"Times,serif\" font-size=\"14.00\" fill=\"#000000\">(None, 1)</text>\n<polyline fill=\"none\" stroke=\"#000000\" points=\"485.5,-438.5 587.5,-438.5 \"/>\n<text text-anchor=\"middle\" x=\"536.5\" y=\"-423.3\" font-family=\"Times,serif\" font-size=\"14.00\" fill=\"#000000\">(None, 1, 768)</text>\n</g>\n<!-- 140433621822192&#45;&gt;140435904297136 -->\n<g id=\"edge2\" class=\"edge\">\n<title>140433621822192-&gt;140435904297136</title>\n<path fill=\"none\" stroke=\"#000000\" d=\"M442,-498.3799C442,-490.1745 442,-480.7679 442,-471.8786\"/>\n<polygon fill=\"#000000\" stroke=\"#000000\" points=\"445.5001,-471.784 442,-461.784 438.5001,-471.784 445.5001,-471.784\"/>\n</g>\n<!-- 140433621821232 -->\n<g id=\"node5\" class=\"node\">\n<title>140433621821232</title>\n<polygon fill=\"none\" stroke=\"#000000\" points=\"30.5,-332.5 30.5,-378.5 277.5,-378.5 277.5,-332.5 30.5,-332.5\"/>\n<text text-anchor=\"middle\" x=\"74\" y=\"-363.3\" font-family=\"Times,serif\" font-size=\"14.00\" fill=\"#000000\">User_Vector</text>\n<polyline fill=\"none\" stroke=\"#000000\" points=\"30.5,-355.5 117.5,-355.5 \"/>\n<text text-anchor=\"middle\" x=\"74\" y=\"-340.3\" font-family=\"Times,serif\" font-size=\"14.00\" fill=\"#000000\">Flatten</text>\n<polyline fill=\"none\" stroke=\"#000000\" points=\"117.5,-332.5 117.5,-378.5 \"/>\n<text text-anchor=\"middle\" x=\"146.5\" y=\"-363.3\" font-family=\"Times,serif\" font-size=\"14.00\" fill=\"#000000\">input:</text>\n<polyline fill=\"none\" stroke=\"#000000\" points=\"117.5,-355.5 175.5,-355.5 \"/>\n<text text-anchor=\"middle\" x=\"146.5\" y=\"-340.3\" font-family=\"Times,serif\" font-size=\"14.00\" fill=\"#000000\">output:</text>\n<polyline fill=\"none\" stroke=\"#000000\" points=\"175.5,-332.5 175.5,-378.5 \"/>\n<text text-anchor=\"middle\" x=\"226.5\" y=\"-363.3\" font-family=\"Times,serif\" font-size=\"14.00\" fill=\"#000000\">(None, 1, 768)</text>\n<polyline fill=\"none\" stroke=\"#000000\" points=\"175.5,-355.5 277.5,-355.5 \"/>\n<text text-anchor=\"middle\" x=\"226.5\" y=\"-340.3\" font-family=\"Times,serif\" font-size=\"14.00\" fill=\"#000000\">(None, 768)</text>\n</g>\n<!-- 140433621821808&#45;&gt;140433621821232 -->\n<g id=\"edge3\" class=\"edge\">\n<title>140433621821808-&gt;140433621821232</title>\n<path fill=\"none\" stroke=\"#000000\" d=\"M143.1783,-415.3799C144.6612,-407.1745 146.3612,-397.7679 147.9677,-388.8786\"/>\n<polygon fill=\"#000000\" stroke=\"#000000\" points=\"151.4578,-389.2471 149.792,-378.784 144.5693,-388.0021 151.4578,-389.2471\"/>\n</g>\n<!-- 140433621260896 -->\n<g id=\"node6\" class=\"node\">\n<title>140433621260896</title>\n<polygon fill=\"none\" stroke=\"#000000\" points=\"304,-332.5 304,-378.5 564,-378.5 564,-332.5 304,-332.5\"/>\n<text text-anchor=\"middle\" x=\"354\" y=\"-363.3\" font-family=\"Times,serif\" font-size=\"14.00\" fill=\"#000000\">Recipe_Vector</text>\n<polyline fill=\"none\" stroke=\"#000000\" points=\"304,-355.5 404,-355.5 \"/>\n<text text-anchor=\"middle\" x=\"354\" y=\"-340.3\" font-family=\"Times,serif\" font-size=\"14.00\" fill=\"#000000\">Flatten</text>\n<polyline fill=\"none\" stroke=\"#000000\" points=\"404,-332.5 404,-378.5 \"/>\n<text text-anchor=\"middle\" x=\"433\" y=\"-363.3\" font-family=\"Times,serif\" font-size=\"14.00\" fill=\"#000000\">input:</text>\n<polyline fill=\"none\" stroke=\"#000000\" points=\"404,-355.5 462,-355.5 \"/>\n<text text-anchor=\"middle\" x=\"433\" y=\"-340.3\" font-family=\"Times,serif\" font-size=\"14.00\" fill=\"#000000\">output:</text>\n<polyline fill=\"none\" stroke=\"#000000\" points=\"462,-332.5 462,-378.5 \"/>\n<text text-anchor=\"middle\" x=\"513\" y=\"-363.3\" font-family=\"Times,serif\" font-size=\"14.00\" fill=\"#000000\">(None, 1, 768)</text>\n<polyline fill=\"none\" stroke=\"#000000\" points=\"462,-355.5 564,-355.5 \"/>\n<text text-anchor=\"middle\" x=\"513\" y=\"-340.3\" font-family=\"Times,serif\" font-size=\"14.00\" fill=\"#000000\">(None, 768)</text>\n</g>\n<!-- 140435904297136&#45;&gt;140433621260896 -->\n<g id=\"edge4\" class=\"edge\">\n<title>140435904297136-&gt;140433621260896</title>\n<path fill=\"none\" stroke=\"#000000\" d=\"M439.7716,-415.3799C438.9807,-407.1745 438.074,-397.7679 437.2172,-388.8786\"/>\n<polygon fill=\"#000000\" stroke=\"#000000\" points=\"440.6876,-388.4021 436.2442,-378.784 433.7199,-389.0737 440.6876,-388.4021\"/>\n</g>\n<!-- 140435911612400 -->\n<g id=\"node7\" class=\"node\">\n<title>140435911612400</title>\n<polygon fill=\"none\" stroke=\"#000000\" points=\"127,-249.5 127,-295.5 453,-295.5 453,-249.5 127,-249.5\"/>\n<text text-anchor=\"middle\" x=\"174\" y=\"-280.3\" font-family=\"Times,serif\" font-size=\"14.00\" fill=\"#000000\">Concantenate</text>\n<polyline fill=\"none\" stroke=\"#000000\" points=\"127,-272.5 221,-272.5 \"/>\n<text text-anchor=\"middle\" x=\"174\" y=\"-257.3\" font-family=\"Times,serif\" font-size=\"14.00\" fill=\"#000000\">Concatenate</text>\n<polyline fill=\"none\" stroke=\"#000000\" points=\"221,-249.5 221,-295.5 \"/>\n<text text-anchor=\"middle\" x=\"250\" y=\"-280.3\" font-family=\"Times,serif\" font-size=\"14.00\" fill=\"#000000\">input:</text>\n<polyline fill=\"none\" stroke=\"#000000\" points=\"221,-272.5 279,-272.5 \"/>\n<text text-anchor=\"middle\" x=\"250\" y=\"-257.3\" font-family=\"Times,serif\" font-size=\"14.00\" fill=\"#000000\">output:</text>\n<polyline fill=\"none\" stroke=\"#000000\" points=\"279,-249.5 279,-295.5 \"/>\n<text text-anchor=\"middle\" x=\"366\" y=\"-280.3\" font-family=\"Times,serif\" font-size=\"14.00\" fill=\"#000000\">[(None, 768), (None, 768)]</text>\n<polyline fill=\"none\" stroke=\"#000000\" points=\"279,-272.5 453,-272.5 \"/>\n<text text-anchor=\"middle\" x=\"366\" y=\"-257.3\" font-family=\"Times,serif\" font-size=\"14.00\" fill=\"#000000\">(None, 1536)</text>\n</g>\n<!-- 140433621821232&#45;&gt;140435911612400 -->\n<g id=\"edge5\" class=\"edge\">\n<title>140433621821232-&gt;140435911612400</title>\n<path fill=\"none\" stroke=\"#000000\" d=\"M191.8836,-332.3799C207.8128,-322.6583 226.5052,-311.2505 243.2771,-301.0147\"/>\n<polygon fill=\"#000000\" stroke=\"#000000\" points=\"245.1353,-303.9811 251.8479,-295.784 241.4886,-298.0059 245.1353,-303.9811\"/>\n</g>\n<!-- 140433621260896&#45;&gt;140435911612400 -->\n<g id=\"edge6\" class=\"edge\">\n<title>140433621260896-&gt;140435911612400</title>\n<path fill=\"none\" stroke=\"#000000\" d=\"M393.888,-332.3799C376.9508,-322.6175 357.0634,-311.1546 339.2476,-300.8857\"/>\n<polygon fill=\"#000000\" stroke=\"#000000\" points=\"340.5581,-297.6014 330.1464,-295.6399 337.0625,-303.6661 340.5581,-297.6014\"/>\n</g>\n<!-- 140435911612736 -->\n<g id=\"node8\" class=\"node\">\n<title>140435911612736</title>\n<polygon fill=\"none\" stroke=\"#000000\" points=\"187.5,-166.5 187.5,-212.5 392.5,-212.5 392.5,-166.5 187.5,-166.5\"/>\n<text text-anchor=\"middle\" x=\"213.5\" y=\"-197.3\" font-family=\"Times,serif\" font-size=\"14.00\" fill=\"#000000\">dense</text>\n<polyline fill=\"none\" stroke=\"#000000\" points=\"187.5,-189.5 239.5,-189.5 \"/>\n<text text-anchor=\"middle\" x=\"213.5\" y=\"-174.3\" font-family=\"Times,serif\" font-size=\"14.00\" fill=\"#000000\">Dense</text>\n<polyline fill=\"none\" stroke=\"#000000\" points=\"239.5,-166.5 239.5,-212.5 \"/>\n<text text-anchor=\"middle\" x=\"268.5\" y=\"-197.3\" font-family=\"Times,serif\" font-size=\"14.00\" fill=\"#000000\">input:</text>\n<polyline fill=\"none\" stroke=\"#000000\" points=\"239.5,-189.5 297.5,-189.5 \"/>\n<text text-anchor=\"middle\" x=\"268.5\" y=\"-174.3\" font-family=\"Times,serif\" font-size=\"14.00\" fill=\"#000000\">output:</text>\n<polyline fill=\"none\" stroke=\"#000000\" points=\"297.5,-166.5 297.5,-212.5 \"/>\n<text text-anchor=\"middle\" x=\"345\" y=\"-197.3\" font-family=\"Times,serif\" font-size=\"14.00\" fill=\"#000000\">(None, 1536)</text>\n<polyline fill=\"none\" stroke=\"#000000\" points=\"297.5,-189.5 392.5,-189.5 \"/>\n<text text-anchor=\"middle\" x=\"345\" y=\"-174.3\" font-family=\"Times,serif\" font-size=\"14.00\" fill=\"#000000\">(None, 100)</text>\n</g>\n<!-- 140435911612400&#45;&gt;140435911612736 -->\n<g id=\"edge7\" class=\"edge\">\n<title>140435911612400-&gt;140435911612736</title>\n<path fill=\"none\" stroke=\"#000000\" d=\"M290,-249.3799C290,-241.1745 290,-231.7679 290,-222.8786\"/>\n<polygon fill=\"#000000\" stroke=\"#000000\" points=\"293.5001,-222.784 290,-212.784 286.5001,-222.784 293.5001,-222.784\"/>\n</g>\n<!-- 140435911613648 -->\n<g id=\"node9\" class=\"node\">\n<title>140435911613648</title>\n<polygon fill=\"none\" stroke=\"#000000\" points=\"185,-83.5 185,-129.5 395,-129.5 395,-83.5 185,-83.5\"/>\n<text text-anchor=\"middle\" x=\"217.5\" y=\"-114.3\" font-family=\"Times,serif\" font-size=\"14.00\" fill=\"#000000\">dropout</text>\n<polyline fill=\"none\" stroke=\"#000000\" points=\"185,-106.5 250,-106.5 \"/>\n<text text-anchor=\"middle\" x=\"217.5\" y=\"-91.3\" font-family=\"Times,serif\" font-size=\"14.00\" fill=\"#000000\">Dropout</text>\n<polyline fill=\"none\" stroke=\"#000000\" points=\"250,-83.5 250,-129.5 \"/>\n<text text-anchor=\"middle\" x=\"279\" y=\"-114.3\" font-family=\"Times,serif\" font-size=\"14.00\" fill=\"#000000\">input:</text>\n<polyline fill=\"none\" stroke=\"#000000\" points=\"250,-106.5 308,-106.5 \"/>\n<text text-anchor=\"middle\" x=\"279\" y=\"-91.3\" font-family=\"Times,serif\" font-size=\"14.00\" fill=\"#000000\">output:</text>\n<polyline fill=\"none\" stroke=\"#000000\" points=\"308,-83.5 308,-129.5 \"/>\n<text text-anchor=\"middle\" x=\"351.5\" y=\"-114.3\" font-family=\"Times,serif\" font-size=\"14.00\" fill=\"#000000\">(None, 100)</text>\n<polyline fill=\"none\" stroke=\"#000000\" points=\"308,-106.5 395,-106.5 \"/>\n<text text-anchor=\"middle\" x=\"351.5\" y=\"-91.3\" font-family=\"Times,serif\" font-size=\"14.00\" fill=\"#000000\">(None, 100)</text>\n</g>\n<!-- 140435911612736&#45;&gt;140435911613648 -->\n<g id=\"edge8\" class=\"edge\">\n<title>140435911612736-&gt;140435911613648</title>\n<path fill=\"none\" stroke=\"#000000\" d=\"M290,-166.3799C290,-158.1745 290,-148.7679 290,-139.8786\"/>\n<polygon fill=\"#000000\" stroke=\"#000000\" points=\"293.5001,-139.784 290,-129.784 286.5001,-139.784 293.5001,-139.784\"/>\n</g>\n<!-- 140435904295648 -->\n<g id=\"node10\" class=\"node\">\n<title>140435904295648</title>\n<polygon fill=\"none\" stroke=\"#000000\" points=\"185.5,-.5 185.5,-46.5 394.5,-46.5 394.5,-.5 185.5,-.5\"/>\n<text text-anchor=\"middle\" x=\"217.5\" y=\"-31.3\" font-family=\"Times,serif\" font-size=\"14.00\" fill=\"#000000\">dense_2</text>\n<polyline fill=\"none\" stroke=\"#000000\" points=\"185.5,-23.5 249.5,-23.5 \"/>\n<text text-anchor=\"middle\" x=\"217.5\" y=\"-8.3\" font-family=\"Times,serif\" font-size=\"14.00\" fill=\"#000000\">Dense</text>\n<polyline fill=\"none\" stroke=\"#000000\" points=\"249.5,-.5 249.5,-46.5 \"/>\n<text text-anchor=\"middle\" x=\"278.5\" y=\"-31.3\" font-family=\"Times,serif\" font-size=\"14.00\" fill=\"#000000\">input:</text>\n<polyline fill=\"none\" stroke=\"#000000\" points=\"249.5,-23.5 307.5,-23.5 \"/>\n<text text-anchor=\"middle\" x=\"278.5\" y=\"-8.3\" font-family=\"Times,serif\" font-size=\"14.00\" fill=\"#000000\">output:</text>\n<polyline fill=\"none\" stroke=\"#000000\" points=\"307.5,-.5 307.5,-46.5 \"/>\n<text text-anchor=\"middle\" x=\"351\" y=\"-31.3\" font-family=\"Times,serif\" font-size=\"14.00\" fill=\"#000000\">(None, 100)</text>\n<polyline fill=\"none\" stroke=\"#000000\" points=\"307.5,-23.5 394.5,-23.5 \"/>\n<text text-anchor=\"middle\" x=\"351\" y=\"-8.3\" font-family=\"Times,serif\" font-size=\"14.00\" fill=\"#000000\">(None, 1)</text>\n</g>\n<!-- 140435911613648&#45;&gt;140435904295648 -->\n<g id=\"edge9\" class=\"edge\">\n<title>140435911613648-&gt;140435904295648</title>\n<path fill=\"none\" stroke=\"#000000\" d=\"M290,-83.3799C290,-75.1745 290,-65.7679 290,-56.8786\"/>\n<polygon fill=\"#000000\" stroke=\"#000000\" points=\"293.5001,-56.784 290,-46.784 286.5001,-56.784 293.5001,-56.784\"/>\n</g>\n</g>\n</svg>"
          },
          "metadata": {},
          "execution_count": 32
        }
      ],
      "source": [
        "SVG(model_to_dot( model,  show_shapes=True, show_layer_names=True, dpi=65).create(prog='dot', format='svg'))"
      ]
    },
    {
      "cell_type": "code",
      "execution_count": 33,
      "metadata": {
        "colab": {
          "base_uri": "https://localhost:8080/"
        },
        "id": "uBe6RkXW5LK4",
        "outputId": "ebc9cd29-53e0-404b-be9f-f0962c3cb8ef"
      },
      "outputs": [
        {
          "output_type": "stream",
          "name": "stdout",
          "text": [
            "Model: \"model\"\n",
            "__________________________________________________________________________________________________\n",
            " Layer (type)                   Output Shape         Param #     Connected to                     \n",
            "==================================================================================================\n",
            " User_Input (InputLayer)        [(None, 1)]          0           []                               \n",
            "                                                                                                  \n",
            " Recipe_Input (InputLayer)      [(None, 1)]          0           []                               \n",
            "                                                                                                  \n",
            " User_Embedding (Embedding)     (None, 1, 768)       29379840    ['User_Input[0][0]']             \n",
            "                                                                                                  \n",
            " Recipe_Embedding (Embedding)   (None, 1, 768)       15018240    ['Recipe_Input[0][0]']           \n",
            "                                                                                                  \n",
            " User_Vector (Flatten)          (None, 768)          0           ['User_Embedding[0][0]']         \n",
            "                                                                                                  \n",
            " Recipe_Vector (Flatten)        (None, 768)          0           ['Recipe_Embedding[0][0]']       \n",
            "                                                                                                  \n",
            " Concantenate (Concatenate)     (None, 1536)         0           ['User_Vector[0][0]',            \n",
            "                                                                  'Recipe_Vector[0][0]']          \n",
            "                                                                                                  \n",
            " dense (Dense)                  (None, 100)          153700      ['Concantenate[0][0]']           \n",
            "                                                                                                  \n",
            " dropout (Dropout)              (None, 100)          0           ['dense[0][0]']                  \n",
            "                                                                                                  \n",
            " dense_2 (Dense)                (None, 1)            101         ['dropout[0][0]']                \n",
            "                                                                                                  \n",
            "==================================================================================================\n",
            "Total params: 44,551,881\n",
            "Trainable params: 44,551,881\n",
            "Non-trainable params: 0\n",
            "__________________________________________________________________________________________________\n"
          ]
        }
      ],
      "source": [
        "model.summary()"
      ]
    },
    {
      "cell_type": "code",
      "execution_count": 34,
      "metadata": {
        "id": "h7VhoGa6uGz2"
      },
      "outputs": [],
      "source": [
        "# !pip install tensorflow_ranking"
      ]
    },
    {
      "cell_type": "markdown",
      "source": [
        "Intializing the metrics - NDCG and MRR and loss function - MAE to train the model"
      ],
      "metadata": {
        "id": "dZluI14mBv1m"
      }
    },
    {
      "cell_type": "code",
      "execution_count": 35,
      "metadata": {
        "id": "08jKNd_o5LK4"
      },
      "outputs": [],
      "source": [
        "import tensorflow_ranking as tfr\n",
        "from keras.metrics import top_k_categorical_accuracy,MeanAbsoluteError\n",
        "eval_metrics = [\n",
        "    tfr.keras.metrics.get(key=\"ndcg\", name=\"metric/ndcg\", ragged=False),\n",
        "    tfr.keras.metrics.get(key=\"mrr\", name=\"metric/mrr\", ragged=False)\n",
        "]\n",
        "optimizer = adam_v2.Adam(learning_rate = 0.005)\n",
        "\n",
        "model.compile(loss='mean_squared_error', optimizer = optimizer,metrics=[keras.metrics.MeanAbsoluteError(),'top_k_categorical_accuracy',eval_metrics])"
      ]
    },
    {
      "cell_type": "code",
      "execution_count": 36,
      "metadata": {
        "id": "yukf_p0h5LK4"
      },
      "outputs": [],
      "source": [
        "batch_size = 128\n",
        "epochs = 10"
      ]
    },
    {
      "cell_type": "code",
      "execution_count": 37,
      "metadata": {
        "colab": {
          "base_uri": "https://localhost:8080/"
        },
        "id": "NK0FG9ri5LK5",
        "outputId": "cef3af83-24bf-4e79-d3ef-2602a96fcc77"
      },
      "outputs": [
        {
          "output_type": "execute_result",
          "data": {
            "text/plain": [
              "20818    5\n",
              "51366    5\n",
              "61821    5\n",
              "38292    5\n",
              "36183    5\n",
              "Name: rating, dtype: int64"
            ]
          },
          "metadata": {},
          "execution_count": 37
        }
      ],
      "source": [
        "y_test.head()"
      ]
    },
    {
      "cell_type": "markdown",
      "source": [
        "Training the model"
      ],
      "metadata": {
        "id": "YX_Ijf4tB08Z"
      }
    },
    {
      "cell_type": "code",
      "execution_count": 38,
      "metadata": {
        "id": "BSvv64cp5LK5",
        "colab": {
          "base_uri": "https://localhost:8080/"
        },
        "outputId": "bffd5ffc-e521-4766-8111-4b6e252c7702"
      },
      "outputs": [
        {
          "output_type": "stream",
          "name": "stdout",
          "text": [
            "Epoch 1/10\n",
            "625/625 - 21s - loss: 2.0058 - mean_absolute_error: 1.0039 - top_k_categorical_accuracy: 1.0000 - metric/ndcg: 0.9486 - metric/mrr: 0.9486 - val_loss: 1.6069 - val_mean_absolute_error: 0.8536 - val_top_k_categorical_accuracy: 1.0000 - val_metric/ndcg: 0.9466 - val_metric/mrr: 0.9466 - 21s/epoch - 34ms/step\n",
            "Epoch 2/10\n",
            "625/625 - 18s - loss: 1.3064 - mean_absolute_error: 0.8192 - top_k_categorical_accuracy: 1.0000 - metric/ndcg: 0.9486 - metric/mrr: 0.9486 - val_loss: 1.6433 - val_mean_absolute_error: 0.8993 - val_top_k_categorical_accuracy: 1.0000 - val_metric/ndcg: 0.9466 - val_metric/mrr: 0.9466 - 18s/epoch - 28ms/step\n",
            "Epoch 3/10\n",
            "625/625 - 18s - loss: 0.7771 - mean_absolute_error: 0.6269 - top_k_categorical_accuracy: 1.0000 - metric/ndcg: 0.9486 - metric/mrr: 0.9486 - val_loss: 1.6609 - val_mean_absolute_error: 0.9309 - val_top_k_categorical_accuracy: 1.0000 - val_metric/ndcg: 0.9466 - val_metric/mrr: 0.9466 - 18s/epoch - 28ms/step\n",
            "Epoch 4/10\n",
            "625/625 - 18s - loss: 0.6128 - mean_absolute_error: 0.5466 - top_k_categorical_accuracy: 1.0000 - metric/ndcg: 0.9486 - metric/mrr: 0.9486 - val_loss: 1.6513 - val_mean_absolute_error: 0.8669 - val_top_k_categorical_accuracy: 1.0000 - val_metric/ndcg: 0.9466 - val_metric/mrr: 0.9466 - 18s/epoch - 28ms/step\n",
            "Epoch 5/10\n",
            "625/625 - 18s - loss: 0.5185 - mean_absolute_error: 0.4954 - top_k_categorical_accuracy: 1.0000 - metric/ndcg: 0.9486 - metric/mrr: 0.9486 - val_loss: 1.6432 - val_mean_absolute_error: 0.8718 - val_top_k_categorical_accuracy: 1.0000 - val_metric/ndcg: 0.9466 - val_metric/mrr: 0.9466 - 18s/epoch - 28ms/step\n",
            "Epoch 6/10\n",
            "625/625 - 17s - loss: 0.4630 - mean_absolute_error: 0.4611 - top_k_categorical_accuracy: 1.0000 - metric/ndcg: 0.9486 - metric/mrr: 0.9486 - val_loss: 1.6844 - val_mean_absolute_error: 0.8961 - val_top_k_categorical_accuracy: 1.0000 - val_metric/ndcg: 0.9466 - val_metric/mrr: 0.9466 - 17s/epoch - 27ms/step\n",
            "Epoch 7/10\n",
            "625/625 - 18s - loss: 0.4333 - mean_absolute_error: 0.4387 - top_k_categorical_accuracy: 1.0000 - metric/ndcg: 0.9486 - metric/mrr: 0.9486 - val_loss: 1.6716 - val_mean_absolute_error: 0.8290 - val_top_k_categorical_accuracy: 1.0000 - val_metric/ndcg: 0.9466 - val_metric/mrr: 0.9466 - 18s/epoch - 28ms/step\n",
            "Epoch 8/10\n",
            "625/625 - 18s - loss: 0.4054 - mean_absolute_error: 0.4214 - top_k_categorical_accuracy: 1.0000 - metric/ndcg: 0.9486 - metric/mrr: 0.9486 - val_loss: 1.6839 - val_mean_absolute_error: 0.8251 - val_top_k_categorical_accuracy: 1.0000 - val_metric/ndcg: 0.9466 - val_metric/mrr: 0.9466 - 18s/epoch - 28ms/step\n",
            "Epoch 9/10\n",
            "625/625 - 18s - loss: 0.3775 - mean_absolute_error: 0.4036 - top_k_categorical_accuracy: 1.0000 - metric/ndcg: 0.9486 - metric/mrr: 0.9486 - val_loss: 1.7072 - val_mean_absolute_error: 0.8418 - val_top_k_categorical_accuracy: 1.0000 - val_metric/ndcg: 0.9466 - val_metric/mrr: 0.9466 - 18s/epoch - 28ms/step\n",
            "Epoch 10/10\n",
            "625/625 - 18s - loss: 0.3665 - mean_absolute_error: 0.3961 - top_k_categorical_accuracy: 1.0000 - metric/ndcg: 0.9486 - metric/mrr: 0.9486 - val_loss: 1.7633 - val_mean_absolute_error: 0.8252 - val_top_k_categorical_accuracy: 1.0000 - val_metric/ndcg: 0.9466 - val_metric/mrr: 0.9466 - 18s/epoch - 28ms/step\n"
          ]
        }
      ],
      "source": [
        "history = model.fit(x=[x_train['userId'], x_train['recipeId']], y=y_train, batch_size= batch_size, epochs=epochs, \n",
        "                    verbose= 2,validation_data=([x_test['userId'], x_test['recipeId']], y_test))"
      ]
    },
    {
      "cell_type": "code",
      "execution_count": 39,
      "metadata": {
        "id": "YI7zkluS5LK5",
        "colab": {
          "base_uri": "https://localhost:8080/",
          "height": 279
        },
        "outputId": "9163ccb9-d525-457b-be5a-fac79eaa94cf"
      },
      "outputs": [
        {
          "output_type": "display_data",
          "data": {
            "text/plain": [
              "<Figure size 576x288 with 1 Axes>"
            ],
            "image/png": "[encoded data removed]"
          },
          "metadata": {
            "needs_background": "light"
          }
        }
      ],
      "source": [
        "# Get training and test loss histories\n",
        "training_loss = history.history['loss']\n",
        "test_loss = history.history['val_loss']\n",
        "\n",
        "# Create count of the number of epochs\n",
        "epoch_count = range(1, len(training_loss) + 1)\n",
        "\n",
        "# Visualize loss history\n",
        "plt.figure(figsize = (8,4))\n",
        "plt.plot(epoch_count, training_loss, 'r--')\n",
        "plt.plot(epoch_count, test_loss, 'b-')\n",
        "plt.legend(['Training Loss', 'Test Loss'])\n",
        "plt.xlabel('Epoch')\n",
        "plt.ylabel('Loss')\n",
        "plt.show()"
      ]
    },
    {
      "cell_type": "code",
      "execution_count": 40,
      "metadata": {
        "id": "kVg3xVMD5LK5",
        "colab": {
          "base_uri": "https://localhost:8080/"
        },
        "outputId": "61e7837d-928a-4ad5-acf9-9f77a952bf36"
      },
      "outputs": [
        {
          "output_type": "stream",
          "name": "stdout",
          "text": [
            "625/625 [==============================] - 4s 7ms/step - loss: 1.7633 - mean_absolute_error: 0.8252 - top_k_categorical_accuracy: 1.0000 - metric/ndcg: 0.9466 - metric/mrr: 0.9466\n"
          ]
        },
        {
          "output_type": "execute_result",
          "data": {
            "text/plain": [
              "[1.763315200805664,\n",
              " 0.8252237439155579,\n",
              " 1.0,\n",
              " 0.9465500116348267,\n",
              " 0.9465500116348267]"
            ]
          },
          "metadata": {},
          "execution_count": 40
        }
      ],
      "source": [
        "score = model.evaluate([x_test['userId'], x_test['recipeId']], y_test)\n",
        "score\n",
        "# print()\n",
        "# print('RMSE: {:.4f}'.format(np.sqrt(score)))"
      ]
    },
    {
      "cell_type": "markdown",
      "source": [
        "Extracting the newly generated embeddings"
      ],
      "metadata": {
        "id": "vOnLqBXrB3Yu"
      }
    },
    {
      "cell_type": "code",
      "execution_count": 41,
      "metadata": {
        "id": "bOfXm5dvFyoG"
      },
      "outputs": [],
      "source": [
        "embedding_layer = model.get_layer(name=\"Recipe_Embedding\")\n",
        "embeddings_new = embedding_layer.get_weights()"
      ]
    },
    {
      "cell_type": "code",
      "execution_count": 42,
      "metadata": {
        "id": "bJGv_BGw53n9",
        "colab": {
          "base_uri": "https://localhost:8080/"
        },
        "outputId": "6e34e641-7578-4633-d41a-f3619b64ce99"
      },
      "outputs": [
        {
          "output_type": "execute_result",
          "data": {
            "text/plain": [
              "19555"
            ]
          },
          "metadata": {},
          "execution_count": 42
        }
      ],
      "source": [
        "len(embeddings_new[0])"
      ]
    },
    {
      "cell_type": "code",
      "execution_count": 43,
      "metadata": {
        "id": "PbquUNdgAlrD",
        "colab": {
          "base_uri": "https://localhost:8080/"
        },
        "outputId": "21525b0e-310e-48fb-e3b8-24e2f95cd5c0"
      },
      "outputs": [
        {
          "output_type": "execute_result",
          "data": {
            "text/plain": [
              "768"
            ]
          },
          "metadata": {},
          "execution_count": 43
        }
      ],
      "source": [
        "len(recipe_embedding_matrix[0])"
      ]
    },
    {
      "cell_type": "markdown",
      "source": [
        "Training the KNN model on old embeddings"
      ],
      "metadata": {
        "id": "dlWEVukHB8nS"
      }
    },
    {
      "cell_type": "code",
      "execution_count": 45,
      "metadata": {
        "id": "6UxOAlzdDGk6",
        "colab": {
          "base_uri": "https://localhost:8080/"
        },
        "outputId": "f5b056d9-c14d-452e-83c7-0e4ebaf39163"
      },
      "outputs": [
        {
          "output_type": "execute_result",
          "data": {
            "text/plain": [
              "NearestNeighbors(n_neighbors=10)"
            ]
          },
          "metadata": {},
          "execution_count": 45
        }
      ],
      "source": [
        "from sklearn.neighbors import NearestNeighbors\n",
        "knn = NearestNeighbors(n_neighbors=10)\n",
        "knn.fit(recipe_embedding_matrix) #embedding vectors\n",
        "# # select indices of k nearest neighbours\n",
        "# neighbours = knn.kneighbors([x], return_distance = False)\n",
        "# print(neighbours)"
      ]
    },
    {
      "cell_type": "code",
      "execution_count": 49,
      "metadata": {
        "id": "Ghd4CQwB754Y"
      },
      "outputs": [],
      "source": [
        "from sklearn.metrics import ndcg_score"
      ]
    },
    {
      "cell_type": "markdown",
      "source": [
        "Evaluating the results - NDCG, MRR and Top_K"
      ],
      "metadata": {
        "id": "pFW4RzhQCA5e"
      }
    },
    {
      "cell_type": "code",
      "execution_count": null,
      "metadata": {
        "id": "bQ-gb4KLRtPX"
      },
      "outputs": [],
      "source": [
        "mrr = 0\n",
        "top_k = 0\n",
        "ndcg = 0\n",
        "for i in range(len(recipe_embedding_matrix)):\n",
        "  neighbours = knn.kneighbors([embeddings_new[0][i]], return_distance = False)\n",
        "  neighbours_old = knn.kneighbors([recipe_embedding_matrix[i]], return_distance = False)\n",
        "  ndcg += ndcg_score(neighbours_old,neighbours)\n",
        "  count = 0\n",
        "  for i in range(len(neighbours[0])):\n",
        "    if neighbours[0][i] in neighbours_old[0:4] and i!=neighbours[0][i]:\n",
        "      count+=1\n",
        "    if neighbours[0][i] in neighbours_old[0] and i!=neighbours[0][i]:\n",
        "      mrr+=1/(i+1)\n",
        "      break\n",
        "  # print(top_k)\n",
        "  top_k +=count\n",
        "print(\"NDCG:\",ndcg/len(recipe_embedding_matrix))\n",
        "print(\"Top_K:\",top_k/len(recipe_embedding_matrix))\n",
        "print(\"MRR:\",mrr/len(recipe_embedding_matrix))\n",
        "# NDCG: 0.9385415408564605\n",
        "# Top_K: 0.669677831756584\n",
        "# MRR: 0.648334205923037"
      ]
    }
  ],
  "metadata": {
    "accelerator": "GPU",
    "colab": {
      "provenance": []
    },
    "gpuClass": "standard",
    "kernelspec": {
      "display_name": "Python 3",
      "language": "python",
      "name": "python3"
    },
    "language_info": {
      "codemirror_mode": {
        "name": "ipython",
        "version": 3
      },
      "file_extension": ".py",
      "mimetype": "text/x-python",
      "name": "python",
      "nbconvert_exporter": "python",
      "pygments_lexer": "ipython3",
      "version": "3.7.12"
    }
  },
  "nbformat": 4,
  "nbformat_minor": 0
}